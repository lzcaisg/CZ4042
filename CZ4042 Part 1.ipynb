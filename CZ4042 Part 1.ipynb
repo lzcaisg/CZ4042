{
 "cells": [
  {
   "cell_type": "code",
   "execution_count": 1,
   "metadata": {},
   "outputs": [
    {
     "name": "stderr",
     "output_type": "stream",
     "text": [
      "C:\\Users\\lzcai\\Anaconda3\\lib\\site-packages\\h5py\\__init__.py:36: FutureWarning: Conversion of the second argument of issubdtype from `float` to `np.floating` is deprecated. In future, it will be treated as `np.float64 == np.dtype(float).type`.\n",
      "  from ._conv import register_converters as _register_converters\n"
     ]
    }
   ],
   "source": [
    "import math\n",
    "import tensorflow as tf\n",
    "import numpy as np\n",
    "import pylab as plt"
   ]
  },
  {
   "cell_type": "code",
   "execution_count": 2,
   "metadata": {},
   "outputs": [],
   "source": [
    "# scale data\n",
    "def scale(X, X_min, X_max):\n",
    "    return (X - X_min)/(X_max-X_min)"
   ]
  },
  {
   "cell_type": "code",
   "execution_count": 36,
   "metadata": {},
   "outputs": [],
   "source": [
    "# Initialize Values\n",
    "NUM_FEATURES = 36\n",
    "NUM_CLASSES = 6\n",
    "NUM_HIDDEN = 10\n",
    "\n",
    "learning_rate = 0.01\n",
    "epochs = 1000\n",
    "batch_size = 32\n",
    "num_neurons = 10\n",
    "seed = 10\n",
    "beta = pow(10, -6)\n",
    "np.random.seed(seed)\n",
    "\n",
    "train_file_name = 'sat_train.txt'\n",
    "test_file_name = 'sat_test.txt'"
   ]
  },
  {
   "cell_type": "code",
   "execution_count": 22,
   "metadata": {},
   "outputs": [],
   "source": [
    "def process_inputs_from_file(fileName): # Read in data\n",
    "    inputs = np.loadtxt(fileName, delimiter=' ')\n",
    "    X, _Y = inputs[:, :NUM_FEATURES], inputs[:, -1].astype(int)\n",
    "    X = scale(X, np.min(X, axis=0), np.max(X, axis=0))\n",
    "    _Y[_Y == 7] = 6 # Actually dont have, just in case have error data\n",
    "\n",
    "    Y = np.zeros((_Y.shape[0], NUM_CLASSES))\n",
    "    Y[np.arange(_Y.shape[0]), _Y - 1] = 1 #one hot matrix\n",
    "    return X, Y"
   ]
  },
  {
   "cell_type": "raw",
   "metadata": {},
   "source": [
    "#read train data\n",
    "train_input = np.loadtxt('sat_train.txt',delimiter=' ')\n",
    "trainX, train_Y = train_input[:,:36], train_input[:,-1].astype(int)\n",
    "trainX = scale(trainX, np.min(trainX, axis=0), np.max(trainX, axis=0))\n",
    "train_Y[train_Y == 7] = 6\n",
    "\n",
    "trainY = np.zeros((train_Y.shape[0], NUM_CLASSES))\n",
    "trainY[np.arange(train_Y.shape[0]), train_Y-1] = 1 #one hot matrix"
   ]
  },
  {
   "cell_type": "code",
   "execution_count": 23,
   "metadata": {},
   "outputs": [],
   "source": [
    "trainX, trainY = process_inputs_from_file(train_file_name)\n",
    "testX, textY = process_inputs_from_file(test_file_name)"
   ]
  },
  {
   "cell_type": "code",
   "execution_count": 11,
   "metadata": {},
   "outputs": [
    {
     "data": {
      "text/plain": [
       "array([ 92., 115., 120.,  94.,  84., 102., 106.,  79.,  84., 102., 102.,\n",
       "        83., 101., 126., 133., 103.,  92., 112., 118.,  85.,  84., 103.,\n",
       "       104.,  81., 102., 126., 134., 104.,  88., 121., 128., 100.,  84.,\n",
       "       107., 113.,  87.])"
      ]
     },
     "execution_count": 11,
     "metadata": {},
     "output_type": "execute_result"
    }
   ],
   "source": [
    "train_input[0,:36]"
   ]
  },
  {
   "cell_type": "code",
   "execution_count": 13,
   "metadata": {},
   "outputs": [
    {
     "data": {
      "text/plain": [
       "array([ 92., 115., 120.,  94.,  84., 102., 106.,  79.,  84., 102., 102.,\n",
       "        83., 101., 126., 133., 103.,  92., 112., 118.,  85.,  84., 103.,\n",
       "       104.,  81., 102., 126., 134., 104.,  88., 121., 128., 100.,  84.,\n",
       "       107., 113.,  87.,   3.])"
      ]
     },
     "execution_count": 13,
     "metadata": {},
     "output_type": "execute_result"
    }
   ],
   "source": [
    "train_input[0]"
   ]
  },
  {
   "cell_type": "code",
   "execution_count": null,
   "metadata": {},
   "outputs": [],
   "source": []
  },
  {
   "cell_type": "raw",
   "metadata": {},
   "source": [
    "# experiment with small datasets\n",
    "trainX = trainX[:1000]\n",
    "trainY = trainY[:1000]\n",
    "\n",
    "n = trainX.shape[0]"
   ]
  },
  {
   "cell_type": "code",
   "execution_count": 28,
   "metadata": {},
   "outputs": [],
   "source": [
    "def init_weights (feature_no, neuron_no, logistic = True):\n",
    "    # From eg.5.2\n",
    "    n_in = feature_no\n",
    "    n_out = neuron_no\n",
    "    W_values = np.asarray(np.random.uniform(low=-np.sqrt(6. / (n_in + n_out)),\n",
    "                                            high=np.sqrt(6. / (n_in + n_out)),\n",
    "                                            size=(n_in, n_out)))\n",
    "    if logistic == True:\n",
    "        W_values *= 4\n",
    "    return(tf.Variable(W_values, dtype=tf.float32))"
   ]
  },
  {
   "cell_type": "code",
   "execution_count": 29,
   "metadata": {},
   "outputs": [],
   "source": [
    "def init_bias(neuron_no = 1):\n",
    "    # From eg.5.2\n",
    "    return(tf.Variable(np.zeros(neuron_no), dtype=tf.float32))"
   ]
  },
  {
   "cell_type": "code",
   "execution_count": 30,
   "metadata": {},
   "outputs": [],
   "source": [
    "V = init_weights(NUM_HIDDEN, NUM_CLASSES)\n",
    "c = init_bias(NUM_CLASSES)\n",
    "W = init_weights(NUM_FEATURES, NUM_HIDDEN)\n",
    "b = init_bias(NUM_HIDDEN)"
   ]
  },
  {
   "cell_type": "code",
   "execution_count": 42,
   "metadata": {},
   "outputs": [],
   "source": [
    "x = tf.placeholder(tf.float32, trainX.shape)\n",
    "d = tf.placeholder(tf.float32, trainY.shape)\n",
    "\n",
    "z = tf.matmul(x, W) + b\n",
    "h = tf.nn.sigmoid(z)\n",
    "y = tf.matmul(h, V) + c"
   ]
  },
  {
   "cell_type": "code",
   "execution_count": 43,
   "metadata": {},
   "outputs": [],
   "source": [
    "cross_entropy = tf.nn.softmax_cross_entropy_with_logits_v2(labels=y_, \n",
    "    logits=logits)\n",
    "regularization = tf.nn.l2_loss(V) + tf.nn.l2_loss(W) \n",
    "J = tf.reduce_mean(cross_entropy + beta * regularization)"
   ]
  },
  {
   "cell_type": "code",
   "execution_count": 44,
   "metadata": {},
   "outputs": [],
   "source": [
    "optimizer = tf.train.GradientDescentOptimizer(learning_rate)\n",
    "train_op = optimizer.minimize(J)"
   ]
  },
  {
   "cell_type": "code",
   "execution_count": 45,
   "metadata": {},
   "outputs": [],
   "source": [
    "correct_prediction = tf.cast(tf.equal(tf.argmax(logits, 1), \n",
    "                                      tf.argmax(y_, 1)), tf.float32)\n",
    "accuracy = tf.reduce_mean(correct_prediction)"
   ]
  },
  {
   "cell_type": "code",
   "execution_count": 46,
   "metadata": {},
   "outputs": [],
   "source": [
    "grad_u = -(d - y)\n",
    "grad_V = tf.matmul(tf.transpose(h), grad_u)\n",
    "grad_c = tf.reduce_sum(grad_u, axis=0)"
   ]
  },
  {
   "cell_type": "code",
   "execution_count": 47,
   "metadata": {},
   "outputs": [],
   "source": [
    "dh = h*(1-h)\n",
    "grad_z = tf.matmul(grad_u, tf.transpose(V))*dh\n",
    "grad_W = tf.matmul(tf.transpose(x), grad_z)\n",
    "grad_b = tf.reduce_sum(grad_z, axis=0)"
   ]
  },
  {
   "cell_type": "code",
   "execution_count": 49,
   "metadata": {},
   "outputs": [],
   "source": [
    "W_new = W.assign(W - learning_rate*grad_W)\n",
    "b_new = b.assign(b - learning_rate*grad_b)\n",
    "V_new = V.assign(V - learning_rate*grad_V)\n",
    "c_new = c.assign(c - learning_rate*grad_c)"
   ]
  },
  {
   "cell_type": "code",
   "execution_count": 50,
   "metadata": {},
   "outputs": [],
   "source": [
    "optimizer = tf.train.GradientDescentOptimizer(learning_rate)\n",
    "global_step = tf.Variable(0, name='global_step', trainable=False)\n",
    "train_op = optimizer.minimize(loss, global_step=global_step)"
   ]
  },
  {
   "cell_type": "code",
   "execution_count": 52,
   "metadata": {},
   "outputs": [
    {
     "name": "stdout",
     "output_type": "stream",
     "text": [
      "W: [[-1.598055  ]\n",
      " [ 0.03927797]\n",
      " [ 1.0071237 ]\n",
      " [ 0.36250824]\n",
      " [ 0.71439564]\n",
      " [-0.67048144]\n",
      " [ 1.3458798 ]\n",
      " [ 0.6912664 ]\n",
      " [ 0.13705876]\n",
      " [-1.1527667 ]\n",
      " [-0.40803894]\n",
      " [ 0.56097996]\n",
      " [-0.18738729]\n",
      " [-0.21257716]\n",
      " [ 0.3793921 ]\n",
      " [ 0.04232549]\n",
      " [ 0.4845119 ]\n",
      " [ 0.32550195]\n",
      " [ 0.9832915 ]\n",
      " [ 0.06973736]\n",
      " [ 1.3164824 ]\n",
      " [-0.5823398 ]\n",
      " [-1.3193552 ]\n",
      " [-0.64205456]\n",
      " [-1.2435683 ]\n",
      " [ 1.058863  ]\n",
      " [-1.4596957 ]\n",
      " [ 0.40684023]\n",
      " [ 0.15330113]\n",
      " [ 1.0285987 ]\n",
      " [-0.96985525]\n",
      " [ 1.1496108 ]\n",
      " [-0.4779083 ]\n",
      " [ 0.82036   ]\n",
      " [-0.65731937]\n",
      " [ 1.2368702 ]], b: [0.]\n",
      "V:[[-2.2363157  1.9296366 -2.4507506 -3.0489862  1.3728788  3.3580854]], c:[0. 0. 0. 0. 0. 0.]\n"
     ]
    }
   ],
   "source": [
    "init = tf.global_variables_initializer()\n",
    "sess = tf.Session()\n",
    "sess.run(init) # reset values to wrong\n",
    "W_, b_ = sess.run([W, b])\n",
    "print('W: {}, b: {}'.format(W_, b_))\n",
    "V_, c_ = sess.run([V, c])\n",
    "print('V:{}, c:{}'.format(V_, c_))"
   ]
  },
  {
   "cell_type": "code",
   "execution_count": 57,
   "metadata": {},
   "outputs": [
    {
     "ename": "InvalidArgumentError",
     "evalue": "You must feed a value for placeholder tensor 'Placeholder' with dtype float and shape [?,36]\n\t [[Node: Placeholder = Placeholder[dtype=DT_FLOAT, shape=[?,36], _device=\"/job:localhost/replica:0/task:0/device:GPU:0\"]()]]\n\t [[Node: Variable_2/read/_31 = _Recv[client_terminated=false, recv_device=\"/job:localhost/replica:0/task:0/device:CPU:0\", send_device=\"/job:localhost/replica:0/task:0/device:GPU:0\", send_device_incarnation=1, tensor_name=\"edge_9_Variable_2/read\", tensor_type=DT_FLOAT, _device=\"/job:localhost/replica:0/task:0/device:CPU:0\"]()]]\n\nCaused by op 'Placeholder', defined at:\n  File \"C:\\Users\\lzcai\\Anaconda3\\lib\\runpy.py\", line 193, in _run_module_as_main\n    \"__main__\", mod_spec)\n  File \"C:\\Users\\lzcai\\Anaconda3\\lib\\runpy.py\", line 85, in _run_code\n    exec(code, run_globals)\n  File \"C:\\Users\\lzcai\\Anaconda3\\lib\\site-packages\\ipykernel_launcher.py\", line 16, in <module>\n    app.launch_new_instance()\n  File \"C:\\Users\\lzcai\\Anaconda3\\lib\\site-packages\\traitlets\\config\\application.py\", line 658, in launch_instance\n    app.start()\n  File \"C:\\Users\\lzcai\\Anaconda3\\lib\\site-packages\\ipykernel\\kernelapp.py\", line 486, in start\n    self.io_loop.start()\n  File \"C:\\Users\\lzcai\\Anaconda3\\lib\\site-packages\\tornado\\platform\\asyncio.py\", line 127, in start\n    self.asyncio_loop.run_forever()\n  File \"C:\\Users\\lzcai\\Anaconda3\\lib\\asyncio\\base_events.py\", line 422, in run_forever\n    self._run_once()\n  File \"C:\\Users\\lzcai\\Anaconda3\\lib\\asyncio\\base_events.py\", line 1432, in _run_once\n    handle._run()\n  File \"C:\\Users\\lzcai\\Anaconda3\\lib\\asyncio\\events.py\", line 145, in _run\n    self._callback(*self._args)\n  File \"C:\\Users\\lzcai\\Anaconda3\\lib\\site-packages\\tornado\\platform\\asyncio.py\", line 117, in _handle_events\n    handler_func(fileobj, events)\n  File \"C:\\Users\\lzcai\\Anaconda3\\lib\\site-packages\\tornado\\stack_context.py\", line 276, in null_wrapper\n    return fn(*args, **kwargs)\n  File \"C:\\Users\\lzcai\\Anaconda3\\lib\\site-packages\\zmq\\eventloop\\zmqstream.py\", line 450, in _handle_events\n    self._handle_recv()\n  File \"C:\\Users\\lzcai\\Anaconda3\\lib\\site-packages\\zmq\\eventloop\\zmqstream.py\", line 480, in _handle_recv\n    self._run_callback(callback, msg)\n  File \"C:\\Users\\lzcai\\Anaconda3\\lib\\site-packages\\zmq\\eventloop\\zmqstream.py\", line 432, in _run_callback\n    callback(*args, **kwargs)\n  File \"C:\\Users\\lzcai\\Anaconda3\\lib\\site-packages\\tornado\\stack_context.py\", line 276, in null_wrapper\n    return fn(*args, **kwargs)\n  File \"C:\\Users\\lzcai\\Anaconda3\\lib\\site-packages\\ipykernel\\kernelbase.py\", line 283, in dispatcher\n    return self.dispatch_shell(stream, msg)\n  File \"C:\\Users\\lzcai\\Anaconda3\\lib\\site-packages\\ipykernel\\kernelbase.py\", line 233, in dispatch_shell\n    handler(stream, idents, msg)\n  File \"C:\\Users\\lzcai\\Anaconda3\\lib\\site-packages\\ipykernel\\kernelbase.py\", line 399, in execute_request\n    user_expressions, allow_stdin)\n  File \"C:\\Users\\lzcai\\Anaconda3\\lib\\site-packages\\ipykernel\\ipkernel.py\", line 208, in do_execute\n    res = shell.run_cell(code, store_history=store_history, silent=silent)\n  File \"C:\\Users\\lzcai\\Anaconda3\\lib\\site-packages\\ipykernel\\zmqshell.py\", line 537, in run_cell\n    return super(ZMQInteractiveShell, self).run_cell(*args, **kwargs)\n  File \"C:\\Users\\lzcai\\Anaconda3\\lib\\site-packages\\IPython\\core\\interactiveshell.py\", line 2662, in run_cell\n    raw_cell, store_history, silent, shell_futures)\n  File \"C:\\Users\\lzcai\\Anaconda3\\lib\\site-packages\\IPython\\core\\interactiveshell.py\", line 2785, in _run_cell\n    interactivity=interactivity, compiler=compiler, result=result)\n  File \"C:\\Users\\lzcai\\Anaconda3\\lib\\site-packages\\IPython\\core\\interactiveshell.py\", line 2903, in run_ast_nodes\n    if self.run_code(code, result):\n  File \"C:\\Users\\lzcai\\Anaconda3\\lib\\site-packages\\IPython\\core\\interactiveshell.py\", line 2963, in run_code\n    exec(code_obj, self.user_global_ns, self.user_ns)\n  File \"<ipython-input-6-cb8595337228>\", line 2, in <module>\n    x = tf.placeholder(tf.float32, [None, NUM_FEATURES])\n  File \"C:\\Users\\lzcai\\Anaconda3\\lib\\site-packages\\tensorflow\\python\\ops\\array_ops.py\", line 1735, in placeholder\n    return gen_array_ops.placeholder(dtype=dtype, shape=shape, name=name)\n  File \"C:\\Users\\lzcai\\Anaconda3\\lib\\site-packages\\tensorflow\\python\\ops\\gen_array_ops.py\", line 5928, in placeholder\n    \"Placeholder\", dtype=dtype, shape=shape, name=name)\n  File \"C:\\Users\\lzcai\\Anaconda3\\lib\\site-packages\\tensorflow\\python\\framework\\op_def_library.py\", line 787, in _apply_op_helper\n    op_def=op_def)\n  File \"C:\\Users\\lzcai\\Anaconda3\\lib\\site-packages\\tensorflow\\python\\util\\deprecation.py\", line 454, in new_func\n    return func(*args, **kwargs)\n  File \"C:\\Users\\lzcai\\Anaconda3\\lib\\site-packages\\tensorflow\\python\\framework\\ops.py\", line 3155, in create_op\n    op_def=op_def)\n  File \"C:\\Users\\lzcai\\Anaconda3\\lib\\site-packages\\tensorflow\\python\\framework\\ops.py\", line 1717, in __init__\n    self._traceback = tf_stack.extract_stack()\n\nInvalidArgumentError (see above for traceback): You must feed a value for placeholder tensor 'Placeholder' with dtype float and shape [?,36]\n\t [[Node: Placeholder = Placeholder[dtype=DT_FLOAT, shape=[?,36], _device=\"/job:localhost/replica:0/task:0/device:GPU:0\"]()]]\n\t [[Node: Variable_2/read/_31 = _Recv[client_terminated=false, recv_device=\"/job:localhost/replica:0/task:0/device:CPU:0\", send_device=\"/job:localhost/replica:0/task:0/device:GPU:0\", send_device_incarnation=1, tensor_name=\"edge_9_Variable_2/read\", tensor_type=DT_FLOAT, _device=\"/job:localhost/replica:0/task:0/device:CPU:0\"]()]]\n",
     "output_type": "error",
     "traceback": [
      "\u001b[1;31m---------------------------------------------------------------------------\u001b[0m",
      "\u001b[1;31mInvalidArgumentError\u001b[0m                      Traceback (most recent call last)",
      "\u001b[1;32m~\\Anaconda3\\lib\\site-packages\\tensorflow\\python\\client\\session.py\u001b[0m in \u001b[0;36m_do_call\u001b[1;34m(self, fn, *args)\u001b[0m\n\u001b[0;32m   1277\u001b[0m     \u001b[1;32mtry\u001b[0m\u001b[1;33m:\u001b[0m\u001b[1;33m\u001b[0m\u001b[0m\n\u001b[1;32m-> 1278\u001b[1;33m       \u001b[1;32mreturn\u001b[0m \u001b[0mfn\u001b[0m\u001b[1;33m(\u001b[0m\u001b[1;33m*\u001b[0m\u001b[0margs\u001b[0m\u001b[1;33m)\u001b[0m\u001b[1;33m\u001b[0m\u001b[0m\n\u001b[0m\u001b[0;32m   1279\u001b[0m     \u001b[1;32mexcept\u001b[0m \u001b[0merrors\u001b[0m\u001b[1;33m.\u001b[0m\u001b[0mOpError\u001b[0m \u001b[1;32mas\u001b[0m \u001b[0me\u001b[0m\u001b[1;33m:\u001b[0m\u001b[1;33m\u001b[0m\u001b[0m\n",
      "\u001b[1;32m~\\Anaconda3\\lib\\site-packages\\tensorflow\\python\\client\\session.py\u001b[0m in \u001b[0;36m_run_fn\u001b[1;34m(feed_dict, fetch_list, target_list, options, run_metadata)\u001b[0m\n\u001b[0;32m   1262\u001b[0m       return self._call_tf_sessionrun(\n\u001b[1;32m-> 1263\u001b[1;33m           options, feed_dict, fetch_list, target_list, run_metadata)\n\u001b[0m\u001b[0;32m   1264\u001b[0m \u001b[1;33m\u001b[0m\u001b[0m\n",
      "\u001b[1;32m~\\Anaconda3\\lib\\site-packages\\tensorflow\\python\\client\\session.py\u001b[0m in \u001b[0;36m_call_tf_sessionrun\u001b[1;34m(self, options, feed_dict, fetch_list, target_list, run_metadata)\u001b[0m\n\u001b[0;32m   1349\u001b[0m         \u001b[0mself\u001b[0m\u001b[1;33m.\u001b[0m\u001b[0m_session\u001b[0m\u001b[1;33m,\u001b[0m \u001b[0moptions\u001b[0m\u001b[1;33m,\u001b[0m \u001b[0mfeed_dict\u001b[0m\u001b[1;33m,\u001b[0m \u001b[0mfetch_list\u001b[0m\u001b[1;33m,\u001b[0m \u001b[0mtarget_list\u001b[0m\u001b[1;33m,\u001b[0m\u001b[1;33m\u001b[0m\u001b[0m\n\u001b[1;32m-> 1350\u001b[1;33m         run_metadata)\n\u001b[0m\u001b[0;32m   1351\u001b[0m \u001b[1;33m\u001b[0m\u001b[0m\n",
      "\u001b[1;31mInvalidArgumentError\u001b[0m: You must feed a value for placeholder tensor 'Placeholder' with dtype float and shape [?,36]\n\t [[Node: Placeholder = Placeholder[dtype=DT_FLOAT, shape=[?,36], _device=\"/job:localhost/replica:0/task:0/device:GPU:0\"]()]]\n\t [[Node: Variable_2/read/_31 = _Recv[client_terminated=false, recv_device=\"/job:localhost/replica:0/task:0/device:CPU:0\", send_device=\"/job:localhost/replica:0/task:0/device:GPU:0\", send_device_incarnation=1, tensor_name=\"edge_9_Variable_2/read\", tensor_type=DT_FLOAT, _device=\"/job:localhost/replica:0/task:0/device:CPU:0\"]()]]",
      "\nDuring handling of the above exception, another exception occurred:\n",
      "\u001b[1;31mInvalidArgumentError\u001b[0m                      Traceback (most recent call last)",
      "\u001b[1;32m<ipython-input-57-1743ad5770ba>\u001b[0m in \u001b[0;36m<module>\u001b[1;34m()\u001b[0m\n\u001b[0;32m      2\u001b[0m \u001b[1;32mfor\u001b[0m \u001b[0mi\u001b[0m \u001b[1;32min\u001b[0m \u001b[0mrange\u001b[0m\u001b[1;33m(\u001b[0m\u001b[0mepochs\u001b[0m\u001b[1;33m)\u001b[0m\u001b[1;33m:\u001b[0m\u001b[1;33m\u001b[0m\u001b[0m\n\u001b[0;32m      3\u001b[0m     \u001b[0msess\u001b[0m\u001b[1;33m.\u001b[0m\u001b[0mrun\u001b[0m\u001b[1;33m(\u001b[0m\u001b[1;33m[\u001b[0m\u001b[0mW_new\u001b[0m\u001b[1;33m,\u001b[0m \u001b[0mb_new\u001b[0m\u001b[1;33m,\u001b[0m \u001b[0mV_new\u001b[0m\u001b[1;33m,\u001b[0m \u001b[0mc_new\u001b[0m\u001b[1;33m]\u001b[0m\u001b[1;33m,\u001b[0m \u001b[1;33m{\u001b[0m\u001b[0mx\u001b[0m\u001b[1;33m:\u001b[0m\u001b[0mtrainX\u001b[0m\u001b[1;33m,\u001b[0m \u001b[0md\u001b[0m\u001b[1;33m:\u001b[0m\u001b[0mtrainY\u001b[0m\u001b[1;33m}\u001b[0m\u001b[1;33m)\u001b[0m\u001b[1;33m\u001b[0m\u001b[0m\n\u001b[1;32m----> 4\u001b[1;33m     \u001b[0mcost_\u001b[0m \u001b[1;33m=\u001b[0m \u001b[0msess\u001b[0m\u001b[1;33m.\u001b[0m\u001b[0mrun\u001b[0m\u001b[1;33m(\u001b[0m\u001b[0mJ\u001b[0m\u001b[1;33m,\u001b[0m \u001b[1;33m{\u001b[0m\u001b[0mx\u001b[0m\u001b[1;33m:\u001b[0m\u001b[0mtrainX\u001b[0m\u001b[1;33m,\u001b[0m \u001b[0md\u001b[0m\u001b[1;33m:\u001b[0m\u001b[0mtrainY\u001b[0m\u001b[1;33m}\u001b[0m\u001b[1;33m)\u001b[0m\u001b[1;33m\u001b[0m\u001b[0m\n\u001b[0m\u001b[0;32m      5\u001b[0m     \u001b[0merr\u001b[0m\u001b[1;33m.\u001b[0m\u001b[0mappend\u001b[0m\u001b[1;33m(\u001b[0m\u001b[0mcost_\u001b[0m\u001b[1;33m)\u001b[0m\u001b[1;33m\u001b[0m\u001b[0m\n",
      "\u001b[1;32m~\\Anaconda3\\lib\\site-packages\\tensorflow\\python\\client\\session.py\u001b[0m in \u001b[0;36mrun\u001b[1;34m(self, fetches, feed_dict, options, run_metadata)\u001b[0m\n\u001b[0;32m    875\u001b[0m     \u001b[1;32mtry\u001b[0m\u001b[1;33m:\u001b[0m\u001b[1;33m\u001b[0m\u001b[0m\n\u001b[0;32m    876\u001b[0m       result = self._run(None, fetches, feed_dict, options_ptr,\n\u001b[1;32m--> 877\u001b[1;33m                          run_metadata_ptr)\n\u001b[0m\u001b[0;32m    878\u001b[0m       \u001b[1;32mif\u001b[0m \u001b[0mrun_metadata\u001b[0m\u001b[1;33m:\u001b[0m\u001b[1;33m\u001b[0m\u001b[0m\n\u001b[0;32m    879\u001b[0m         \u001b[0mproto_data\u001b[0m \u001b[1;33m=\u001b[0m \u001b[0mtf_session\u001b[0m\u001b[1;33m.\u001b[0m\u001b[0mTF_GetBuffer\u001b[0m\u001b[1;33m(\u001b[0m\u001b[0mrun_metadata_ptr\u001b[0m\u001b[1;33m)\u001b[0m\u001b[1;33m\u001b[0m\u001b[0m\n",
      "\u001b[1;32m~\\Anaconda3\\lib\\site-packages\\tensorflow\\python\\client\\session.py\u001b[0m in \u001b[0;36m_run\u001b[1;34m(self, handle, fetches, feed_dict, options, run_metadata)\u001b[0m\n\u001b[0;32m   1098\u001b[0m     \u001b[1;32mif\u001b[0m \u001b[0mfinal_fetches\u001b[0m \u001b[1;32mor\u001b[0m \u001b[0mfinal_targets\u001b[0m \u001b[1;32mor\u001b[0m \u001b[1;33m(\u001b[0m\u001b[0mhandle\u001b[0m \u001b[1;32mand\u001b[0m \u001b[0mfeed_dict_tensor\u001b[0m\u001b[1;33m)\u001b[0m\u001b[1;33m:\u001b[0m\u001b[1;33m\u001b[0m\u001b[0m\n\u001b[0;32m   1099\u001b[0m       results = self._do_run(handle, final_targets, final_fetches,\n\u001b[1;32m-> 1100\u001b[1;33m                              feed_dict_tensor, options, run_metadata)\n\u001b[0m\u001b[0;32m   1101\u001b[0m     \u001b[1;32melse\u001b[0m\u001b[1;33m:\u001b[0m\u001b[1;33m\u001b[0m\u001b[0m\n\u001b[0;32m   1102\u001b[0m       \u001b[0mresults\u001b[0m \u001b[1;33m=\u001b[0m \u001b[1;33m[\u001b[0m\u001b[1;33m]\u001b[0m\u001b[1;33m\u001b[0m\u001b[0m\n",
      "\u001b[1;32m~\\Anaconda3\\lib\\site-packages\\tensorflow\\python\\client\\session.py\u001b[0m in \u001b[0;36m_do_run\u001b[1;34m(self, handle, target_list, fetch_list, feed_dict, options, run_metadata)\u001b[0m\n\u001b[0;32m   1270\u001b[0m     \u001b[1;32mif\u001b[0m \u001b[0mhandle\u001b[0m \u001b[1;32mis\u001b[0m \u001b[1;32mNone\u001b[0m\u001b[1;33m:\u001b[0m\u001b[1;33m\u001b[0m\u001b[0m\n\u001b[0;32m   1271\u001b[0m       return self._do_call(_run_fn, feeds, fetches, targets, options,\n\u001b[1;32m-> 1272\u001b[1;33m                            run_metadata)\n\u001b[0m\u001b[0;32m   1273\u001b[0m     \u001b[1;32melse\u001b[0m\u001b[1;33m:\u001b[0m\u001b[1;33m\u001b[0m\u001b[0m\n\u001b[0;32m   1274\u001b[0m       \u001b[1;32mreturn\u001b[0m \u001b[0mself\u001b[0m\u001b[1;33m.\u001b[0m\u001b[0m_do_call\u001b[0m\u001b[1;33m(\u001b[0m\u001b[0m_prun_fn\u001b[0m\u001b[1;33m,\u001b[0m \u001b[0mhandle\u001b[0m\u001b[1;33m,\u001b[0m \u001b[0mfeeds\u001b[0m\u001b[1;33m,\u001b[0m \u001b[0mfetches\u001b[0m\u001b[1;33m)\u001b[0m\u001b[1;33m\u001b[0m\u001b[0m\n",
      "\u001b[1;32m~\\Anaconda3\\lib\\site-packages\\tensorflow\\python\\client\\session.py\u001b[0m in \u001b[0;36m_do_call\u001b[1;34m(self, fn, *args)\u001b[0m\n\u001b[0;32m   1289\u001b[0m         \u001b[1;32mexcept\u001b[0m \u001b[0mKeyError\u001b[0m\u001b[1;33m:\u001b[0m\u001b[1;33m\u001b[0m\u001b[0m\n\u001b[0;32m   1290\u001b[0m           \u001b[1;32mpass\u001b[0m\u001b[1;33m\u001b[0m\u001b[0m\n\u001b[1;32m-> 1291\u001b[1;33m       \u001b[1;32mraise\u001b[0m \u001b[0mtype\u001b[0m\u001b[1;33m(\u001b[0m\u001b[0me\u001b[0m\u001b[1;33m)\u001b[0m\u001b[1;33m(\u001b[0m\u001b[0mnode_def\u001b[0m\u001b[1;33m,\u001b[0m \u001b[0mop\u001b[0m\u001b[1;33m,\u001b[0m \u001b[0mmessage\u001b[0m\u001b[1;33m)\u001b[0m\u001b[1;33m\u001b[0m\u001b[0m\n\u001b[0m\u001b[0;32m   1292\u001b[0m \u001b[1;33m\u001b[0m\u001b[0m\n\u001b[0;32m   1293\u001b[0m   \u001b[1;32mdef\u001b[0m \u001b[0m_extend_graph\u001b[0m\u001b[1;33m(\u001b[0m\u001b[0mself\u001b[0m\u001b[1;33m)\u001b[0m\u001b[1;33m:\u001b[0m\u001b[1;33m\u001b[0m\u001b[0m\n",
      "\u001b[1;31mInvalidArgumentError\u001b[0m: You must feed a value for placeholder tensor 'Placeholder' with dtype float and shape [?,36]\n\t [[Node: Placeholder = Placeholder[dtype=DT_FLOAT, shape=[?,36], _device=\"/job:localhost/replica:0/task:0/device:GPU:0\"]()]]\n\t [[Node: Variable_2/read/_31 = _Recv[client_terminated=false, recv_device=\"/job:localhost/replica:0/task:0/device:CPU:0\", send_device=\"/job:localhost/replica:0/task:0/device:GPU:0\", send_device_incarnation=1, tensor_name=\"edge_9_Variable_2/read\", tensor_type=DT_FLOAT, _device=\"/job:localhost/replica:0/task:0/device:CPU:0\"]()]]\n\nCaused by op 'Placeholder', defined at:\n  File \"C:\\Users\\lzcai\\Anaconda3\\lib\\runpy.py\", line 193, in _run_module_as_main\n    \"__main__\", mod_spec)\n  File \"C:\\Users\\lzcai\\Anaconda3\\lib\\runpy.py\", line 85, in _run_code\n    exec(code, run_globals)\n  File \"C:\\Users\\lzcai\\Anaconda3\\lib\\site-packages\\ipykernel_launcher.py\", line 16, in <module>\n    app.launch_new_instance()\n  File \"C:\\Users\\lzcai\\Anaconda3\\lib\\site-packages\\traitlets\\config\\application.py\", line 658, in launch_instance\n    app.start()\n  File \"C:\\Users\\lzcai\\Anaconda3\\lib\\site-packages\\ipykernel\\kernelapp.py\", line 486, in start\n    self.io_loop.start()\n  File \"C:\\Users\\lzcai\\Anaconda3\\lib\\site-packages\\tornado\\platform\\asyncio.py\", line 127, in start\n    self.asyncio_loop.run_forever()\n  File \"C:\\Users\\lzcai\\Anaconda3\\lib\\asyncio\\base_events.py\", line 422, in run_forever\n    self._run_once()\n  File \"C:\\Users\\lzcai\\Anaconda3\\lib\\asyncio\\base_events.py\", line 1432, in _run_once\n    handle._run()\n  File \"C:\\Users\\lzcai\\Anaconda3\\lib\\asyncio\\events.py\", line 145, in _run\n    self._callback(*self._args)\n  File \"C:\\Users\\lzcai\\Anaconda3\\lib\\site-packages\\tornado\\platform\\asyncio.py\", line 117, in _handle_events\n    handler_func(fileobj, events)\n  File \"C:\\Users\\lzcai\\Anaconda3\\lib\\site-packages\\tornado\\stack_context.py\", line 276, in null_wrapper\n    return fn(*args, **kwargs)\n  File \"C:\\Users\\lzcai\\Anaconda3\\lib\\site-packages\\zmq\\eventloop\\zmqstream.py\", line 450, in _handle_events\n    self._handle_recv()\n  File \"C:\\Users\\lzcai\\Anaconda3\\lib\\site-packages\\zmq\\eventloop\\zmqstream.py\", line 480, in _handle_recv\n    self._run_callback(callback, msg)\n  File \"C:\\Users\\lzcai\\Anaconda3\\lib\\site-packages\\zmq\\eventloop\\zmqstream.py\", line 432, in _run_callback\n    callback(*args, **kwargs)\n  File \"C:\\Users\\lzcai\\Anaconda3\\lib\\site-packages\\tornado\\stack_context.py\", line 276, in null_wrapper\n    return fn(*args, **kwargs)\n  File \"C:\\Users\\lzcai\\Anaconda3\\lib\\site-packages\\ipykernel\\kernelbase.py\", line 283, in dispatcher\n    return self.dispatch_shell(stream, msg)\n  File \"C:\\Users\\lzcai\\Anaconda3\\lib\\site-packages\\ipykernel\\kernelbase.py\", line 233, in dispatch_shell\n    handler(stream, idents, msg)\n  File \"C:\\Users\\lzcai\\Anaconda3\\lib\\site-packages\\ipykernel\\kernelbase.py\", line 399, in execute_request\n    user_expressions, allow_stdin)\n  File \"C:\\Users\\lzcai\\Anaconda3\\lib\\site-packages\\ipykernel\\ipkernel.py\", line 208, in do_execute\n    res = shell.run_cell(code, store_history=store_history, silent=silent)\n  File \"C:\\Users\\lzcai\\Anaconda3\\lib\\site-packages\\ipykernel\\zmqshell.py\", line 537, in run_cell\n    return super(ZMQInteractiveShell, self).run_cell(*args, **kwargs)\n  File \"C:\\Users\\lzcai\\Anaconda3\\lib\\site-packages\\IPython\\core\\interactiveshell.py\", line 2662, in run_cell\n    raw_cell, store_history, silent, shell_futures)\n  File \"C:\\Users\\lzcai\\Anaconda3\\lib\\site-packages\\IPython\\core\\interactiveshell.py\", line 2785, in _run_cell\n    interactivity=interactivity, compiler=compiler, result=result)\n  File \"C:\\Users\\lzcai\\Anaconda3\\lib\\site-packages\\IPython\\core\\interactiveshell.py\", line 2903, in run_ast_nodes\n    if self.run_code(code, result):\n  File \"C:\\Users\\lzcai\\Anaconda3\\lib\\site-packages\\IPython\\core\\interactiveshell.py\", line 2963, in run_code\n    exec(code_obj, self.user_global_ns, self.user_ns)\n  File \"<ipython-input-6-cb8595337228>\", line 2, in <module>\n    x = tf.placeholder(tf.float32, [None, NUM_FEATURES])\n  File \"C:\\Users\\lzcai\\Anaconda3\\lib\\site-packages\\tensorflow\\python\\ops\\array_ops.py\", line 1735, in placeholder\n    return gen_array_ops.placeholder(dtype=dtype, shape=shape, name=name)\n  File \"C:\\Users\\lzcai\\Anaconda3\\lib\\site-packages\\tensorflow\\python\\ops\\gen_array_ops.py\", line 5928, in placeholder\n    \"Placeholder\", dtype=dtype, shape=shape, name=name)\n  File \"C:\\Users\\lzcai\\Anaconda3\\lib\\site-packages\\tensorflow\\python\\framework\\op_def_library.py\", line 787, in _apply_op_helper\n    op_def=op_def)\n  File \"C:\\Users\\lzcai\\Anaconda3\\lib\\site-packages\\tensorflow\\python\\util\\deprecation.py\", line 454, in new_func\n    return func(*args, **kwargs)\n  File \"C:\\Users\\lzcai\\Anaconda3\\lib\\site-packages\\tensorflow\\python\\framework\\ops.py\", line 3155, in create_op\n    op_def=op_def)\n  File \"C:\\Users\\lzcai\\Anaconda3\\lib\\site-packages\\tensorflow\\python\\framework\\ops.py\", line 1717, in __init__\n    self._traceback = tf_stack.extract_stack()\n\nInvalidArgumentError (see above for traceback): You must feed a value for placeholder tensor 'Placeholder' with dtype float and shape [?,36]\n\t [[Node: Placeholder = Placeholder[dtype=DT_FLOAT, shape=[?,36], _device=\"/job:localhost/replica:0/task:0/device:GPU:0\"]()]]\n\t [[Node: Variable_2/read/_31 = _Recv[client_terminated=false, recv_device=\"/job:localhost/replica:0/task:0/device:CPU:0\", send_device=\"/job:localhost/replica:0/task:0/device:GPU:0\", send_device_incarnation=1, tensor_name=\"edge_9_Variable_2/read\", tensor_type=DT_FLOAT, _device=\"/job:localhost/replica:0/task:0/device:CPU:0\"]()]]\n"
     ]
    }
   ],
   "source": [
    "err = []\n",
    "for i in range(epochs):\n",
    "    sess.run([W_new, b_new, V_new, c_new], {x:trainX, d:trainY})\n",
    "    cost_ = sess.run(J, {x:trainX, d:trainY})\n",
    "    err.append(cost_)\n"
   ]
  },
  {
   "cell_type": "code",
   "execution_count": null,
   "metadata": {},
   "outputs": [],
   "source": []
  },
  {
   "cell_type": "code",
   "execution_count": null,
   "metadata": {},
   "outputs": [],
   "source": []
  },
  {
   "cell_type": "code",
   "execution_count": 7,
   "metadata": {},
   "outputs": [],
   "source": [
    "# Build the graph for the deep net\n",
    "\n",
    "weights = tf.Variable(tf.truncated_normal([NUM_FEATURES, NUM_CLASSES],\n",
    "                                          stddev=1.0/math.sqrt(float(NUM_FEATURES))),\n",
    "                      name='weights')\n",
    "biases  = tf.Variable(tf.zeros([NUM_CLASSES]), name='biases')\n",
    "logits  = tf.matmul(x, weights) + biases\n",
    "\n",
    "cross_entropy = tf.nn.softmax_cross_entropy_with_logits_v2(labels=y_, logits=logits)\n",
    "loss = tf.reduce_mean(cross_entropy)"
   ]
  },
  {
   "cell_type": "code",
   "execution_count": 8,
   "metadata": {},
   "outputs": [],
   "source": [
    "# Create the gradient descent optimizer with the given learning rate.\n",
    "optimizer = tf.train.GradientDescentOptimizer(learning_rate)\n",
    "train_op = optimizer.minimize(loss)\n",
    "\n",
    "correct_prediction = tf.cast(tf.equal(tf.argmax(logits, 1), tf.argmax(y_, 1)), tf.float32)\n",
    "accuracy = tf.reduce_mean(correct_prediction)"
   ]
  },
  {
   "cell_type": "code",
   "execution_count": 9,
   "metadata": {},
   "outputs": [
    {
     "name": "stdout",
     "output_type": "stream",
     "text": [
      "iter 0: accuracy 0.508\n",
      "iter 100: accuracy 0.667\n",
      "iter 200: accuracy 0.689\n",
      "iter 300: accuracy 0.696\n",
      "iter 400: accuracy 0.701\n",
      "iter 500: accuracy 0.707\n",
      "iter 600: accuracy 0.708\n",
      "iter 700: accuracy 0.708\n",
      "iter 800: accuracy 0.708\n",
      "iter 900: accuracy 0.708\n"
     ]
    }
   ],
   "source": [
    "with tf.Session() as sess:\n",
    "    sess.run(tf.global_variables_initializer())\n",
    "    train_acc = []\n",
    "    for i in range(epochs):\n",
    "        train_op.run(feed_dict={x: trainX, y_: trainY})\n",
    "        train_acc.append(accuracy.eval(feed_dict={x: trainX, y_: trainY}))\n",
    "\n",
    "        if i % 100 == 0:\n",
    "            print('iter %d: accuracy %g'%(i, train_acc[i]))"
   ]
  },
  {
   "cell_type": "code",
   "execution_count": 10,
   "metadata": {},
   "outputs": [
    {
     "data": {
      "image/png": "[encoded data removed]",
      "text/plain": [
       "<Figure size 432x288 with 1 Axes>"
      ]
     },
     "metadata": {},
     "output_type": "display_data"
    }
   ],
   "source": [
    "# plot learning curves\n",
    "plt.figure(1)\n",
    "plt.plot(range(epochs), train_acc)\n",
    "plt.xlabel(str(epochs) + ' iterations')\n",
    "plt.ylabel('Train accuracy')\n",
    "plt.show()"
   ]
  },
  {
   "cell_type": "code",
   "execution_count": 58,
   "metadata": {},
   "outputs": [
    {
     "name": "stdout",
     "output_type": "stream",
     "text": [
      "creating the figures folder\n",
      "x:[[0.77132064 0.02075195]\n",
      " [0.63364823 0.74880388]\n",
      " [0.49850701 0.22479665]\n",
      " [0.19806286 0.76053071]\n",
      " [0.16911084 0.08833981]\n",
      " [0.68535982 0.95339335]\n",
      " [0.00394827 0.51219226]\n",
      " [0.81262096 0.61252607]]\n",
      "y:[[ 0.44351063 -0.41624786]\n",
      " [ 0.83554825  0.42915157]\n",
      " [ 0.08508874 -0.7156599 ]\n",
      " [-0.25331848  0.34826723]\n",
      " [-0.11633365 -0.13197201]\n",
      " [ 0.23553396  0.02627649]\n",
      " [ 0.30079436  0.20207791]\n",
      " [ 0.61044639  0.0432943 ]]\n",
      "W: [[-3.9708016   1.1067251   0.41702417]\n",
      " [ 2.798091   -2.6382916   3.1272793 ]], b: [0. 0. 0.]\n",
      "V:[[ 3.5812194 -1.5841355]\n",
      " [-3.5890346 -1.7465771]\n",
      " [-3.3828716  2.8804188]], c:[0. 0.]\n",
      "iter: 1\n",
      "z: [[-1.9101236  -0.16253823 -0.61367196]\n",
      " [ 0.9144167  -2.3479893   1.5225074 ]\n",
      " [-0.2872166  -0.9428108  -0.02146798]\n",
      " [ 2.4979675  -2.6936064   1.5449183 ]\n",
      " [ 0.44401816 -0.7876224  -0.43167958]\n",
      " [ 1.3873068  -2.8973703   2.1252968 ]\n",
      " [ 2.3901093  -2.1208277   0.80959386]\n",
      " [-0.15801382 -1.8291762   1.1268957 ]]\n",
      "h: [[0.12896697 0.4594547  0.35122204]\n",
      " [0.7139031  0.08722573 0.8209074 ]\n",
      " [0.42868546 0.28033292 0.49463326]\n",
      " [0.9239992  0.06335168 0.8241786 ]\n",
      " [0.6092161  0.3126794  0.39372534]\n",
      " [0.80016196 0.05228371 0.89333767]\n",
      " [0.9160699  0.1070889  0.6920229 ]\n",
      " [0.46057853 0.13833645 0.7552656 ]]\n",
      "y: [[-0.7413708  -0.6516763 ]\n",
      " [ 1.5194314   0.209607  ]\n",
      " [ 0.62652117 -0.4764265 ]\n",
      " [ 2.4041524  -0.10377342]\n",
      " [ 1.4826741  -1.1059299 ]\n",
      " [ 1.7820022   0.30688643]\n",
      " [ 2.569879   -0.5043113 ]\n",
      " [ 0.53845435  0.3904137 ]]\n",
      "grad_u: [[-1.1848814  -0.23542842]\n",
      " [ 0.68388313 -0.21954456]\n",
      " [ 0.54143244  0.2392334 ]\n",
      " [ 2.657471   -0.45204064]\n",
      " [ 1.5990077  -0.97395784]\n",
      " [ 1.5464683   0.28060994]\n",
      " [ 2.2690847  -0.70638925]\n",
      " [-0.07199204  0.3471194 ]]\n",
      "dh: [[0.11233449 0.24835609 0.22786511]\n",
      " [0.20424545 0.0796174  0.14701843]\n",
      " [0.24491425 0.20174637 0.2499712 ]\n",
      " [0.07022469 0.05933825 0.14490825]\n",
      " [0.23807184 0.214911   0.2387057 ]\n",
      " [0.1599028  0.04955013 0.09528548]\n",
      " [0.07688582 0.09562086 0.2131272 ]\n",
      " [0.24844593 0.11919948 0.18483947]]\n",
      "grad_z:[[-0.47196364  1.0369658   0.5483003 ]\n",
      " [ 0.62198615 -0.13841692 -0.3353622 ]\n",
      " [ 0.41391942 -0.43508497 -0.19223623]\n",
      " [ 0.7818489  -0.44582304 -1.1385616 ]\n",
      " [ 1.886538   -0.68660146 -1.5491658 ]\n",
      " [ 0.88427585 -0.26752728 -0.30562758]\n",
      " [ 0.77390265 -0.5555547  -1.6012621 ]\n",
      " [-0.2201424  -0.05113639  0.19473155]]\n",
      "cost: 2.667659282684326\n",
      "V: [[ 3.892638  -1.7453325]\n",
      " [-3.1485198 -1.8888799]\n",
      " [-2.529593   2.5103943]], c: [ 1.0916585  -0.44043714]\n",
      "W: [[-3.549076    0.7162868   0.02768338]\n",
      " [ 3.208467   -2.8663316   2.9393382 ]], b: [ 0.76077    -0.655543   -0.69602174]\n",
      "epoch:0, error:2.667659282684326\n",
      "epoch:1000, error:0.10737569630146027\n",
      "epoch:2000, error:0.10064702481031418\n",
      "epoch:3000, error:0.08520949631929398\n",
      "epoch:4000, error:0.06307919323444366\n",
      "epoch:5000, error:0.04607727751135826\n",
      "epoch:6000, error:0.037882909178733826\n",
      "epoch:7000, error:0.06670933961868286\n",
      "epoch:8000, error:0.032804928719997406\n",
      "epoch:9000, error:0.031012609601020813\n",
      "epoch:10000, error:0.03776097297668457\n",
      "epoch:11000, error:0.026668157428503036\n",
      "epoch:12000, error:0.026719558984041214\n",
      "epoch:13000, error:0.026001542806625366\n",
      "epoch:14000, error:0.024268966168165207\n",
      "epoch:15000, error:0.023386012762784958\n",
      "epoch:16000, error:0.02262435480952263\n",
      "epoch:17000, error:0.021926432847976685\n",
      "epoch:18000, error:0.021491948515176773\n",
      "epoch:19000, error:0.021119164302945137\n",
      "y:[[ 0.44691288 -0.44939265]\n",
      " [ 0.78362715  0.39309067]\n",
      " [-0.00281751 -0.5957188 ]\n",
      " [-0.18082845  0.10656333]\n",
      " [-0.11047006 -0.18262213]\n",
      " [ 0.15018225  0.20293117]\n",
      " [ 0.24684739  0.32618278]\n",
      " [ 0.65825266 -0.07340029]]\n"
     ]
    },
    {
     "data": {
      "image/png": "[encoded data removed]",
      "text/plain": [
       "<Figure size 432x288 with 1 Axes>"
      ]
     },
     "metadata": {},
     "output_type": "display_data"
    },
    {
     "data": {
      "image/png": "[encoded data removed]",
      "text/plain": [
       "<Figure size 432x288 with 1 Axes>"
      ]
     },
     "metadata": {},
     "output_type": "display_data"
    }
   ],
   "source": [
    "import tensorflow as tf\n",
    "import numpy as np\n",
    "import pylab as plt\n",
    "from mpl_toolkits.mplot3d import Axes3D\n",
    "\n",
    "import os\n",
    "if not os.path.isdir('figures'):\n",
    "    print('creating the figures folder')\n",
    "    os.makedirs('figures')\n",
    "    \n",
    "num_features = 2\n",
    "num_labels = 2\n",
    "num_hidden = 3\n",
    "num_data = 8\n",
    "\n",
    "lr = 0.05\n",
    "num_iters = 20000\n",
    "\n",
    "SEED = 10\n",
    "np.random.seed(SEED)\n",
    "\n",
    "# data\n",
    "# generate training data\n",
    "X = np.random.rand(num_data, num_features)\n",
    "Y = 2*np.random.rand(num_data, num_labels) - 1\n",
    "\n",
    "print('x:{}'.format(X))\n",
    "print('y:{}'.format(Y))\n",
    "\n",
    "\n",
    "# initialization routines for bias and weights\n",
    "def init_bias(n = 1):\n",
    "    return(tf.Variable(np.zeros(n), dtype=tf.float32))\n",
    "\n",
    "def init_weights(n_in=1, n_out=1, logistic=True):\n",
    "    W_values = np.asarray(np.random.uniform(low=-np.sqrt(6. / (n_in + n_out)),\n",
    "                                            high=np.sqrt(6. / (n_in + n_out)),\n",
    "                                            size=(n_in, n_out)))\n",
    "    if logistic == True:\n",
    "        W_values *= 4\n",
    "    return(tf.Variable(W_values, dtype=tf.float32))\n",
    "\n",
    "#Define variables:\n",
    "V = init_weights(num_hidden, num_labels)\n",
    "c = init_bias(num_labels)\n",
    "W = init_weights(num_features, num_hidden)\n",
    "b = init_bias(num_hidden)\n",
    "\n",
    "# Model input and output\n",
    "x = tf.placeholder(tf.float32, X.shape)\n",
    "d = tf.placeholder(tf.float32, Y.shape)\n",
    "\n",
    "z = tf.matmul(x, W) + b\n",
    "h = tf.nn.sigmoid(z)\n",
    "y = tf.matmul(h, V) + c\n",
    "\n",
    "\n",
    "cost = tf.reduce_mean(tf.reduce_sum(tf.square(d - y),axis=1))\n",
    "\n",
    "\n",
    "grad_u = -(d - y)\n",
    "grad_V = tf.matmul(tf.transpose(h), grad_u)\n",
    "grad_c = tf.reduce_sum(grad_u, axis=0)\n",
    "\n",
    "dh = h*(1-h)\n",
    "grad_z = tf.matmul(grad_u, tf.transpose(V))*dh\n",
    "grad_W = tf.matmul(tf.transpose(x), grad_z)\n",
    "grad_b = tf.reduce_sum(grad_z, axis=0)\n",
    "\n",
    "W_new = W.assign(W - lr*grad_W)\n",
    "b_new = b.assign(b - lr*grad_b)\n",
    "V_new = V.assign(V - lr*grad_V)\n",
    "c_new = c.assign(c - lr*grad_c)\n",
    "\n",
    "# training loop\n",
    "init = tf.global_variables_initializer()\n",
    "sess = tf.Session()\n",
    "sess.run(init) # reset values to wrong\n",
    "W_, b_ = sess.run([W, b])\n",
    "print('W: {}, b: {}'.format(W_, b_))\n",
    "V_, c_ = sess.run([V, c])\n",
    "print('V:{}, c:{}'.format(V_, c_))\n",
    "\n",
    "err = []\n",
    "for i in range(num_iters):\n",
    "  sess.run([W_new, b_new, V_new, c_new], {x:X, d:Y})\n",
    "  cost_ = sess.run(cost, {x:X, d:Y})\n",
    "  err.append(cost_)\n",
    "\n",
    "  if (i < 1):\n",
    "    print('iter: {}'.format(i+1))\n",
    "    z_, h_, y_, grad_u_, dh_, grad_z_, V_, c_, W_, b_ = sess.run([ z, h, y, grad_u, dh, grad_z, V, c, W, b], {x:X, d:Y})\n",
    "    print('z: {}'.format(z_))\n",
    "    print('h: {}'.format(h_))\n",
    "    print('y: {}'.format(y_))\n",
    "    print('grad_u: {}'.format(grad_u_))\n",
    "    print('dh: {}'.format(dh_))\n",
    "    print('grad_z:{}'.format(grad_z_))\n",
    "    print('cost: {}'.format(cost_))\n",
    "    print('V: {}, c: {}'.format(V_, c_))\n",
    "    print('W: {}, b: {}'.format(W_, b_))\n",
    "                    \n",
    "  if not i%1000:\n",
    "    print('epoch:{}, error:{}'.format(i,err[i]))\n",
    "                    \n",
    "\n",
    "y_ = sess.run(y, {x: X})\n",
    "print('y:{}'.format(y_))\n",
    "\n",
    "# plot learning curves\n",
    "plt.figure(1)\n",
    "plt.plot(range(num_iters), err)\n",
    "plt.xlabel('iterations')\n",
    "plt.ylabel('mean square error')\n",
    "plt.title('GD learning')\n",
    "plt.savefig('figures/5.2_1.png')\n",
    "\n",
    "# plot trained and predicted points\n",
    "plt.figure(2)\n",
    "plot_targets = plt.plot(Y[:,0], Y[:,1], 'b^', label='targeted')\n",
    "plot_pred = plt.plot(y_[:,0], y_[:,1], 'ro', label='predicted')\n",
    "plt.xlabel('$y_1$')\n",
    "plt.ylabel('$y_2$')\n",
    "plt.title('targets and predicted outputs')\n",
    "plt.legend()\n",
    "plt.savefig('./figures/5.2_2.png')\n",
    "\n",
    "plt.show()\n"
   ]
  },
  {
   "cell_type": "code",
   "execution_count": null,
   "metadata": {},
   "outputs": [],
   "source": []
  }
 ],
 "metadata": {
  "kernelspec": {
   "display_name": "Python 3",
   "language": "python",
   "name": "python3"
  },
  "language_info": {
   "codemirror_mode": {
    "name": "ipython",
    "version": 3
   },
   "file_extension": ".py",
   "mimetype": "text/x-python",
   "name": "python",
   "nbconvert_exporter": "python",
   "pygments_lexer": "ipython3",
   "version": "3.6.5"
  }
 },
 "nbformat": 4,
 "nbformat_minor": 2
}
