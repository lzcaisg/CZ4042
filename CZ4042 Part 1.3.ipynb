{
 "cells": [
  {
   "cell_type": "code",
   "execution_count": 1,
   "metadata": {},
   "outputs": [
    {
     "name": "stderr",
     "output_type": "stream",
     "text": [
      "/Users/lzcai/anaconda3/lib/python3.6/site-packages/h5py/__init__.py:36: FutureWarning: Conversion of the second argument of issubdtype from `float` to `np.floating` is deprecated. In future, it will be treated as `np.float64 == np.dtype(float).type`.\n",
      "  from ._conv import register_converters as _register_converters\n"
     ]
    }
   ],
   "source": [
    "import math\n",
    "import tensorflow as tf\n",
    "import numpy as np\n",
    "import pylab as plt"
   ]
  },
  {
   "cell_type": "code",
   "execution_count": 2,
   "metadata": {},
   "outputs": [],
   "source": [
    "# scale data\n",
    "def scale(X, X_min, X_max):\n",
    "    return (X - X_min)/(X_max-X_min)"
   ]
  },
  {
   "cell_type": "code",
   "execution_count": 3,
   "metadata": {},
   "outputs": [],
   "source": [
    "def process_inputs_from_file(fileName): # Read in data\n",
    "    inputs = np.loadtxt(fileName, delimiter=' ')\n",
    "    X, _Y = inputs[:, :NUM_FEATURES], inputs[:, -1].astype(int)\n",
    "    X = scale(X, np.min(X, axis=0), np.max(X, axis=0))\n",
    "    _Y[_Y == 7] = 6 # Actually dont have, just in case have error data\n",
    "\n",
    "    Y = np.zeros((_Y.shape[0], NUM_CLASSES))\n",
    "    Y[np.arange(_Y.shape[0]), _Y - 1] = 1 #one hot matrix\n",
    "    return X, Y"
   ]
  },
  {
   "cell_type": "code",
   "execution_count": 17,
   "metadata": {},
   "outputs": [],
   "source": [
    "def init_weights(feature_no, neuron_no, name, logistic = True):\n",
    "    # From eg.5.2\n",
    "    n_in = feature_no\n",
    "    n_out = neuron_no\n",
    "    W_values = np.asarray(np.random.uniform(low=-np.sqrt(6. / (n_in + n_out)),\n",
    "                                            high=np.sqrt(6. / (n_in + n_out)),\n",
    "                                            size=(n_in, n_out)))\n",
    "    if logistic == True:\n",
    "        W_values *= 4\n",
    "    return(tf.Variable(W_values, dtype=tf.float32, name=name))\n",
    "\n",
    "def init_bias(neuron_no, name):\n",
    "    # From eg.5.2\n",
    "    return(tf.Variable(np.zeros(neuron_no), dtype=tf.float32, name=name))"
   ]
  },
  {
   "cell_type": "code",
   "execution_count": 149,
   "metadata": {},
   "outputs": [],
   "source": [
    "# Initialize Values\n",
    "NUM_FEATURES = 36\n",
    "NUM_CLASSES = 6\n",
    "NUM_HIDDEN = 10\n",
    "\n",
    "LEARNING_RATE = 0.01\n",
    "EPOCHS = 5000\n",
    "BATCH_SIZE = 32\n",
    "NUM_NEURONS = 10\n",
    "SEED = 10\n",
    "BETA = pow(10, -6)\n",
    "np.random.seed(SEED)\n",
    "\n",
    "TRAIN_FILE_NAME = 'sat_train.txt'\n",
    "TEST_FILE_NAME = 'sat_test.txt'"
   ]
  },
  {
   "cell_type": "code",
   "execution_count": 6,
   "metadata": {},
   "outputs": [],
   "source": [
    "trainX, trainY = process_inputs_from_file(TRAIN_FILE_NAME)\n",
    "testX, testY = process_inputs_from_file(TEST_FILE_NAME)"
   ]
  },
  {
   "cell_type": "code",
   "execution_count": 21,
   "metadata": {},
   "outputs": [],
   "source": [
    "def setup_cross_entropy(labels, logits):\n",
    "    return tf.nn.softmax_cross_entropy_with_logits_v2(labels=labels, logits=logits)\n",
    "\n",
    "def setup_correct_prediction(labels, logits):\n",
    "    return tf.cast(tf.equal(tf.argmax(logits, 1), tf.argmax(labels, 1)), tf.float32)"
   ]
  },
  {
   "cell_type": "code",
   "execution_count": 90,
   "metadata": {},
   "outputs": [],
   "source": [
    "x = tf.placeholder(tf.float32, [None, NUM_FEATURES], name='x')\n",
    "d = tf.placeholder(tf.float32, [None, NUM_CLASSES], name='d')"
   ]
  },
  {
   "cell_type": "code",
   "execution_count": 91,
   "metadata": {},
   "outputs": [],
   "source": [
    "with tf.variable_scope(\"Hidden_layer\"):\n",
    "    W = init_weights(NUM_FEATURES, NUM_HIDDEN, name=\"Weight_1\")\n",
    "    b = init_bias(NUM_HIDDEN, name=\"Bias_1\")\n",
    "    z = tf.matmul(x, W) + b #syn_input_1\n",
    "    h = tf.nn.sigmoid(z) #out_1\n",
    "\n",
    "with tf.variable_scope(\"Output_layer\"):\n",
    "    V = init_weights(NUM_HIDDEN, NUM_CLASSES, name=\"Weight_2\")\n",
    "    c = init_bias(NUM_CLASSES, name=\"Bias_2\" )\n",
    "    y = tf.matmul(h, V) + c #syn_out_2\n",
    "    f = y #out_2\n",
    "\n",
    "cross_entropy = setup_cross_entropy(labels=d, logits=y)\n",
    "regularization = tf.nn.l2_loss(V) + tf.nn.l2_loss(W) \n",
    "J = tf.reduce_mean(cross_entropy + BETA * regularization)\n",
    "\n",
    "optimizer = tf.train.GradientDescentOptimizer(LEARNING_RATE)\n",
    "train_op = optimizer.minimize(J)\n",
    "\n",
    "correct_prediction = setup_correct_prediction(labels=d, logits=y)\n",
    "accuracy = tf.reduce_mean(correct_prediction)"
   ]
  },
  {
   "cell_type": "code",
   "execution_count": 92,
   "metadata": {},
   "outputs": [
    {
     "name": "stdout",
     "output_type": "stream",
     "text": [
      "<tf.Variable 'Output_layer_5/Weight_2:0' shape=(10, 6) dtype=float32_ref>\n"
     ]
    }
   ],
   "source": [
    "print(V)"
   ]
  },
  {
   "cell_type": "code",
   "execution_count": 146,
   "metadata": {},
   "outputs": [],
   "source": [
    "def generate_batch(X_in, y_in, batch_size):\n",
    "    X = list(X_in)\n",
    "    y = list(y_in)\n",
    "    \n",
    "    if len(X)!=len(y):\n",
    "        print(\"Error: len(X)!=len(Y)\")\n",
    "        return None\n",
    "    batched_X = []\n",
    "    batched_y = []\n",
    "    count = 0\n",
    "    while (len(X) >= batch_size):\n",
    "        batched_X.append(X[0:batch_size])\n",
    "        del X[0:batch_size]\n",
    "        batched_y.append(y[0:batch_size])\n",
    "        del y[0:batch_size]\n",
    "        if count % 10 == 0:\n",
    "            print (count)\n",
    "        count += 1\n",
    "    \n",
    "    if len(X) != 0:\n",
    "        remain = batch_size-len(X)\n",
    "        X.extend(batched_X[0][0:remain])\n",
    "        y.extend(batched_y[0][0:remain])\n",
    "        batched_X.append(X)\n",
    "        batched_y.append(y)\n",
    "        print(\"Remain rescaled to\", len(X))\n",
    "    \n",
    "    return (batched_X, batched_y)\n",
    "        "
   ]
  },
  {
   "cell_type": "code",
   "execution_count": 147,
   "metadata": {},
   "outputs": [
    {
     "name": "stdout",
     "output_type": "stream",
     "text": [
      "0\n",
      "10\n",
      "20\n",
      "30\n",
      "40\n",
      "50\n",
      "60\n",
      "70\n",
      "80\n",
      "90\n",
      "100\n",
      "110\n",
      "120\n",
      "130\n",
      "Remain rescaled to 32\n"
     ]
    }
   ],
   "source": [
    "X, y = generate_batch(trainX, trainY, BATCH_SIZE)"
   ]
  },
  {
   "cell_type": "code",
   "execution_count": 158,
   "metadata": {},
   "outputs": [
    {
     "data": {
      "text/plain": [
       "139"
      ]
     },
     "execution_count": 158,
     "metadata": {},
     "output_type": "execute_result"
    }
   ],
   "source": [
    "len(X)"
   ]
  },
  {
   "cell_type": "code",
   "execution_count": 155,
   "metadata": {},
   "outputs": [
    {
     "data": {
      "text/plain": [
       "[array([0., 0., 1., 0., 0., 0.]),\n",
       " array([0., 0., 1., 0., 0., 0.]),\n",
       " array([0., 0., 1., 0., 0., 0.]),\n",
       " array([0., 0., 1., 0., 0., 0.]),\n",
       " array([0., 0., 1., 0., 0., 0.]),\n",
       " array([0., 0., 1., 0., 0., 0.]),\n",
       " array([0., 0., 1., 0., 0., 0.]),\n",
       " array([0., 0., 1., 0., 0., 0.]),\n",
       " array([0., 0., 0., 1., 0., 0.]),\n",
       " array([0., 0., 0., 1., 0., 0.]),\n",
       " array([0., 0., 0., 1., 0., 0.]),\n",
       " array([0., 0., 0., 1., 0., 0.]),\n",
       " array([0., 0., 0., 1., 0., 0.]),\n",
       " array([0., 0., 0., 1., 0., 0.]),\n",
       " array([0., 0., 0., 1., 0., 0.]),\n",
       " array([0., 0., 0., 1., 0., 0.]),\n",
       " array([0., 0., 0., 1., 0., 0.]),\n",
       " array([0., 0., 0., 1., 0., 0.]),\n",
       " array([0., 0., 1., 0., 0., 0.]),\n",
       " array([0., 0., 1., 0., 0., 0.]),\n",
       " array([0., 0., 1., 0., 0., 0.]),\n",
       " array([0., 0., 1., 0., 0., 0.]),\n",
       " array([0., 0., 1., 0., 0., 0.]),\n",
       " array([0., 0., 1., 0., 0., 0.]),\n",
       " array([0., 0., 1., 0., 0., 0.]),\n",
       " array([0., 0., 1., 0., 0., 0.]),\n",
       " array([0., 0., 1., 0., 0., 0.]),\n",
       " array([0., 0., 1., 0., 0., 0.]),\n",
       " array([0., 0., 1., 0., 0., 0.]),\n",
       " array([0., 0., 1., 0., 0., 0.]),\n",
       " array([0., 0., 1., 0., 0., 0.]),\n",
       " array([0., 0., 1., 0., 0., 0.])]"
      ]
     },
     "execution_count": 155,
     "metadata": {},
     "output_type": "execute_result"
    }
   ],
   "source": [
    "y[0]"
   ]
  },
  {
   "cell_type": "code",
   "execution_count": 156,
   "metadata": {},
   "outputs": [
    {
     "data": {
      "text/plain": [
       "array([0.8125    , 0.8       , 0.76190476, 0.50413223, 0.70967742,\n",
       "       0.68181818, 0.58947368, 0.390625  , 0.6875    , 0.72815534,\n",
       "       0.54736842, 0.421875  , 0.98387097, 0.95192308, 0.86956522,\n",
       "       0.59322034, 0.8125    , 0.82524272, 0.74698795, 0.41463415,\n",
       "       0.69230769, 0.73786408, 0.6       , 0.416     , 0.96875   ,\n",
       "       0.95192308, 0.93103448, 0.58333333, 0.75384615, 0.93069307,\n",
       "       0.82105263, 0.5546875 , 0.6875    , 0.77669903, 0.66315789,\n",
       "       0.453125  ])"
      ]
     },
     "execution_count": 156,
     "metadata": {},
     "output_type": "execute_result"
    }
   ],
   "source": [
    "trainX[0]"
   ]
  },
  {
   "cell_type": "code",
   "execution_count": 157,
   "metadata": {},
   "outputs": [
    {
     "data": {
      "text/plain": [
       "array([0., 0., 1., 0., 0., 0.])"
      ]
     },
     "execution_count": 157,
     "metadata": {},
     "output_type": "execute_result"
    }
   ],
   "source": [
    "trainY[0]"
   ]
  },
  {
   "cell_type": "code",
   "execution_count": null,
   "metadata": {},
   "outputs": [],
   "source": []
  },
  {
   "cell_type": "code",
   "execution_count": 153,
   "metadata": {},
   "outputs": [
    {
     "name": "stderr",
     "output_type": "stream",
     "text": [
      "/Users/lzcai/anaconda3/lib/python3.6/site-packages/tensorflow/python/client/session.py:1714: UserWarning: An interactive session is already active. This can cause out-of-memory errors in some cases. You must explicitly call `InteractiveSession.close()` to release resources held by the other session(s).\n",
      "  warnings.warn('An interactive session is already active. This can '\n"
     ]
    },
    {
     "name": "stdout",
     "output_type": "stream",
     "text": [
      "********* BEFORE **********\n",
      "[[-0.1631836   0.60266995  0.05311186 -1.2281368   0.7421102   0.47391963\n",
      "  -1.1101195   0.3278026   0.5335475  -1.0941672 ]\n",
      " [-0.95174646 -1.4321867  -0.6175264  -1.341087   -1.4412092  -0.19351709\n",
      "   1.2099687   1.358986    1.0395935  -0.172818  ]\n",
      " [ 0.7887703   0.00421227  1.2860628   0.40760723  0.32334036 -0.25150952\n",
      "  -0.09254244 -1.2869086   0.5898286  -0.8280431 ]\n",
      " [-0.6399256  -0.67013997  0.086604   -0.7004537  -0.22075005 -0.4225171\n",
      "   0.06603097  0.11168236  1.1918697  -1.340074  ]\n",
      " [-0.5874912  -1.0822691  -1.0236305   0.96170086  0.15750325 -0.5641514\n",
      "  -0.29894337 -0.17243817  0.10877943 -0.53368974]\n",
      " [ 0.40519494  0.13645941 -1.1735432  -1.3089533   0.90199685 -0.9147438\n",
      "   1.0966138  -0.06500351  0.11330171  0.7744566 ]\n",
      " [-0.8272105   1.2012744  -0.5976823  -0.21788606  0.12646599 -0.54623485\n",
      "   1.0002564  -0.4108801  -0.55163205  0.2952577 ]\n",
      " [ 1.1802617   1.2018846   0.7811596   0.25231975  0.5316893   0.84000325\n",
      "  -0.7029413  -0.47306284  1.3170455   0.9365167 ]\n",
      " [-0.3416264  -1.1061598  -0.99976635 -1.2114059   1.1629713  -0.32854146\n",
      "   0.61121434  0.2672655   1.015248   -0.20493676]\n",
      " [-1.1579967  -1.0696435   0.8922341  -0.18303376  0.25188413  0.96693784\n",
      "   0.18533225  0.8355162  -0.7834507  -0.7118835 ]\n",
      " [-1.4423233  -1.2494577  -0.15909764  1.4403063  -0.3224127   0.2917316\n",
      "  -0.69452417  0.1142021  -0.6333883  -1.3770674 ]\n",
      " [-0.67062664 -0.36790895 -0.8345372  -0.04850049 -1.1648209   0.25501913\n",
      "  -0.6025879  -0.60098344  1.0737879   0.36633462]\n",
      " [-0.08039666 -0.19636105 -1.1132975   1.0581868   0.19541165 -0.93584704\n",
      "  -0.9187677  -0.69238293 -0.06653057  1.4191437 ]\n",
      " [ 1.3016516  -1.1086764   1.26654    -1.143177   -0.8471325   1.132399\n",
      "  -1.3728602  -1.1814051   1.2399298   0.7278742 ]\n",
      " [-0.04989822 -1.1065751   0.9173015  -0.34428328  0.34292626  0.08573881\n",
      "   0.35197797 -0.81094205 -1.1317945   0.4893781 ]\n",
      " [-0.95672494 -0.44511026  0.38970035  1.1928432  -0.63999134  0.9924364\n",
      "   0.843923   -1.0048603   0.95782506  0.9759678 ]\n",
      " [-0.13050327  1.1427598  -1.3148266   0.7683081   0.567357    0.14399087\n",
      "  -1.2749411  -0.9512859   1.3594083   1.1272476 ]\n",
      " [ 1.051248   -0.4144462  -1.2704023  -0.8313671   0.2707319   0.93319637\n",
      "  -0.5489854   1.1240592  -0.47232535  0.9338578 ]\n",
      " [-0.9394554   0.38643026 -0.02609518 -1.3523555  -0.9362112   0.9298154\n",
      "  -0.67748624  0.02859906  0.38187575 -0.8704332 ]\n",
      " [-0.8478327   0.7988252  -0.775793   -0.7014592  -0.03976325  0.7365879\n",
      "  -0.35504463  1.1419883  -1.2073268   0.771441  ]\n",
      " [ 0.336418   -0.70727956  1.1190279  -0.5292316  -0.21839678 -0.7316118\n",
      "  -0.3832336   0.35952684 -0.8792229  -0.49183995]\n",
      " [ 0.53258973  0.702554    1.2169104   0.6143657  -0.2595713   0.7051399\n",
      "  -0.16225393  0.12060096 -1.1282061   0.75819033]\n",
      " [ 0.10785231 -0.5448914   0.41988578 -1.2161242  -0.524879   -0.8480773\n",
      "   0.1464249  -0.6918453  -1.1699271   0.4241326 ]\n",
      " [ 0.09340834  0.9522519  -0.08363204  1.116002    0.79844904  0.53650236\n",
      "  -0.46936023 -0.31215295 -1.2788895  -0.7025917 ]\n",
      " [ 1.324313   -0.5368214  -1.1940964  -0.12111251  0.71911424 -0.18723094\n",
      "   0.27348033 -0.504376   -0.7747453  -1.0694946 ]\n",
      " [-0.95678216  0.6524322  -0.477816    0.4428887   0.03806492 -1.2180773\n",
      "  -0.763278    1.0977722  -1.2580125   1.0694629 ]\n",
      " [ 1.0694096  -0.78279346  0.89806795 -0.03380252  1.3211075   1.3363786\n",
      "  -1.0296202  -1.2237315  -0.3924955  -1.2053858 ]\n",
      " [-0.9768655  -0.507342    1.0348581  -0.58243847 -0.98350495  0.229168\n",
      "  -0.03793619 -1.3204912   0.31903905 -0.15205333]\n",
      " [-0.7328163   0.62506336  1.3846318  -1.4143308  -1.2465214   1.2515242\n",
      "  -0.01308253  0.18903808 -0.56416726  1.3484634 ]\n",
      " [-1.0296247   0.10428151  0.1691302   1.1013998  -0.02575172  1.0002332\n",
      "   0.92174226  1.1336695   0.15083563  1.0761614 ]\n",
      " [-0.58260846  0.464287    1.4222821  -1.1372472  -0.11528096  1.1720076\n",
      "  -0.31584615  0.50079006 -1.2425132  -0.96311575]\n",
      " [ 0.93633133  0.29820088 -0.39578605  0.83391577 -1.124165    0.5967516\n",
      "   0.84226507  0.72775763 -0.264802   -1.1576066 ]\n",
      " [-0.7487041  -0.83473575  0.9391503   0.44385436 -0.82128114 -0.8599815\n",
      "   0.31312436  1.2709668  -1.1347371  -0.34303576]\n",
      " [-0.12949798 -0.11989821 -1.1369127  -0.22145598 -0.62152046  0.00316669\n",
      "  -0.75625193 -0.00540648  0.73163015 -0.8360002 ]\n",
      " [ 0.06218872  0.85521317 -1.4259567   0.6167722  -0.6693505   0.37647265\n",
      "   0.55860096  0.41361478 -0.29051545 -0.9935655 ]\n",
      " [ 0.61534876 -1.2788038   0.49525893  0.43086314  0.8917349  -0.07575195\n",
      "  -1.0998477   0.02780087 -1.4308999  -1.1617707 ]]\n",
      "[0. 0. 0. 0. 0. 0. 0. 0. 0. 0.]\n",
      "[[ 1.0808868  -0.39970264  0.34935942 -1.7312769  -1.0470548   1.1193547 ]\n",
      " [ 2.1395774   1.0651474   0.75913525 -0.86239403 -1.103494    0.2571603 ]\n",
      " [ 0.12309778  1.621921    1.954187   -2.2200456  -0.44584522  2.2063916 ]\n",
      " [-0.59584236  0.20540042  1.3861872   1.1074474   0.6816493   1.7843382 ]\n",
      " [ 0.47891638 -0.39930212 -0.04168542 -1.0961229  -2.4451058  -1.8587781 ]\n",
      " [-1.2677444  -0.04591321 -2.1198807   2.2528749   0.6885181  -0.6838025 ]\n",
      " [-1.2899712   1.924818   -2.0891623  -0.24559136 -1.8757954  -0.42958373]\n",
      " [ 1.2788485   0.26662022  0.941124   -1.446531   -1.5386436  -1.2608953 ]\n",
      " [ 2.266116   -2.162751   -2.0586965   0.56771255 -0.46670344 -0.26550832]\n",
      " [ 1.2969949  -0.00785466 -1.7102243  -0.6020315   0.873068   -2.1082644 ]]\n",
      "[0. 0. 0. 0. 0. 0.]\n",
      "***************************\n",
      "iter 0: accuracy 0.1875\n",
      "iter 10: accuracy 0.34375\n",
      "iter 20: accuracy 0.40625\n",
      "iter 30: accuracy 0.5\n",
      "iter 40: accuracy 0.53125\n",
      "iter 50: accuracy 0.5625\n",
      "iter 60: accuracy 0.53125\n",
      "iter 70: accuracy 0.53125\n",
      "iter 80: accuracy 0.53125\n",
      "iter 90: accuracy 0.53125\n",
      "iter 100: accuracy 0.53125\n",
      "iter 110: accuracy 0.5\n",
      "iter 120: accuracy 0.5\n",
      "iter 130: accuracy 0.5\n",
      "iter 140: accuracy 0.5\n",
      "iter 150: accuracy 0.5\n",
      "iter 160: accuracy 0.5\n",
      "iter 170: accuracy 0.5\n",
      "iter 180: accuracy 0.5\n",
      "iter 190: accuracy 0.5\n",
      "iter 200: accuracy 0.5\n",
      "iter 210: accuracy 0.5\n",
      "iter 220: accuracy 0.5\n",
      "iter 230: accuracy 0.53125\n",
      "iter 240: accuracy 0.53125\n"
     ]
    },
    {
     "ename": "KeyboardInterrupt",
     "evalue": "",
     "output_type": "error",
     "traceback": [
      "\u001b[0;31m---------------------------------------------------------------------------\u001b[0m",
      "\u001b[0;31mKeyboardInterrupt\u001b[0m                         Traceback (most recent call last)",
      "\u001b[0;32m<ipython-input-153-bce208ce6f68>\u001b[0m in \u001b[0;36m<module>\u001b[0;34m()\u001b[0m\n\u001b[1;32m     14\u001b[0m \u001b[0;31m#     y_batch = trainY[rand_index]\u001b[0m\u001b[0;34m\u001b[0m\u001b[0;34m\u001b[0m\u001b[0m\n\u001b[1;32m     15\u001b[0m     \u001b[0;32mfor\u001b[0m \u001b[0mj\u001b[0m \u001b[0;32min\u001b[0m \u001b[0mrange\u001b[0m\u001b[0;34m(\u001b[0m\u001b[0mlen\u001b[0m\u001b[0;34m(\u001b[0m\u001b[0mX\u001b[0m\u001b[0;34m)\u001b[0m\u001b[0;34m)\u001b[0m\u001b[0;34m:\u001b[0m\u001b[0;34m\u001b[0m\u001b[0m\n\u001b[0;32m---> 16\u001b[0;31m         \u001b[0mtrain_op\u001b[0m\u001b[0;34m.\u001b[0m\u001b[0mrun\u001b[0m\u001b[0;34m(\u001b[0m\u001b[0mfeed_dict\u001b[0m\u001b[0;34m=\u001b[0m\u001b[0;34m{\u001b[0m\u001b[0mx\u001b[0m\u001b[0;34m:\u001b[0m \u001b[0mX\u001b[0m\u001b[0;34m[\u001b[0m\u001b[0mj\u001b[0m\u001b[0;34m]\u001b[0m\u001b[0;34m,\u001b[0m \u001b[0md\u001b[0m\u001b[0;34m:\u001b[0m \u001b[0my\u001b[0m\u001b[0;34m[\u001b[0m\u001b[0mj\u001b[0m\u001b[0;34m]\u001b[0m\u001b[0;34m}\u001b[0m\u001b[0;34m)\u001b[0m\u001b[0;34m\u001b[0m\u001b[0m\n\u001b[0m\u001b[1;32m     17\u001b[0m     \u001b[0mtrain_acc\u001b[0m\u001b[0;34m.\u001b[0m\u001b[0mappend\u001b[0m\u001b[0;34m(\u001b[0m\u001b[0maccuracy\u001b[0m\u001b[0;34m.\u001b[0m\u001b[0meval\u001b[0m\u001b[0;34m(\u001b[0m\u001b[0mfeed_dict\u001b[0m\u001b[0;34m=\u001b[0m\u001b[0;34m{\u001b[0m\u001b[0mx\u001b[0m\u001b[0;34m:\u001b[0m \u001b[0mX\u001b[0m\u001b[0;34m[\u001b[0m\u001b[0mj\u001b[0m\u001b[0;34m]\u001b[0m\u001b[0;34m,\u001b[0m \u001b[0md\u001b[0m\u001b[0;34m:\u001b[0m \u001b[0my\u001b[0m\u001b[0;34m[\u001b[0m\u001b[0mj\u001b[0m\u001b[0;34m]\u001b[0m\u001b[0;34m}\u001b[0m\u001b[0;34m)\u001b[0m\u001b[0;34m)\u001b[0m\u001b[0;34m\u001b[0m\u001b[0m\n\u001b[1;32m     18\u001b[0m \u001b[0;34m\u001b[0m\u001b[0m\n",
      "\u001b[0;32m~/anaconda3/lib/python3.6/site-packages/tensorflow/python/framework/ops.py\u001b[0m in \u001b[0;36mrun\u001b[0;34m(self, feed_dict, session)\u001b[0m\n\u001b[1;32m   2397\u001b[0m         \u001b[0mnone\u001b[0m\u001b[0;34m,\u001b[0m \u001b[0mthe\u001b[0m \u001b[0mdefault\u001b[0m \u001b[0msession\u001b[0m \u001b[0mwill\u001b[0m \u001b[0mbe\u001b[0m \u001b[0mused\u001b[0m\u001b[0;34m.\u001b[0m\u001b[0;34m\u001b[0m\u001b[0m\n\u001b[1;32m   2398\u001b[0m     \"\"\"\n\u001b[0;32m-> 2399\u001b[0;31m     \u001b[0m_run_using_default_session\u001b[0m\u001b[0;34m(\u001b[0m\u001b[0mself\u001b[0m\u001b[0;34m,\u001b[0m \u001b[0mfeed_dict\u001b[0m\u001b[0;34m,\u001b[0m \u001b[0mself\u001b[0m\u001b[0;34m.\u001b[0m\u001b[0mgraph\u001b[0m\u001b[0;34m,\u001b[0m \u001b[0msession\u001b[0m\u001b[0;34m)\u001b[0m\u001b[0;34m\u001b[0m\u001b[0m\n\u001b[0m\u001b[1;32m   2400\u001b[0m \u001b[0;34m\u001b[0m\u001b[0m\n\u001b[1;32m   2401\u001b[0m \u001b[0m_gradient_registry\u001b[0m \u001b[0;34m=\u001b[0m \u001b[0mregistry\u001b[0m\u001b[0;34m.\u001b[0m\u001b[0mRegistry\u001b[0m\u001b[0;34m(\u001b[0m\u001b[0;34m\"gradient\"\u001b[0m\u001b[0;34m)\u001b[0m\u001b[0;34m\u001b[0m\u001b[0m\n",
      "\u001b[0;32m~/anaconda3/lib/python3.6/site-packages/tensorflow/python/framework/ops.py\u001b[0m in \u001b[0;36m_run_using_default_session\u001b[0;34m(operation, feed_dict, graph, session)\u001b[0m\n\u001b[1;32m   5246\u001b[0m                        \u001b[0;34m\"the operation's graph is different from the session's \"\u001b[0m\u001b[0;34m\u001b[0m\u001b[0m\n\u001b[1;32m   5247\u001b[0m                        \"graph.\")\n\u001b[0;32m-> 5248\u001b[0;31m   \u001b[0msession\u001b[0m\u001b[0;34m.\u001b[0m\u001b[0mrun\u001b[0m\u001b[0;34m(\u001b[0m\u001b[0moperation\u001b[0m\u001b[0;34m,\u001b[0m \u001b[0mfeed_dict\u001b[0m\u001b[0;34m)\u001b[0m\u001b[0;34m\u001b[0m\u001b[0m\n\u001b[0m\u001b[1;32m   5249\u001b[0m \u001b[0;34m\u001b[0m\u001b[0m\n\u001b[1;32m   5250\u001b[0m \u001b[0;34m\u001b[0m\u001b[0m\n",
      "\u001b[0;32m~/anaconda3/lib/python3.6/site-packages/tensorflow/python/client/session.py\u001b[0m in \u001b[0;36mrun\u001b[0;34m(self, fetches, feed_dict, options, run_metadata)\u001b[0m\n\u001b[1;32m    898\u001b[0m     \u001b[0;32mtry\u001b[0m\u001b[0;34m:\u001b[0m\u001b[0;34m\u001b[0m\u001b[0m\n\u001b[1;32m    899\u001b[0m       result = self._run(None, fetches, feed_dict, options_ptr,\n\u001b[0;32m--> 900\u001b[0;31m                          run_metadata_ptr)\n\u001b[0m\u001b[1;32m    901\u001b[0m       \u001b[0;32mif\u001b[0m \u001b[0mrun_metadata\u001b[0m\u001b[0;34m:\u001b[0m\u001b[0;34m\u001b[0m\u001b[0m\n\u001b[1;32m    902\u001b[0m         \u001b[0mproto_data\u001b[0m \u001b[0;34m=\u001b[0m \u001b[0mtf_session\u001b[0m\u001b[0;34m.\u001b[0m\u001b[0mTF_GetBuffer\u001b[0m\u001b[0;34m(\u001b[0m\u001b[0mrun_metadata_ptr\u001b[0m\u001b[0;34m)\u001b[0m\u001b[0;34m\u001b[0m\u001b[0m\n",
      "\u001b[0;32m~/anaconda3/lib/python3.6/site-packages/tensorflow/python/client/session.py\u001b[0m in \u001b[0;36m_run\u001b[0;34m(self, handle, fetches, feed_dict, options, run_metadata)\u001b[0m\n\u001b[1;32m   1133\u001b[0m     \u001b[0;32mif\u001b[0m \u001b[0mfinal_fetches\u001b[0m \u001b[0;32mor\u001b[0m \u001b[0mfinal_targets\u001b[0m \u001b[0;32mor\u001b[0m \u001b[0;34m(\u001b[0m\u001b[0mhandle\u001b[0m \u001b[0;32mand\u001b[0m \u001b[0mfeed_dict_tensor\u001b[0m\u001b[0;34m)\u001b[0m\u001b[0;34m:\u001b[0m\u001b[0;34m\u001b[0m\u001b[0m\n\u001b[1;32m   1134\u001b[0m       results = self._do_run(handle, final_targets, final_fetches,\n\u001b[0;32m-> 1135\u001b[0;31m                              feed_dict_tensor, options, run_metadata)\n\u001b[0m\u001b[1;32m   1136\u001b[0m     \u001b[0;32melse\u001b[0m\u001b[0;34m:\u001b[0m\u001b[0;34m\u001b[0m\u001b[0m\n\u001b[1;32m   1137\u001b[0m       \u001b[0mresults\u001b[0m \u001b[0;34m=\u001b[0m \u001b[0;34m[\u001b[0m\u001b[0;34m]\u001b[0m\u001b[0;34m\u001b[0m\u001b[0m\n",
      "\u001b[0;32m~/anaconda3/lib/python3.6/site-packages/tensorflow/python/client/session.py\u001b[0m in \u001b[0;36m_do_run\u001b[0;34m(self, handle, target_list, fetch_list, feed_dict, options, run_metadata)\u001b[0m\n\u001b[1;32m   1314\u001b[0m     \u001b[0;32mif\u001b[0m \u001b[0mhandle\u001b[0m \u001b[0;32mis\u001b[0m \u001b[0;32mNone\u001b[0m\u001b[0;34m:\u001b[0m\u001b[0;34m\u001b[0m\u001b[0m\n\u001b[1;32m   1315\u001b[0m       return self._do_call(_run_fn, feeds, fetches, targets, options,\n\u001b[0;32m-> 1316\u001b[0;31m                            run_metadata)\n\u001b[0m\u001b[1;32m   1317\u001b[0m     \u001b[0;32melse\u001b[0m\u001b[0;34m:\u001b[0m\u001b[0;34m\u001b[0m\u001b[0m\n\u001b[1;32m   1318\u001b[0m       \u001b[0;32mreturn\u001b[0m \u001b[0mself\u001b[0m\u001b[0;34m.\u001b[0m\u001b[0m_do_call\u001b[0m\u001b[0;34m(\u001b[0m\u001b[0m_prun_fn\u001b[0m\u001b[0;34m,\u001b[0m \u001b[0mhandle\u001b[0m\u001b[0;34m,\u001b[0m \u001b[0mfeeds\u001b[0m\u001b[0;34m,\u001b[0m \u001b[0mfetches\u001b[0m\u001b[0;34m)\u001b[0m\u001b[0;34m\u001b[0m\u001b[0m\n",
      "\u001b[0;32m~/anaconda3/lib/python3.6/site-packages/tensorflow/python/client/session.py\u001b[0m in \u001b[0;36m_do_call\u001b[0;34m(self, fn, *args)\u001b[0m\n\u001b[1;32m   1320\u001b[0m   \u001b[0;32mdef\u001b[0m \u001b[0m_do_call\u001b[0m\u001b[0;34m(\u001b[0m\u001b[0mself\u001b[0m\u001b[0;34m,\u001b[0m \u001b[0mfn\u001b[0m\u001b[0;34m,\u001b[0m \u001b[0;34m*\u001b[0m\u001b[0margs\u001b[0m\u001b[0;34m)\u001b[0m\u001b[0;34m:\u001b[0m\u001b[0;34m\u001b[0m\u001b[0m\n\u001b[1;32m   1321\u001b[0m     \u001b[0;32mtry\u001b[0m\u001b[0;34m:\u001b[0m\u001b[0;34m\u001b[0m\u001b[0m\n\u001b[0;32m-> 1322\u001b[0;31m       \u001b[0;32mreturn\u001b[0m \u001b[0mfn\u001b[0m\u001b[0;34m(\u001b[0m\u001b[0;34m*\u001b[0m\u001b[0margs\u001b[0m\u001b[0;34m)\u001b[0m\u001b[0;34m\u001b[0m\u001b[0m\n\u001b[0m\u001b[1;32m   1323\u001b[0m     \u001b[0;32mexcept\u001b[0m \u001b[0merrors\u001b[0m\u001b[0;34m.\u001b[0m\u001b[0mOpError\u001b[0m \u001b[0;32mas\u001b[0m \u001b[0me\u001b[0m\u001b[0;34m:\u001b[0m\u001b[0;34m\u001b[0m\u001b[0m\n\u001b[1;32m   1324\u001b[0m       \u001b[0mmessage\u001b[0m \u001b[0;34m=\u001b[0m \u001b[0mcompat\u001b[0m\u001b[0;34m.\u001b[0m\u001b[0mas_text\u001b[0m\u001b[0;34m(\u001b[0m\u001b[0me\u001b[0m\u001b[0;34m.\u001b[0m\u001b[0mmessage\u001b[0m\u001b[0;34m)\u001b[0m\u001b[0;34m\u001b[0m\u001b[0m\n",
      "\u001b[0;32m~/anaconda3/lib/python3.6/site-packages/tensorflow/python/client/session.py\u001b[0m in \u001b[0;36m_run_fn\u001b[0;34m(feed_dict, fetch_list, target_list, options, run_metadata)\u001b[0m\n\u001b[1;32m   1305\u001b[0m       \u001b[0mself\u001b[0m\u001b[0;34m.\u001b[0m\u001b[0m_extend_graph\u001b[0m\u001b[0;34m(\u001b[0m\u001b[0;34m)\u001b[0m\u001b[0;34m\u001b[0m\u001b[0m\n\u001b[1;32m   1306\u001b[0m       return self._call_tf_sessionrun(\n\u001b[0;32m-> 1307\u001b[0;31m           options, feed_dict, fetch_list, target_list, run_metadata)\n\u001b[0m\u001b[1;32m   1308\u001b[0m \u001b[0;34m\u001b[0m\u001b[0m\n\u001b[1;32m   1309\u001b[0m     \u001b[0;32mdef\u001b[0m \u001b[0m_prun_fn\u001b[0m\u001b[0;34m(\u001b[0m\u001b[0mhandle\u001b[0m\u001b[0;34m,\u001b[0m \u001b[0mfeed_dict\u001b[0m\u001b[0;34m,\u001b[0m \u001b[0mfetch_list\u001b[0m\u001b[0;34m)\u001b[0m\u001b[0;34m:\u001b[0m\u001b[0;34m\u001b[0m\u001b[0m\n",
      "\u001b[0;32m~/anaconda3/lib/python3.6/site-packages/tensorflow/python/client/session.py\u001b[0m in \u001b[0;36m_call_tf_sessionrun\u001b[0;34m(self, options, feed_dict, fetch_list, target_list, run_metadata)\u001b[0m\n\u001b[1;32m   1407\u001b[0m       return tf_session.TF_SessionRun_wrapper(\n\u001b[1;32m   1408\u001b[0m           \u001b[0mself\u001b[0m\u001b[0;34m.\u001b[0m\u001b[0m_session\u001b[0m\u001b[0;34m,\u001b[0m \u001b[0moptions\u001b[0m\u001b[0;34m,\u001b[0m \u001b[0mfeed_dict\u001b[0m\u001b[0;34m,\u001b[0m \u001b[0mfetch_list\u001b[0m\u001b[0;34m,\u001b[0m \u001b[0mtarget_list\u001b[0m\u001b[0;34m,\u001b[0m\u001b[0;34m\u001b[0m\u001b[0m\n\u001b[0;32m-> 1409\u001b[0;31m           run_metadata)\n\u001b[0m\u001b[1;32m   1410\u001b[0m     \u001b[0;32melse\u001b[0m\u001b[0;34m:\u001b[0m\u001b[0;34m\u001b[0m\u001b[0m\n\u001b[1;32m   1411\u001b[0m       \u001b[0;32mwith\u001b[0m \u001b[0merrors\u001b[0m\u001b[0;34m.\u001b[0m\u001b[0mraise_exception_on_not_ok_status\u001b[0m\u001b[0;34m(\u001b[0m\u001b[0;34m)\u001b[0m \u001b[0;32mas\u001b[0m \u001b[0mstatus\u001b[0m\u001b[0;34m:\u001b[0m\u001b[0;34m\u001b[0m\u001b[0m\n",
      "\u001b[0;31mKeyboardInterrupt\u001b[0m: "
     ]
    }
   ],
   "source": [
    "sess = tf.InteractiveSession()\n",
    "tf.global_variables_initializer().run()\n",
    "train_acc = []\n",
    "\n",
    "print(\"********* BEFORE **********\")\n",
    "print(W.eval())\n",
    "print(b.eval())\n",
    "print(V.eval())\n",
    "print(c.eval())\n",
    "print(\"***************************\")\n",
    "for i in range(EPOCHS):\n",
    "#     rand_index = np.random.choice(int(len(trainX)/BATCH_SIZE)*2, size=BATCH_SIZE)\n",
    "#     x_batch = trainX[rand_index]  # Transpose to the correct shape\n",
    "#     y_batch = trainY[rand_index]\n",
    "    for j in range(len(X)): # X[j]: One batch with 32 records\n",
    "        train_op.run(feed_dict={x: X[j], d: y[j]})\n",
    "    train_acc.append(accuracy.eval(feed_dict={x: X[j], d: y[j]}))\n",
    "\n",
    "    if i % 10 == 0:\n",
    "        print('iter %d: accuracy %g'%(i, train_acc[i]))\n",
    "\n",
    "print(\"********* AFTER **********\")\n",
    "print(W.eval())\n",
    "print(b.eval())\n",
    "print(V.eval())\n",
    "print(c.eval())\n",
    "print(\"**************************\")"
   ]
  },
  {
   "cell_type": "code",
   "execution_count": null,
   "metadata": {},
   "outputs": [],
   "source": []
  },
  {
   "cell_type": "code",
   "execution_count": null,
   "metadata": {},
   "outputs": [],
   "source": []
  },
  {
   "cell_type": "code",
   "execution_count": 98,
   "metadata": {},
   "outputs": [
    {
     "name": "stdout",
     "output_type": "stream",
     "text": [
      "********* BEFORE **********\n",
      "[[-0.19989009  0.4903861   0.234219   -0.9959286   0.5981305   0.59950495\n",
      "  -1.1553173   0.4607051   0.5899705  -1.2237152 ]\n",
      " [-1.0255724  -1.5502046  -0.8979562  -1.1498064  -1.5834476  -0.05036698\n",
      "   1.2605588   1.3967464   1.2451229  -0.2405093 ]\n",
      " [ 0.7250079  -0.03535295  1.6924105   0.37279528  0.27839866 -0.14443174\n",
      "  -0.07551167 -0.87984544  0.34147844 -0.9406678 ]\n",
      " [-0.65998584 -0.7080038   0.35340714 -0.71683925 -0.35197163 -0.34741756\n",
      "   0.16737023  0.0543531   1.1219585  -1.2312447 ]\n",
      " [-0.6387123  -1.1896455  -0.82239586  1.1639997   0.06220909 -0.435247\n",
      "  -0.32398522  0.11517991  0.07830356 -0.744543  ]\n",
      " [ 0.3177965   0.02433485 -1.4240621  -1.149511    0.8067215  -0.7740776\n",
      "   1.1521646   0.12553705  0.23013231  0.63372016]\n",
      " [-0.9051388   1.1595538  -0.44105634 -0.27290526  0.06549148 -0.4334708\n",
      "   1.0947609  -0.12521793 -0.71145755  0.25680473]\n",
      " [ 1.153712    1.1645901   1.015659    0.227401    0.39099166  0.9173834\n",
      "  -0.6169094  -0.537867    1.2557749   1.0755807 ]\n",
      " [-0.41661236 -1.2074721  -1.007669   -1.051954    1.1055522  -0.19856235\n",
      "   0.6006793   0.6443694   0.9897537  -0.4475353 ]\n",
      " [-1.2689507  -1.1844218   0.4733938  -0.05133312  0.1857779   1.1196848\n",
      "   0.2764563   1.1227556  -0.6563336  -0.8938007 ]\n",
      " [-1.5289977  -1.2834712  -0.10866608  1.3481224  -0.3588878   0.4064784\n",
      "  -0.52105963  0.44298553 -0.78722316 -1.4363395 ]\n",
      " [-0.6993371  -0.40198517 -0.64556426 -0.09803607 -1.3021637   0.33292395\n",
      "  -0.4527771  -0.6873671   1.0178825   0.51991796]\n",
      " [-0.10746565 -0.33513924 -1.0311935   1.4170656   0.01085261 -0.80079776\n",
      "  -1.1028708  -0.59796846  0.14716601  1.2771674 ]\n",
      " [ 1.2635027  -1.2453309   1.1944249  -0.81202614 -1.0242842   1.2712663\n",
      "  -1.5022299  -1.0868243   1.481324    0.593294  ]\n",
      " [-0.09818048 -1.1297925   1.3046669  -0.38857687  0.29087836  0.18535979\n",
      "   0.5766464  -0.54837584 -1.309473    0.35259393]\n",
      " [-0.980625   -0.457423    0.75409144  1.0824518  -0.7468006   1.0644513\n",
      "   1.1292487  -1.05004     0.81170386  1.0600115 ]\n",
      " [-0.16789925  1.0167726  -1.2357697   1.0802681   0.43545952  0.2718771\n",
      "  -1.5024526  -0.6671839   1.4477519   0.9181932 ]\n",
      " [ 1.0054482  -0.54199874 -1.3248019  -0.5263032   0.14203686  1.0694193\n",
      "  -0.7303222   1.4225142  -0.3403059   0.70644563]\n",
      " [-1.0261062   0.3741488   0.42009676 -1.4993838  -0.9191666   1.0339264\n",
      "  -0.515682    0.583888    0.01144102 -1.015294  ]\n",
      " [-0.87919116  0.7932991  -0.3888909  -0.82901734 -0.12807566  0.8028047\n",
      "  -0.08293204  1.1454972  -1.3861874   0.86926526]\n",
      " [ 0.28608027 -0.82642126  1.0922942  -0.27028012 -0.31844088 -0.6006524\n",
      "  -0.5672504   0.7040791  -0.8104744  -0.7196846 ]\n",
      " [ 0.45626843  0.57814676  0.9480681   0.8450676  -0.34793675  0.84883547\n",
      "  -0.3115946   0.49231064 -1.0034503   0.52571404]\n",
      " [ 0.01769511 -0.5674468   0.6219134  -1.3761667  -0.54150265 -0.73405045\n",
      "   0.44489142 -0.30770183 -1.4157362   0.35098773]\n",
      " [ 0.05252785  0.9359831   0.17649071  0.96650714  0.6847851   0.6141288\n",
      "  -0.08272076 -0.41546613 -1.4072956  -0.5326008 ]\n",
      " [ 1.3434851  -0.69182706 -1.1283911   0.36875668  0.4469396  -0.06027409\n",
      "   0.00787728 -0.72959846 -0.3504098  -1.110514  ]\n",
      " [-0.9442465   0.49523476 -0.41690245  0.92515445 -0.22390208 -1.0857712\n",
      "  -1.0490153   0.94202065 -0.8580419   1.0068722 ]\n",
      " [ 1.0314173  -0.7956462   1.5100931  -0.11615566  1.2661225   1.4330482\n",
      "  -0.6163717  -1.010086   -0.65750957 -1.3478084 ]\n",
      " [-1.0011389  -0.49842918  1.5096793  -0.773758   -1.0554627   0.2948002\n",
      "   0.5195604  -1.3765774   0.07708641 -0.10979474]\n",
      " [-0.72134155  0.47950375  1.482278   -0.9690004  -1.4716468   1.3762196\n",
      "  -0.34404626  0.1372503  -0.24605344  1.2850542 ]\n",
      " [-1.0118444  -0.0440721   0.36679232  1.5609279  -0.24158104  1.1293862\n",
      "   0.53058785  1.2009714   0.41247928  0.95362866]\n",
      " [-0.647446    0.44248143  1.7306145  -1.2380719  -0.17980088  1.2757684\n",
      "   0.16652595  0.57965523 -1.3999472  -1.0280277 ]\n",
      " [ 0.8880257   0.29470316 -0.17971087  0.648895   -1.2255257   0.6732513\n",
      "   1.4828402   0.51344013 -0.37455747 -1.0517968 ]\n",
      " [-0.74509174 -0.9649579   1.1828687   0.79397416 -0.9724135  -0.7409243\n",
      "  -0.09097845  1.5178269  -1.0362204  -0.46499625]\n",
      " [-0.11395647 -0.25027424 -0.7558852   0.14905874 -0.76372087  0.12273268\n",
      "  -1.1931738   0.34279534  0.7792195  -1.033408  ]\n",
      " [-0.02795303  0.8391781  -1.249912    0.4553441  -0.70565856  0.48530528\n",
      "   1.074417    0.58735406 -0.47640756 -1.0860615 ]\n",
      " [ 0.53695005 -1.2874544   0.5155791   0.2256939   0.79021966  0.00991888\n",
      "  -0.43290064 -0.20712058 -1.49197    -1.0306149 ]]\n",
      "[-0.05029777 -0.27313069 -1.8133279   0.34074885 -0.7879988   0.26309848\n",
      "  0.84469825 -2.1480665   1.4488397   1.032041  ]\n",
      "[[ 1.0206519  -0.39726657  0.0134336  -1.8880198  -0.62259275  1.245421  ]\n",
      " [ 2.0999901   1.1352968   0.54229313 -1.0841652  -0.69117975  0.25266692]\n",
      " [-0.51840776  1.8657367   3.8149514  -2.7105708  -0.7269349   1.514601  ]\n",
      " [-0.91380125 -0.11511897  1.0113717   0.9399973   1.2933897   2.3528895 ]\n",
      " [ 0.32285988 -0.4578236  -0.35598168 -0.9943108  -2.105585   -1.7707032 ]\n",
      " [-2.2641163  -0.47111365 -1.2502519   2.5327494   0.96130145 -0.68439674]\n",
      " [-1.4379603   3.0779662  -3.3106437  -0.61212367 -0.9309717  -0.7911633 ]\n",
      " [ 0.55897945 -1.4058282   2.994327   -0.17478988 -2.5444338  -1.1875553 ]\n",
      " [ 2.0716069  -2.5916169  -3.0819583   0.57020843  0.43122992  0.480904  ]\n",
      " [ 1.1382592  -0.4138474  -2.7066047  -0.6607906   1.7364404  -1.3515316 ]]\n",
      "[-1.0265923  -0.47235683  0.74449176  0.23481217  0.47509488  0.04455576]\n",
      "***************************\n",
      "[[-3.4792514  -0.51885796  4.106536    0.77749217 -0.89485514  0.0993769 ]\n",
      " [-3.4445639  -0.431775    4.152059    0.5909978  -0.7867502   0.1300088 ]\n",
      " [-3.0980313  -1.0383106   3.2830212   0.9744004  -0.19259825  0.47286168]\n",
      " ...\n",
      " [-3.5429585   0.39841506  1.1485741   0.62727296  0.5495684   0.7791973 ]\n",
      " [-3.2800064  -0.30992153  0.8065148   1.1907418   0.7420547   0.4646949 ]\n",
      " [-3.6460822   0.19595584  1.776614    0.9470502   0.51301134  0.7050214 ]] \n",
      " 0.3755\n"
     ]
    }
   ],
   "source": [
    "print(\"********* BEFORE **********\")\n",
    "print(W.eval())\n",
    "print(b.eval())\n",
    "print(V.eval())\n",
    "print(c.eval())\n",
    "print(\"***************************\")\n",
    "output_2_, accuracy_ = sess.run([f, accuracy], feed_dict={x: testX, d: testY})\n",
    "print(output_2_, '\\n',accuracy_)"
   ]
  },
  {
   "cell_type": "code",
   "execution_count": null,
   "metadata": {},
   "outputs": [],
   "source": []
  },
  {
   "cell_type": "code",
   "execution_count": 14,
   "metadata": {},
   "outputs": [
    {
     "data": {
      "text/plain": [
       "array([0.8125    , 0.8       , 0.76190476, 0.50413223, 0.70967742,\n",
       "       0.68181818, 0.58947368, 0.390625  , 0.6875    , 0.72815534,\n",
       "       0.54736842, 0.421875  , 0.98387097, 0.95192308, 0.86956522,\n",
       "       0.59322034, 0.8125    , 0.82524272, 0.74698795, 0.41463415,\n",
       "       0.69230769, 0.73786408, 0.6       , 0.416     , 0.96875   ,\n",
       "       0.95192308, 0.93103448, 0.58333333, 0.75384615, 0.93069307,\n",
       "       0.82105263, 0.5546875 , 0.6875    , 0.77669903, 0.66315789,\n",
       "       0.453125  ])"
      ]
     },
     "execution_count": 14,
     "metadata": {},
     "output_type": "execute_result"
    }
   ],
   "source": [
    "trainX[0]"
   ]
  },
  {
   "cell_type": "code",
   "execution_count": null,
   "metadata": {},
   "outputs": [],
   "source": []
  },
  {
   "cell_type": "code",
   "execution_count": 16,
   "metadata": {},
   "outputs": [],
   "source": [
    "x = tf.placeholder(tf.float32, shape=[None, NUM_FEATURES])\n",
    "linear_model = tf.layers.Dense(units=1)\n",
    "first_layer = linear_model(x)"
   ]
  },
  {
   "cell_type": "code",
   "execution_count": null,
   "metadata": {},
   "outputs": [],
   "source": []
  },
  {
   "cell_type": "code",
   "execution_count": null,
   "metadata": {},
   "outputs": [],
   "source": []
  },
  {
   "cell_type": "code",
   "execution_count": null,
   "metadata": {},
   "outputs": [],
   "source": []
  },
  {
   "cell_type": "code",
   "execution_count": null,
   "metadata": {},
   "outputs": [],
   "source": []
  }
 ],
 "metadata": {
  "kernelspec": {
   "display_name": "Python 3",
   "language": "python",
   "name": "python3"
  },
  "language_info": {
   "codemirror_mode": {
    "name": "ipython",
    "version": 3
   },
   "file_extension": ".py",
   "mimetype": "text/x-python",
   "name": "python",
   "nbconvert_exporter": "python",
   "pygments_lexer": "ipython3",
   "version": "3.6.5"
  }
 },
 "nbformat": 4,
 "nbformat_minor": 2
}
