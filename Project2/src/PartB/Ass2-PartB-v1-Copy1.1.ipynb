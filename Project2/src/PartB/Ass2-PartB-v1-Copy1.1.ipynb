{
 "cells": [
  {
   "cell_type": "raw",
   "metadata": {},
   "source": [
    "# CNN Program From Prof. Dunno what this is doing."
   ]
  },
  {
   "cell_type": "markdown",
   "metadata": {},
   "source": [
    "## 1. Import Everything"
   ]
  },
  {
   "cell_type": "markdown",
   "metadata": {},
   "source": [
    "### 1.1. Import Libraries"
   ]
  },
  {
   "cell_type": "code",
   "execution_count": 14,
   "metadata": {},
   "outputs": [],
   "source": [
    "import numpy as np\n",
    "import pandas\n",
    "import tensorflow as tf\n",
    "import csv\n",
    "import os\n",
    "import pylab as plt"
   ]
  },
  {
   "cell_type": "markdown",
   "metadata": {},
   "source": [
    "### 1.2. Set Parameters"
   ]
  },
  {
   "cell_type": "code",
   "execution_count": 6,
   "metadata": {},
   "outputs": [],
   "source": [
    "MAX_DOCUMENT_LENGTH = 100\n",
    "HIDDEN_SIZE = 20\n",
    "MAX_LABEL = 15\n",
    "EMBEDDING_SIZE = 50\n",
    "\n",
    "no_epochs = 100\n",
    "lr = 0.01\n",
    "\n",
    "tf.logging.set_verbosity(tf.logging.ERROR)\n",
    "seed = 10\n",
    "tf.set_random_seed(seed)\n",
    "\n",
    "DATA_DIR = \"./resource\""
   ]
  },
  {
   "cell_type": "markdown",
   "metadata": {},
   "source": [
    "## 2. Define Helper Function"
   ]
  },
  {
   "cell_type": "markdown",
   "metadata": {},
   "source": [
    "### 2.1. Helper Function for Loading Data"
   ]
  },
  {
   "cell_type": "code",
   "execution_count": 7,
   "metadata": {},
   "outputs": [],
   "source": [
    "def data_read_words():\n",
    "  \n",
    "    x_train, y_train, x_test, y_test = [], [], [], []\n",
    "    TRAIN_FILENAME = 'train_medium.csv'\n",
    "    TEST_FILENAME = \"test_medium.csv\"\n",
    "    \n",
    "    with open(os.path.join(DATA_DIR, TRAIN_FILENAME), encoding='utf-8') as filex:\n",
    "        reader = csv.reader(filex)\n",
    "        for row in reader:\n",
    "            x_train.append(row[2])\n",
    "            y_train.append(int(row[0]))\n",
    "\n",
    "    with open(os.path.join(DATA_DIR, TEST_FILENAME), encoding='utf-8') as filex:\n",
    "        reader = csv.reader(filex)\n",
    "        for row in reader:\n",
    "            x_test.append(row[2])\n",
    "            y_test.append(int(row[0]))\n",
    "\n",
    "    x_train = pandas.Series(x_train)\n",
    "    y_train = pandas.Series(y_train)\n",
    "    x_test = pandas.Series(x_test)\n",
    "    y_test = pandas.Series(y_test)\n",
    "    y_train = y_train.values\n",
    "    y_test = y_test.values\n",
    "\n",
    "    vocab_processor = tf.contrib.learn.preprocessing.VocabularyProcessor(\n",
    "        MAX_DOCUMENT_LENGTH)\n",
    "\n",
    "    x_transform_train = vocab_processor.fit_transform(x_train)\n",
    "    x_transform_test = vocab_processor.transform(x_test)\n",
    "\n",
    "    x_train = np.array(list(x_transform_train))\n",
    "    x_test = np.array(list(x_transform_test))\n",
    "\n",
    "    no_words = len(vocab_processor.vocabulary_)\n",
    "    print('Total words: %d' % no_words)\n",
    "\n",
    "    return x_train, y_train, x_test, y_test, no_words"
   ]
  },
  {
   "cell_type": "markdown",
   "metadata": {},
   "source": [
    "### 2.2. Helper Function for RNN"
   ]
  },
  {
   "cell_type": "code",
   "execution_count": 2,
   "metadata": {},
   "outputs": [],
   "source": [
    "def rnn_model(x):\n",
    "\n",
    "    word_vectors = tf.contrib.layers.embed_sequence(\n",
    "        x, vocab_size=n_words, embed_dim=EMBEDDING_SIZE)\n",
    "\n",
    "    word_list = tf.unstack(word_vectors, axis=1)\n",
    "\n",
    "    cell = tf.nn.rnn_cell.GRUCell(HIDDEN_SIZE)\n",
    "    _, encoding = tf.nn.static_rnn(cell, word_list, dtype=tf.float32)\n",
    "\n",
    "    logits = tf.layers.dense(encoding, MAX_LABEL, activation=None)\n",
    "\n",
    "    return logits, word_list"
   ]
  },
  {
   "cell_type": "markdown",
   "metadata": {},
   "source": [
    "## 3. Handle Data and Model"
   ]
  },
  {
   "cell_type": "markdown",
   "metadata": {},
   "source": [
    "### 3.1. Load in Data"
   ]
  },
  {
   "cell_type": "code",
   "execution_count": 9,
   "metadata": {},
   "outputs": [
    {
     "name": "stdout",
     "output_type": "stream",
     "text": [
      "Total words: 38658\n",
      "(5600, 100) (5600,)\n",
      "(700, 100) (700,)\n"
     ]
    }
   ],
   "source": [
    "global n_words\n",
    "x_train, y_train, x_test, y_test, n_words = data_read_words()\n",
    "print(x_train.shape, y_train.shape)\n",
    "print(x_test.shape, y_test.shape)"
   ]
  },
  {
   "cell_type": "markdown",
   "metadata": {},
   "source": [
    "### 3.2. Create the Model"
   ]
  },
  {
   "cell_type": "code",
   "execution_count": 10,
   "metadata": {},
   "outputs": [],
   "source": [
    "x = tf.placeholder(tf.int64, [None, MAX_DOCUMENT_LENGTH])\n",
    "y_ = tf.placeholder(tf.int64)\n",
    "\n",
    "logits, word_list = rnn_model(x)\n",
    "\n",
    "entropy = tf.reduce_mean(tf.nn.softmax_cross_entropy_with_logits_v2(labels=tf.one_hot(y_, MAX_LABEL), logits=logits))\n",
    "train_op = tf.train.AdamOptimizer(lr).minimize(entropy)"
   ]
  },
  {
   "cell_type": "markdown",
   "metadata": {},
   "source": [
    "## 4. RUN!!!!"
   ]
  },
  {
   "cell_type": "code",
   "execution_count": 11,
   "metadata": {},
   "outputs": [],
   "source": [
    "sess = tf.Session()\n",
    "sess.run(tf.global_variables_initializer())"
   ]
  },
  {
   "cell_type": "code",
   "execution_count": 12,
   "metadata": {},
   "outputs": [
    {
     "name": "stdout",
     "output_type": "stream",
     "text": [
      "epoch: 0, entropy: 2.70874\n",
      "epoch: 10, entropy: 2.61498\n",
      "epoch: 20, entropy: 2.11327\n",
      "epoch: 30, entropy: 1.9908\n",
      "epoch: 40, entropy: 1.76666\n",
      "epoch: 50, entropy: 1.37886\n",
      "epoch: 60, entropy: 1.00852\n",
      "epoch: 70, entropy: 0.714895\n",
      "epoch: 80, entropy: 0.403367\n",
      "epoch: 90, entropy: 0.208247\n"
     ]
    }
   ],
   "source": [
    "# training\n",
    "loss = []\n",
    "for e in range(no_epochs):\n",
    "    word_list_, _, loss_  = sess.run([word_list, train_op, entropy], {x: x_train, y_: y_train})\n",
    "    loss.append(loss_)\n",
    "\n",
    "    if e%10 == 0:\n",
    "        print('epoch: %d, entropy: %g'%(e, loss[e]))"
   ]
  },
  {
   "cell_type": "markdown",
   "metadata": {},
   "source": [
    "## 5. Plot Graph"
   ]
  },
  {
   "cell_type": "code",
   "execution_count": 13,
   "metadata": {},
   "outputs": [
    {
     "name": "stdout",
     "output_type": "stream",
     "text": [
      "[2.7087355, 2.695521, 2.6849673, 2.6762092, 2.6667118, 2.658575, 2.6502922, 2.6431928, 2.63818, 2.630701, 2.6149833, 2.5735767, 2.4971616, 2.408225, 2.3398645, 2.2760139, 2.224969, 2.1825228, 2.1463494, 2.1237633, 2.1132677, 2.1098902, 2.1043549, 2.09437, 2.076878, 2.0610375, 2.0474446, 2.0333622, 2.016702, 2.003241, 1.9907987, 1.9790936, 1.9666286, 1.9508852, 1.9305481, 1.9078038, 1.8826848, 1.8567389, 1.8290834, 1.7992, 1.76666, 1.7313273, 1.6937641, 1.6545082, 1.6141151, 1.5736454, 1.5341545, 1.4951661, 1.456048, 1.417192, 1.378864, 1.3413681, 1.3047532, 1.2683915, 1.2320496, 1.1951003, 1.1580349, 1.1208994, 1.0834072, 1.045036, 1.008517, 0.97801965, 1.0092307, 0.9879778, 0.9820717, 0.89911395, 0.8553284, 0.82989013, 0.7985873, 0.7582053, 0.7148951, 0.67892605, 0.64107734, 0.608729, 0.57433885, 0.54395276, 0.51207596, 0.48347706, 0.45599243, 0.42990783, 0.40336657, 0.37990192, 0.3551796, 0.33215815, 0.30878252, 0.2879401, 0.26912352, 0.25275403, 0.2363392, 0.22172843, 0.20824668, 0.19500482, 0.18283787, 0.17135867, 0.16170783, 0.1506002, 0.14118882, 0.13237496, 0.12420855, 0.11670268]\n"
     ]
    }
   ],
   "source": [
    "print(loss)"
   ]
  },
  {
   "cell_type": "code",
   "execution_count": 15,
   "metadata": {},
   "outputs": [
    {
     "data": {
      "text/plain": [
       "[<matplotlib.lines.Line2D at 0x1c8330feb8>]"
      ]
     },
     "execution_count": 15,
     "metadata": {},
     "output_type": "execute_result"
    },
    {
     "data": {
      "image/png": "[encoded data removed]",
      "text/plain": [
       "<Figure size 432x288 with 1 Axes>"
      ]
     },
     "metadata": {},
     "output_type": "display_data"
    }
   ],
   "source": [
    "plt.plot(range(len(loss)),loss)"
   ]
  },
  {
   "cell_type": "code",
   "execution_count": null,
   "metadata": {},
   "outputs": [],
   "source": []
  }
 ],
 "metadata": {
  "kernelspec": {
   "display_name": "Python 3",
   "language": "python",
   "name": "python3"
  },
  "language_info": {
   "codemirror_mode": {
    "name": "ipython",
    "version": 3
   },
   "file_extension": ".py",
   "mimetype": "text/x-python",
   "name": "python",
   "nbconvert_exporter": "python",
   "pygments_lexer": "ipython3",
   "version": "3.6.5"
  }
 },
 "nbformat": 4,
 "nbformat_minor": 2
}
