{
 "cells": [
  {
   "cell_type": "code",
   "execution_count": 1,
   "metadata": {},
   "outputs": [
    {
     "name": "stderr",
     "output_type": "stream",
     "text": [
      "/Users/lzcai/anaconda3/lib/python3.6/site-packages/h5py/__init__.py:36: FutureWarning: Conversion of the second argument of issubdtype from `float` to `np.floating` is deprecated. In future, it will be treated as `np.float64 == np.dtype(float).type`.\n",
      "  from ._conv import register_converters as _register_converters\n"
     ]
    }
   ],
   "source": [
    "import math\n",
    "import tensorflow as tf\n",
    "import numpy as np\n",
    "import pylab as plt"
   ]
  },
  {
   "cell_type": "code",
   "execution_count": 3,
   "metadata": {},
   "outputs": [],
   "source": [
    "# scale data\n",
    "def scale(X, X_min, X_max):\n",
    "    return (X - X_min)/(X_max-X_min)"
   ]
  },
  {
   "cell_type": "code",
   "execution_count": 21,
   "metadata": {},
   "outputs": [],
   "source": [
    "# Initialize Values\n",
    "NUM_FEATURES = 36\n",
    "NUM_CLASSES = 6\n",
    "NUM_HIDDEN = 10\n",
    "\n",
    "LEARNING_RATE = 0.01\n",
    "EPOCHS = 5000\n",
    "BATCH_SIZE = 32\n",
    "NUM_NEURONS = 10\n",
    "SEED = 10\n",
    "BETA = pow(10, -6)\n",
    "np.random.seed(SEED)\n",
    "\n",
    "TRAIN_FILE_NAME = 'sat_train.txt'\n",
    "TEST_FILE_NAME = 'sat_test.txt'"
   ]
  },
  {
   "cell_type": "code",
   "execution_count": 5,
   "metadata": {},
   "outputs": [],
   "source": [
    "def process_inputs_from_file(fileName): # Read in data\n",
    "    inputs = np.loadtxt(fileName, delimiter=' ')\n",
    "    X, _Y = inputs[:, :NUM_FEATURES], inputs[:, -1].astype(int)\n",
    "    X = scale(X, np.min(X, axis=0), np.max(X, axis=0))\n",
    "    _Y[_Y == 7] = 6 # Actually dont have, just in case have error data\n",
    "\n",
    "    Y = np.zeros((_Y.shape[0], NUM_CLASSES))\n",
    "    Y[np.arange(_Y.shape[0]), _Y - 1] = 1 #one hot matrix\n",
    "    return X, Y"
   ]
  },
  {
   "cell_type": "code",
   "execution_count": 7,
   "metadata": {},
   "outputs": [],
   "source": [
    "trainX, trainY = process_inputs_from_file(TRAIN_FILE_NAME)\n",
    "testX, textY = process_inputs_from_file(TEST_FILE_NAME)"
   ]
  },
  {
   "cell_type": "code",
   "execution_count": 8,
   "metadata": {},
   "outputs": [],
   "source": [
    "def init_weights (feature_no, neuron_no, logistic = True):\n",
    "    # From eg.5.2\n",
    "    n_in = feature_no\n",
    "    n_out = neuron_no\n",
    "    W_values = np.asarray(np.random.uniform(low=-np.sqrt(6. / (n_in + n_out)),\n",
    "                                            high=np.sqrt(6. / (n_in + n_out)),\n",
    "                                            size=(n_in, n_out)))\n",
    "    if logistic == True:\n",
    "        W_values *= 4\n",
    "    return(tf.Variable(W_values, dtype=tf.float32))"
   ]
  },
  {
   "cell_type": "code",
   "execution_count": 9,
   "metadata": {},
   "outputs": [],
   "source": [
    "def init_bias(neuron_no = 1):\n",
    "    # From eg.5.2\n",
    "    return(tf.Variable(np.zeros(neuron_no), dtype=tf.float32))"
   ]
  },
  {
   "cell_type": "code",
   "execution_count": 10,
   "metadata": {},
   "outputs": [],
   "source": [
    "V = init_weights(NUM_HIDDEN, NUM_CLASSES)\n",
    "c = init_bias(NUM_CLASSES)\n",
    "W = init_weights(NUM_FEATURES, NUM_HIDDEN)\n",
    "b = init_bias(NUM_HIDDEN)"
   ]
  },
  {
   "cell_type": "code",
   "execution_count": 11,
   "metadata": {},
   "outputs": [],
   "source": [
    "x = tf.placeholder(tf.float32, trainX.shape)\n",
    "d = tf.placeholder(tf.float32, trainY.shape)\n",
    "\n",
    "z = tf.matmul(x, W) + b\n",
    "h = tf.nn.sigmoid(z)\n",
    "y = tf.matmul(h, V) + c"
   ]
  },
  {
   "cell_type": "code",
   "execution_count": 13,
   "metadata": {},
   "outputs": [],
   "source": [
    "cross_entropy = tf.nn.softmax_cross_entropy_with_logits_v2(\n",
    "    labels=trainY, logits=y)\n",
    "regularization = tf.nn.l2_loss(V) + tf.nn.l2_loss(W) \n",
    "J = tf.reduce_mean(cross_entropy + BETA * regularization)"
   ]
  },
  {
   "cell_type": "code",
   "execution_count": 15,
   "metadata": {},
   "outputs": [],
   "source": [
    "optimizer = tf.train.GradientDescentOptimizer(LEARNING_RATE)\n",
    "train_op = optimizer.minimize(J)\n",
    "correct_prediction = tf.cast(tf.equal(tf.argmax(y, 1), \n",
    "                                      tf.argmax(trainY, 1)), tf.float32)\n",
    "accuracy = tf.reduce_mean(correct_prediction)"
   ]
  },
  {
   "cell_type": "code",
   "execution_count": 22,
   "metadata": {},
   "outputs": [
    {
     "name": "stdout",
     "output_type": "stream",
     "text": [
      "iter 0: accuracy 0.111387\n",
      "iter 100: accuracy 0.297632\n",
      "iter 200: accuracy 0.315445\n",
      "iter 300: accuracy 0.338895\n",
      "iter 400: accuracy 0.363021\n",
      "iter 500: accuracy 0.384893\n",
      "iter 600: accuracy 0.404735\n",
      "iter 700: accuracy 0.42345\n",
      "iter 800: accuracy 0.446449\n",
      "iter 900: accuracy 0.462458\n",
      "iter 1000: accuracy 0.485457\n",
      "iter 1100: accuracy 0.515896\n",
      "iter 1200: accuracy 0.549493\n",
      "iter 1300: accuracy 0.585569\n",
      "iter 1400: accuracy 0.61894\n",
      "iter 1500: accuracy 0.643743\n",
      "iter 1600: accuracy 0.661781\n",
      "iter 1700: accuracy 0.673732\n",
      "iter 1800: accuracy 0.684104\n",
      "iter 1900: accuracy 0.690417\n",
      "iter 2000: accuracy 0.697632\n",
      "iter 2100: accuracy 0.704622\n",
      "iter 2200: accuracy 0.711612\n",
      "iter 2300: accuracy 0.716573\n",
      "iter 2400: accuracy 0.721082\n",
      "iter 2500: accuracy 0.722886\n",
      "iter 2600: accuracy 0.726268\n",
      "iter 2700: accuracy 0.728298\n",
      "iter 2800: accuracy 0.730101\n",
      "iter 2900: accuracy 0.733033\n",
      "iter 3000: accuracy 0.735738\n",
      "iter 3100: accuracy 0.737317\n",
      "iter 3200: accuracy 0.738219\n",
      "iter 3300: accuracy 0.740023\n",
      "iter 3400: accuracy 0.742728\n",
      "iter 3500: accuracy 0.744532\n",
      "iter 3600: accuracy 0.746336\n",
      "iter 3700: accuracy 0.747914\n",
      "iter 3800: accuracy 0.749944\n",
      "iter 3900: accuracy 0.751071\n",
      "iter 4000: accuracy 0.752875\n",
      "iter 4100: accuracy 0.754002\n",
      "iter 4200: accuracy 0.755355\n",
      "iter 4300: accuracy 0.756032\n",
      "iter 4400: accuracy 0.758512\n",
      "iter 4500: accuracy 0.759639\n",
      "iter 4600: accuracy 0.760992\n",
      "iter 4700: accuracy 0.763247\n",
      "iter 4800: accuracy 0.765276\n",
      "iter 4900: accuracy 0.765953\n"
     ]
    }
   ],
   "source": [
    "with tf.Session() as sess:\n",
    "    sess.run(tf.global_variables_initializer())\n",
    "    train_acc = []\n",
    "    for i in range(EPOCHS):\n",
    "        train_op.run(feed_dict={x: trainX, d: trainY})\n",
    "        train_acc.append(accuracy.eval(feed_dict={x: trainX, d: trainY}))\n",
    "\n",
    "        if i % 100 == 0:\n",
    "            print('iter %d: accuracy %g'%(i, train_acc[i]))"
   ]
  },
  {
   "cell_type": "code",
   "execution_count": 23,
   "metadata": {},
   "outputs": [
    {
     "data": {
      "image/png": "[encoded data removed]",
      "text/plain": [
       "<Figure size 432x288 with 1 Axes>"
      ]
     },
     "metadata": {},
     "output_type": "display_data"
    }
   ],
   "source": [
    "# plot learning curves\n",
    "plt.figure(1)\n",
    "plt.plot(range(EPOCHS), train_acc)\n",
    "plt.xlabel(str(EPOCHS) + ' iterations')\n",
    "plt.ylabel('Train accuracy')\n",
    "plt.show()"
   ]
  },
  {
   "cell_type": "code",
   "execution_count": null,
   "metadata": {},
   "outputs": [],
   "source": []
  }
 ],
 "metadata": {
  "kernelspec": {
   "display_name": "Python 3",
   "language": "python",
   "name": "python3"
  },
  "language_info": {
   "codemirror_mode": {
    "name": "ipython",
    "version": 3
   },
   "file_extension": ".py",
   "mimetype": "text/x-python",
   "name": "python",
   "nbconvert_exporter": "python",
   "pygments_lexer": "ipython3",
   "version": "3.6.5"
  }
 },
 "nbformat": 4,
 "nbformat_minor": 2
}
