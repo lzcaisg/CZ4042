{
 "cells": [
  {
   "cell_type": "markdown",
   "metadata": {},
   "source": [
    "## Imports"
   ]
  },
  {
   "cell_type": "code",
   "execution_count": 1,
   "metadata": {},
   "outputs": [
    {
     "name": "stderr",
     "output_type": "stream",
     "text": [
      "C:\\Users\\lzcai\\Anaconda3\\lib\\site-packages\\h5py\\__init__.py:36: FutureWarning: Conversion of the second argument of issubdtype from `float` to `np.floating` is deprecated. In future, it will be treated as `np.float64 == np.dtype(float).type`.\n",
      "  from ._conv import register_converters as _register_converters\n"
     ]
    }
   ],
   "source": [
    "import math\n",
    "import tensorflow as tf\n",
    "import numpy as np\n",
    "import pylab as plt\n",
    "import os\n",
    "import time\n",
    "from datetime import timedelta"
   ]
  },
  {
   "cell_type": "markdown",
   "metadata": {},
   "source": [
    "## Set Parameter"
   ]
  },
  {
   "cell_type": "code",
   "execution_count": 2,
   "metadata": {},
   "outputs": [],
   "source": [
    "# Initialize Values\n",
    "NUM_FEATURES = 36\n",
    "NUM_CLASSES = 6\n",
    "NUM_HIDDEN = 10\n",
    "\n",
    "LEARNING_RATE = 0.01\n",
    "EPOCHS = 5000\n",
    "BATCH_SIZE = 32\n",
    "NUM_NEURONS = 10\n",
    "SEED = 10\n",
    "BETA = pow(10, -6)\n",
    "np.random.seed(SEED)\n",
    "DROP = False\n",
    "\n",
    "TRAIN_FILE_NAME = 'sat_train.txt'\n",
    "TEST_FILE_NAME = 'sat_test.txt'"
   ]
  },
  {
   "cell_type": "markdown",
   "metadata": {},
   "source": [
    "## Load Data"
   ]
  },
  {
   "cell_type": "code",
   "execution_count": 3,
   "metadata": {},
   "outputs": [],
   "source": [
    "# scale data\n",
    "def scale(X, X_min, X_max):\n",
    "    return (X - X_min)/(X_max-X_min)\n",
    "\n",
    "def process_inputs_from_file(fileName): # Read in data\n",
    "    inputs = np.loadtxt(fileName, delimiter=' ')\n",
    "    X, _Y = inputs[:, :NUM_FEATURES], inputs[:, -1].astype(int)\n",
    "    X = scale(X, np.min(X, axis=0), np.max(X, axis=0))\n",
    "    _Y[_Y == 7] = 6 # Actually dont have, just in case have error data\n",
    "\n",
    "    Y = np.zeros((_Y.shape[0], NUM_CLASSES))\n",
    "    Y[np.arange(_Y.shape[0]), _Y - 1] = 1 #one hot matrix\n",
    "    return X, Y"
   ]
  },
  {
   "cell_type": "code",
   "execution_count": 4,
   "metadata": {},
   "outputs": [],
   "source": [
    "trainX, trainY = process_inputs_from_file(TRAIN_FILE_NAME)\n",
    "testX, testY = process_inputs_from_file(TEST_FILE_NAME)"
   ]
  },
  {
   "cell_type": "code",
   "execution_count": 5,
   "metadata": {},
   "outputs": [
    {
     "name": "stdout",
     "output_type": "stream",
     "text": [
      "Size of:\n",
      "- Training-set\t\t 4435\n",
      "- Test-set\t\t 2000\n"
     ]
    }
   ],
   "source": [
    "print (\"Size of:\")\n",
    "print(\"- Training-set\\t\\t\",len(trainX))\n",
    "print(\"- Test-set\\t\\t\",len(testX))"
   ]
  },
  {
   "cell_type": "markdown",
   "metadata": {},
   "source": [
    "## Tensorflow Graph"
   ]
  },
  {
   "cell_type": "markdown",
   "metadata": {},
   "source": [
    "There are 3 layers in this graph, namely one input-layer(X), one hidden-layer(W, b) and one output-layer(V, c).\n",
    "\n",
    "The output does not scale to [0, 1] and I dont know why."
   ]
  },
  {
   "cell_type": "markdown",
   "metadata": {},
   "source": [
    "### Placeholder Variables"
   ]
  },
  {
   "cell_type": "code",
   "execution_count": 6,
   "metadata": {},
   "outputs": [],
   "source": [
    "x = tf.placeholder(tf.float32, [None, NUM_FEATURES], name='x')\n",
    "d = tf.placeholder(tf.float32, [None, NUM_CLASSES], name='d')"
   ]
  },
  {
   "cell_type": "markdown",
   "metadata": {},
   "source": [
    "### Create Network"
   ]
  },
  {
   "cell_type": "code",
   "execution_count": 7,
   "metadata": {},
   "outputs": [],
   "source": [
    "def init_weights(feature_no, neuron_no, name, logistic = True):\n",
    "    # From eg.5.2\n",
    "    n_in = feature_no\n",
    "    n_out = neuron_no\n",
    "    W_values = np.asarray(np.random.uniform(low=-np.sqrt(6. / (n_in + n_out)),\n",
    "                                            high=np.sqrt(6. / (n_in + n_out)),\n",
    "                                            size=(n_in, n_out)))\n",
    "    if logistic == True:\n",
    "        W_values *= 4\n",
    "    return(tf.Variable(W_values, dtype=tf.float32, name=name))\n",
    "\n",
    "def init_bias(neuron_no, name):\n",
    "    # From eg.5.2\n",
    "    return(tf.Variable(np.zeros(neuron_no), dtype=tf.float32, name=name))"
   ]
  },
  {
   "cell_type": "code",
   "execution_count": 8,
   "metadata": {},
   "outputs": [],
   "source": [
    "with tf.variable_scope(\"Hidden_layer\"):\n",
    "    W = init_weights(NUM_FEATURES, NUM_HIDDEN, name=\"Weight_1\")\n",
    "    b = init_bias(NUM_HIDDEN, name=\"Bias_1\")\n",
    "    z = tf.matmul(x, W) + b #syn_input_1\n",
    "    h = tf.nn.sigmoid(z) #out_1\n",
    "\n",
    "with tf.variable_scope(\"Output_layer\"):\n",
    "    V = init_weights(NUM_HIDDEN, NUM_CLASSES, name=\"Weight_2\")\n",
    "    c = init_bias(NUM_CLASSES, name=\"Bias_2\" )\n",
    "    u = tf.matmul(h, V) + c #syn_out_2\n",
    "    y = tf.nn.sigmoid(u) #out_2  # Consider to change to sigmoid"
   ]
  },
  {
   "cell_type": "markdown",
   "metadata": {},
   "source": [
    "### Performance Measures"
   ]
  },
  {
   "cell_type": "code",
   "execution_count": 9,
   "metadata": {},
   "outputs": [],
   "source": [
    "def setup_cross_entropy(labels, logits):\n",
    "    return tf.nn.softmax_cross_entropy_with_logits_v2(labels=labels, logits=logits)\n",
    "\n",
    "def setup_correct_prediction(labels, logits):\n",
    "    return tf.cast(tf.equal(tf.argmax(logits, 1), tf.argmax(labels, 1)), tf.float32)"
   ]
  },
  {
   "cell_type": "code",
   "execution_count": 10,
   "metadata": {},
   "outputs": [],
   "source": [
    "cross_entropy = setup_cross_entropy(labels=d, logits=y)\n",
    "regularization = tf.nn.l2_loss(V) + tf.nn.l2_loss(W) \n",
    "J = tf.reduce_mean(cross_entropy + BETA * regularization)"
   ]
  },
  {
   "cell_type": "code",
   "execution_count": 11,
   "metadata": {},
   "outputs": [],
   "source": [
    "correct_prediction = setup_correct_prediction(labels=d, logits=y)\n",
    "accuracy = tf.reduce_mean(correct_prediction)"
   ]
  },
  {
   "cell_type": "markdown",
   "metadata": {},
   "source": [
    "### Optimization Method"
   ]
  },
  {
   "cell_type": "code",
   "execution_count": 12,
   "metadata": {},
   "outputs": [],
   "source": [
    "optimizer = tf.train.GradientDescentOptimizer(LEARNING_RATE)\n",
    "train_op = optimizer.minimize(J)"
   ]
  },
  {
   "cell_type": "markdown",
   "metadata": {},
   "source": [
    "### Saver"
   ]
  },
  {
   "cell_type": "code",
   "execution_count": 13,
   "metadata": {},
   "outputs": [],
   "source": [
    "saver = tf.train.Saver()"
   ]
  },
  {
   "cell_type": "code",
   "execution_count": 14,
   "metadata": {},
   "outputs": [],
   "source": [
    "save_dir = \"Z:\\Github\\CZ4042\\save\"\n",
    "if not os.path.exists(save_dir):\n",
    "    print(\"Not Exist\")\n",
    "    os.makedirs(save_dir)"
   ]
  },
  {
   "cell_type": "code",
   "execution_count": 15,
   "metadata": {},
   "outputs": [],
   "source": [
    "drop_str = \"-Drop\" if DROP else \"-Not_Drop\"\n",
    "\n",
    "save_path = os.path.join(save_dir, str(EPOCHS)+ '-'+ str(BATCH_SIZE)+'-sigmoid')"
   ]
  },
  {
   "cell_type": "code",
   "execution_count": 16,
   "metadata": {},
   "outputs": [
    {
     "data": {
      "text/plain": [
       "'Z:\\\\Github\\\\CZ4042\\\\save\\\\5000-32-sigmoid'"
      ]
     },
     "execution_count": 16,
     "metadata": {},
     "output_type": "execute_result"
    }
   ],
   "source": [
    "save_path"
   ]
  },
  {
   "cell_type": "markdown",
   "metadata": {},
   "source": [
    "## TensorFlow Run"
   ]
  },
  {
   "cell_type": "markdown",
   "metadata": {},
   "source": [
    "### Create TensorFlow Session"
   ]
  },
  {
   "cell_type": "code",
   "execution_count": 17,
   "metadata": {},
   "outputs": [],
   "source": [
    "session = tf.Session()"
   ]
  },
  {
   "cell_type": "markdown",
   "metadata": {},
   "source": [
    "### Initialize variables"
   ]
  },
  {
   "cell_type": "code",
   "execution_count": 18,
   "metadata": {},
   "outputs": [],
   "source": [
    "def init_variables():\n",
    "    session.run(tf.global_variables_initializer())"
   ]
  },
  {
   "cell_type": "code",
   "execution_count": 19,
   "metadata": {},
   "outputs": [],
   "source": [
    "init_variables()"
   ]
  },
  {
   "cell_type": "markdown",
   "metadata": {},
   "source": [
    "### Helper-function to perform optimization iterations"
   ]
  },
  {
   "cell_type": "code",
   "execution_count": 20,
   "metadata": {},
   "outputs": [],
   "source": [
    "# Best validation accuracy seen so far.\n",
    "best_validation_accuracy = 0.0\n",
    "\n",
    "# Iteration-number for last improvement to validation accuracy.\n",
    "last_improvement = 0\n",
    "\n",
    "# Stop optimization if no improvement found in this many iterations.\n",
    "require_improvement = 1000"
   ]
  },
  {
   "cell_type": "markdown",
   "metadata": {},
   "source": [
    "### Helper-function to generate next_batch"
   ]
  },
  {
   "cell_type": "code",
   "execution_count": 21,
   "metadata": {},
   "outputs": [],
   "source": [
    "def next_batch(num, data, labels):\n",
    "    '''\n",
    "    Return a total of `num` random samples and labels. \n",
    "    '''\n",
    "    idx = np.arange(0 , len(data))\n",
    "    np.random.shuffle(idx)\n",
    "    idx = idx[:num]\n",
    "    data_shuffle = [data[ i] for i in idx]\n",
    "    labels_shuffle = [labels[ i] for i in idx]\n",
    "\n",
    "    return np.asarray(data_shuffle), np.asarray(labels_shuffle)"
   ]
  },
  {
   "cell_type": "code",
   "execution_count": null,
   "metadata": {},
   "outputs": [],
   "source": []
  },
  {
   "cell_type": "code",
   "execution_count": null,
   "metadata": {},
   "outputs": [],
   "source": []
  },
  {
   "cell_type": "code",
   "execution_count": 28,
   "metadata": {},
   "outputs": [
    {
     "name": "stdout",
     "output_type": "stream",
     "text": [
      "BATCH_SIZE= 4\n",
      "iter 0: accuracy 0.25 Test accuracy:  0.2985 \n",
      "iter 100: accuracy 0.5 Test accuracy:  0.655 \n",
      "iter 200: accuracy 0.75 Test accuracy:  0.7815 \n",
      "iter 300: accuracy 0.75 Test accuracy:  0.7945 \n",
      "iter 400: accuracy 1 Test accuracy:  0.802 \n",
      "iter 500: accuracy 0.25 Test accuracy:  0.806 \n",
      "iter 600: accuracy 0.75 Test accuracy:  0.808 \n",
      "iter 700: accuracy 1 Test accuracy:  0.811 \n",
      "iter 800: accuracy 1 Test accuracy:  0.814 \n",
      "iter 900: accuracy 0.75 Test accuracy:  0.815 \n",
      "iter 1000: accuracy 1 Test accuracy:  0.816 \n",
      "iter 1100: accuracy 1 Test accuracy:  0.8175 \n",
      "iter 1200: accuracy 0.75 Test accuracy:  0.823 \n",
      "iter 1300: accuracy 1 Test accuracy:  0.82 \n",
      "iter 1400: accuracy 0.75 Test accuracy:  0.826 \n",
      "iter 1500: accuracy 1 Test accuracy:  0.8245 \n",
      "iter 1600: accuracy 0.75 Test accuracy:  0.826 \n",
      "iter 1700: accuracy 0.5 Test accuracy:  0.8255 \n",
      "iter 1800: accuracy 1 Test accuracy:  0.824 \n",
      "iter 1900: accuracy 0.75 Test accuracy:  0.8255 \n",
      "iter 2000: accuracy 0.75 Test accuracy:  0.827 \n",
      "iter 2100: accuracy 1 Test accuracy:  0.829 \n",
      "iter 2200: accuracy 0.75 Test accuracy:  0.83 \n",
      "iter 2300: accuracy 0.25 Test accuracy:  0.8315 \n",
      "iter 2400: accuracy 1 Test accuracy:  0.83 \n",
      "iter 2500: accuracy 1 Test accuracy:  0.832 \n",
      "iter 2600: accuracy 0.75 Test accuracy:  0.832 \n",
      "iter 2700: accuracy 1 Test accuracy:  0.8335 \n",
      "iter 2800: accuracy 0.75 Test accuracy:  0.835 \n",
      "iter 2900: accuracy 1 Test accuracy:  0.837 \n",
      "iter 3000: accuracy 1 Test accuracy:  0.838 \n",
      "iter 3100: accuracy 1 Test accuracy:  0.838 \n",
      "iter 3200: accuracy 1 Test accuracy:  0.839 \n",
      "iter 3300: accuracy 0.75 Test accuracy:  0.838 \n",
      "iter 3400: accuracy 1 Test accuracy:  0.8395 \n",
      "iter 3500: accuracy 0.75 Test accuracy:  0.8375 \n",
      "iter 3600: accuracy 1 Test accuracy:  0.843 \n",
      "iter 3700: accuracy 1 Test accuracy:  0.8405 \n",
      "iter 3800: accuracy 0.75 Test accuracy:  0.841 \n",
      "iter 3900: accuracy 1 Test accuracy:  0.8415 \n",
      "iter 4000: accuracy 1 Test accuracy:  0.8415 \n",
      "iter 4100: accuracy 1 Test accuracy:  0.839 \n",
      "iter 4200: accuracy 0.75 Test accuracy:  0.8415 \n",
      "iter 4300: accuracy 0.75 Test accuracy:  0.841 \n",
      "iter 4400: accuracy 1 Test accuracy:  0.843 \n",
      "iter 4500: accuracy 0.75 Test accuracy:  0.8415 \n",
      "iter 4600: accuracy 0.75 Test accuracy:  0.8425 \n",
      "iter 4700: accuracy 1 Test accuracy:  0.843 \n",
      "iter 4800: accuracy 0.75 Test accuracy:  0.8405 \n",
      "iter 4900: accuracy 0.75 Test accuracy:  0.842 \n",
      "iter 4999: accuracy 0.75 Test accuracy:  0.843 \n",
      "Time usage: 1:55:26\n"
     ]
    },
    {
     "data": {
      "image/png": "[encoded data removed]",
      "text/plain": [
       "<Figure size 432x288 with 1 Axes>"
      ]
     },
     "metadata": {},
     "output_type": "display_data"
    },
    {
     "data": {
      "image/png": "[encoded data removed]",
      "text/plain": [
       "<Figure size 432x288 with 1 Axes>"
      ]
     },
     "metadata": {},
     "output_type": "display_data"
    },
    {
     "name": "stdout",
     "output_type": "stream",
     "text": [
      "BATCH_SIZE= 8\n",
      "iter 0: accuracy 0.125 Test accuracy:  0.235 \n",
      "iter 100: accuracy 0.75 Test accuracy:  0.6345 \n",
      "iter 200: accuracy 0.5 Test accuracy:  0.659 \n",
      "iter 300: accuracy 0.75 Test accuracy:  0.7635 \n",
      "iter 400: accuracy 0.875 Test accuracy:  0.782 \n",
      "iter 500: accuracy 0.875 Test accuracy:  0.7895 \n",
      "iter 600: accuracy 0.5 Test accuracy:  0.794 \n",
      "iter 700: accuracy 0.875 Test accuracy:  0.7995 \n",
      "iter 800: accuracy 0.625 Test accuracy:  0.8035 \n",
      "iter 900: accuracy 0.875 Test accuracy:  0.8065 \n",
      "iter 1000: accuracy 0.875 Test accuracy:  0.8075 \n",
      "iter 1100: accuracy 0.75 Test accuracy:  0.807 \n",
      "iter 1200: accuracy 1 Test accuracy:  0.809 \n",
      "iter 1300: accuracy 1 Test accuracy:  0.811 \n",
      "iter 1400: accuracy 1 Test accuracy:  0.8105 \n",
      "iter 1500: accuracy 0.75 Test accuracy:  0.8125 \n",
      "iter 1600: accuracy 0.75 Test accuracy:  0.8135 \n",
      "iter 1700: accuracy 1 Test accuracy:  0.8135 \n",
      "iter 1800: accuracy 0.875 Test accuracy:  0.816 \n",
      "iter 1900: accuracy 1 Test accuracy:  0.815 \n",
      "iter 2000: accuracy 0.75 Test accuracy:  0.819 \n",
      "iter 2100: accuracy 0.875 Test accuracy:  0.819 \n",
      "iter 2200: accuracy 0.75 Test accuracy:  0.822 \n",
      "iter 2300: accuracy 0.75 Test accuracy:  0.821 \n",
      "iter 2400: accuracy 1 Test accuracy:  0.822 \n",
      "iter 2500: accuracy 0.75 Test accuracy:  0.823 \n",
      "iter 2600: accuracy 0.875 Test accuracy:  0.823 \n",
      "iter 2700: accuracy 0.875 Test accuracy:  0.8245 \n",
      "iter 2800: accuracy 0.75 Test accuracy:  0.8225 \n",
      "iter 2900: accuracy 0.625 Test accuracy:  0.823 \n",
      "iter 3000: accuracy 0.875 Test accuracy:  0.825 \n",
      "iter 3100: accuracy 0.875 Test accuracy:  0.8255 \n",
      "iter 3200: accuracy 0.875 Test accuracy:  0.8245 \n",
      "iter 3300: accuracy 0.875 Test accuracy:  0.8255 \n",
      "iter 3400: accuracy 0.875 Test accuracy:  0.8235 \n",
      "iter 3500: accuracy 0.75 Test accuracy:  0.8245 \n",
      "iter 3600: accuracy 0.875 Test accuracy:  0.824 \n",
      "iter 3700: accuracy 1 Test accuracy:  0.825 \n",
      "iter 3800: accuracy 0.875 Test accuracy:  0.826 \n",
      "iter 3900: accuracy 0.75 Test accuracy:  0.826 \n",
      "iter 4000: accuracy 0.625 Test accuracy:  0.828 \n",
      "iter 4100: accuracy 0.625 Test accuracy:  0.8295 \n",
      "iter 4200: accuracy 0.75 Test accuracy:  0.8295 \n",
      "iter 4300: accuracy 1 Test accuracy:  0.83 \n",
      "iter 4400: accuracy 0.75 Test accuracy:  0.8295 \n",
      "iter 4500: accuracy 1 Test accuracy:  0.8295 \n",
      "iter 4600: accuracy 0.875 Test accuracy:  0.8305 \n",
      "iter 4700: accuracy 0.875 Test accuracy:  0.831 \n",
      "iter 4800: accuracy 0.75 Test accuracy:  0.83 \n",
      "iter 4900: accuracy 0.875 Test accuracy:  0.829 \n",
      "iter 4999: accuracy 1 Test accuracy:  0.8325 \n",
      "Time usage: 0:58:27\n"
     ]
    },
    {
     "data": {
      "image/png": "[encoded data removed]",
      "text/plain": [
       "<Figure size 432x288 with 1 Axes>"
      ]
     },
     "metadata": {},
     "output_type": "display_data"
    },
    {
     "data": {
      "image/png": "[encoded data removed]",
      "text/plain": [
       "<Figure size 432x288 with 1 Axes>"
      ]
     },
     "metadata": {},
     "output_type": "display_data"
    },
    {
     "name": "stdout",
     "output_type": "stream",
     "text": [
      "BATCH_SIZE= 16\n",
      "iter 0: accuracy 0.0625 Test accuracy:  0.235 \n",
      "iter 100: accuracy 0.5 Test accuracy:  0.633 \n",
      "iter 200: accuracy 0.75 Test accuracy:  0.635 \n",
      "iter 300: accuracy 0.75 Test accuracy:  0.642 \n",
      "iter 400: accuracy 0.8125 Test accuracy:  0.653 \n",
      "iter 500: accuracy 0.75 Test accuracy:  0.71 \n",
      "iter 600: accuracy 0.8125 Test accuracy:  0.757 \n",
      "iter 700: accuracy 0.8125 Test accuracy:  0.7735 \n",
      "iter 800: accuracy 0.6875 Test accuracy:  0.7815 \n",
      "iter 900: accuracy 0.875 Test accuracy:  0.7885 \n",
      "iter 1000: accuracy 0.875 Test accuracy:  0.7885 \n",
      "iter 1100: accuracy 0.8125 Test accuracy:  0.7915 \n",
      "iter 1200: accuracy 0.5625 Test accuracy:  0.795 \n",
      "iter 1300: accuracy 0.75 Test accuracy:  0.798 \n",
      "iter 1400: accuracy 1 Test accuracy:  0.7995 \n",
      "iter 1500: accuracy 0.6875 Test accuracy:  0.8015 \n",
      "iter 1600: accuracy 0.75 Test accuracy:  0.8025 \n",
      "iter 1700: accuracy 1 Test accuracy:  0.8065 \n",
      "iter 1800: accuracy 0.6875 Test accuracy:  0.8055 \n",
      "iter 1900: accuracy 0.8125 Test accuracy:  0.8075 \n",
      "iter 2000: accuracy 0.8125 Test accuracy:  0.8065 \n",
      "iter 2100: accuracy 0.6875 Test accuracy:  0.8085 \n",
      "iter 2200: accuracy 0.875 Test accuracy:  0.8065 \n",
      "iter 2300: accuracy 0.75 Test accuracy:  0.8095 \n",
      "iter 2400: accuracy 0.875 Test accuracy:  0.81 \n",
      "iter 2500: accuracy 0.9375 Test accuracy:  0.8105 \n",
      "iter 2600: accuracy 0.9375 Test accuracy:  0.811 \n",
      "iter 2700: accuracy 0.9375 Test accuracy:  0.8115 \n",
      "iter 2800: accuracy 0.8125 Test accuracy:  0.811 \n",
      "iter 2900: accuracy 0.9375 Test accuracy:  0.8125 \n",
      "iter 3000: accuracy 0.9375 Test accuracy:  0.813 \n",
      "iter 3100: accuracy 0.625 Test accuracy:  0.8125 \n",
      "iter 3200: accuracy 0.9375 Test accuracy:  0.814 \n",
      "iter 3300: accuracy 0.9375 Test accuracy:  0.814 \n",
      "iter 3400: accuracy 0.875 Test accuracy:  0.8135 \n",
      "iter 3500: accuracy 0.8125 Test accuracy:  0.816 \n",
      "iter 3600: accuracy 0.9375 Test accuracy:  0.8155 \n",
      "iter 3700: accuracy 0.75 Test accuracy:  0.815 \n",
      "iter 3800: accuracy 0.9375 Test accuracy:  0.8165 \n",
      "iter 3900: accuracy 0.9375 Test accuracy:  0.8165 \n",
      "iter 4000: accuracy 0.8125 Test accuracy:  0.819 \n",
      "iter 4100: accuracy 0.8125 Test accuracy:  0.8175 \n",
      "iter 4200: accuracy 0.9375 Test accuracy:  0.818 \n",
      "iter 4300: accuracy 0.8125 Test accuracy:  0.8215 \n",
      "iter 4400: accuracy 0.6875 Test accuracy:  0.82 \n",
      "iter 4500: accuracy 0.8125 Test accuracy:  0.8225 \n",
      "iter 4600: accuracy 0.875 Test accuracy:  0.821 \n",
      "iter 4700: accuracy 0.75 Test accuracy:  0.8235 \n",
      "iter 4800: accuracy 0.8125 Test accuracy:  0.822 \n",
      "iter 4900: accuracy 0.875 Test accuracy:  0.8235 \n",
      "iter 4999: accuracy 0.8125 Test accuracy:  0.821 \n",
      "Time usage: 0:30:10\n"
     ]
    },
    {
     "data": {
      "image/png": "[encoded data removed]",
      "text/plain": [
       "<Figure size 432x288 with 1 Axes>"
      ]
     },
     "metadata": {},
     "output_type": "display_data"
    },
    {
     "data": {
      "image/png": "[encoded data removed]",
      "text/plain": [
       "<Figure size 432x288 with 1 Axes>"
      ]
     },
     "metadata": {},
     "output_type": "display_data"
    },
    {
     "name": "stdout",
     "output_type": "stream",
     "text": [
      "BATCH_SIZE= 32\n",
      "iter 0: accuracy 0.34375 Test accuracy:  0.235 \n",
      "iter 100: accuracy 0.625 Test accuracy:  0.6295 \n",
      "iter 200: accuracy 0.6875 Test accuracy:  0.6335 \n",
      "iter 300: accuracy 0.65625 Test accuracy:  0.634 \n",
      "iter 400: accuracy 0.625 Test accuracy:  0.6345 \n",
      "iter 500: accuracy 0.625 Test accuracy:  0.6395 \n",
      "iter 600: accuracy 0.59375 Test accuracy:  0.6415 \n",
      "iter 700: accuracy 0.625 Test accuracy:  0.6465 \n",
      "iter 800: accuracy 0.5 Test accuracy:  0.6535 \n",
      "iter 900: accuracy 0.6875 Test accuracy:  0.6845 \n",
      "iter 1000: accuracy 0.8125 Test accuracy:  0.7135 \n",
      "iter 1100: accuracy 0.875 Test accuracy:  0.746 \n",
      "iter 1200: accuracy 0.8125 Test accuracy:  0.7595 \n",
      "iter 1300: accuracy 0.90625 Test accuracy:  0.768 \n",
      "iter 1400: accuracy 0.8125 Test accuracy:  0.773 \n",
      "iter 1500: accuracy 0.875 Test accuracy:  0.779 \n",
      "iter 1600: accuracy 0.78125 Test accuracy:  0.7825 \n",
      "iter 1700: accuracy 0.78125 Test accuracy:  0.784 \n",
      "iter 1800: accuracy 0.84375 Test accuracy:  0.786 \n",
      "iter 1900: accuracy 0.84375 Test accuracy:  0.7875 \n",
      "iter 2000: accuracy 0.78125 Test accuracy:  0.789 \n",
      "iter 2100: accuracy 0.90625 Test accuracy:  0.7905 \n",
      "iter 2200: accuracy 0.71875 Test accuracy:  0.7915 \n",
      "iter 2300: accuracy 0.8125 Test accuracy:  0.7925 \n",
      "iter 2400: accuracy 0.90625 Test accuracy:  0.794 \n",
      "iter 2500: accuracy 0.8125 Test accuracy:  0.7965 \n",
      "iter 2600: accuracy 0.84375 Test accuracy:  0.797 \n",
      "iter 2700: accuracy 0.875 Test accuracy:  0.7985 \n",
      "iter 2800: accuracy 0.84375 Test accuracy:  0.799 \n",
      "iter 2900: accuracy 0.8125 Test accuracy:  0.801 \n",
      "iter 3000: accuracy 0.75 Test accuracy:  0.8025 \n",
      "iter 3100: accuracy 0.84375 Test accuracy:  0.8025 \n",
      "iter 3200: accuracy 0.9375 Test accuracy:  0.804 \n",
      "iter 3300: accuracy 0.6875 Test accuracy:  0.805 \n",
      "iter 3400: accuracy 0.84375 Test accuracy:  0.806 \n",
      "iter 3500: accuracy 0.90625 Test accuracy:  0.8065 \n",
      "iter 3600: accuracy 0.90625 Test accuracy:  0.8065 \n",
      "iter 3700: accuracy 0.875 Test accuracy:  0.8075 \n",
      "iter 3800: accuracy 0.8125 Test accuracy:  0.8075 \n",
      "iter 3900: accuracy 0.84375 Test accuracy:  0.8085 \n",
      "iter 4000: accuracy 0.875 Test accuracy:  0.8085 \n",
      "iter 4100: accuracy 0.84375 Test accuracy:  0.8085 \n",
      "iter 4200: accuracy 0.78125 Test accuracy:  0.8085 \n",
      "iter 4300: accuracy 0.875 Test accuracy:  0.8085 \n",
      "iter 4400: accuracy 0.84375 Test accuracy:  0.8085 \n",
      "iter 4500: accuracy 0.90625 Test accuracy:  0.809 \n",
      "iter 4600: accuracy 0.875 Test accuracy:  0.8095 \n",
      "iter 4700: accuracy 0.8125 Test accuracy:  0.81 \n",
      "iter 4800: accuracy 0.9375 Test accuracy:  0.811 \n",
      "iter 4900: accuracy 0.90625 Test accuracy:  0.8105 \n",
      "iter 4999: accuracy 0.90625 Test accuracy:  0.811 \n",
      "Time usage: 0:16:04\n"
     ]
    },
    {
     "data": {
      "image/png": "[encoded data removed]",
      "text/plain": [
       "<Figure size 432x288 with 1 Axes>"
      ]
     },
     "metadata": {},
     "output_type": "display_data"
    },
    {
     "data": {
      "image/png": "[encoded data removed]",
      "text/plain": [
       "<Figure size 432x288 with 1 Axes>"
      ]
     },
     "metadata": {},
     "output_type": "display_data"
    },
    {
     "name": "stdout",
     "output_type": "stream",
     "text": [
      "BATCH_SIZE= 64\n",
      "iter 0: accuracy 0.34375 Test accuracy:  0.235 \n",
      "iter 100: accuracy 0.703125 Test accuracy:  0.6245 \n",
      "iter 200: accuracy 0.625 Test accuracy:  0.629 \n",
      "iter 300: accuracy 0.609375 Test accuracy:  0.6305 \n",
      "iter 400: accuracy 0.765625 Test accuracy:  0.6335 \n",
      "iter 500: accuracy 0.671875 Test accuracy:  0.6325 \n",
      "iter 600: accuracy 0.703125 Test accuracy:  0.634 \n",
      "iter 700: accuracy 0.75 Test accuracy:  0.634 \n",
      "iter 800: accuracy 0.71875 Test accuracy:  0.636 \n",
      "iter 900: accuracy 0.703125 Test accuracy:  0.636 \n",
      "iter 1000: accuracy 0.703125 Test accuracy:  0.6395 \n",
      "iter 1100: accuracy 0.6875 Test accuracy:  0.641 \n",
      "iter 1200: accuracy 0.703125 Test accuracy:  0.6415 \n",
      "iter 1300: accuracy 0.671875 Test accuracy:  0.645 \n",
      "iter 1400: accuracy 0.703125 Test accuracy:  0.647 \n",
      "iter 1500: accuracy 0.6875 Test accuracy:  0.649 \n",
      "iter 1600: accuracy 0.625 Test accuracy:  0.6535 \n",
      "iter 1700: accuracy 0.65625 Test accuracy:  0.667 \n",
      "iter 1800: accuracy 0.65625 Test accuracy:  0.6835 \n",
      "iter 1900: accuracy 0.625 Test accuracy:  0.6955 \n",
      "iter 2000: accuracy 0.75 Test accuracy:  0.711 \n",
      "iter 2100: accuracy 0.8125 Test accuracy:  0.727 \n",
      "iter 2200: accuracy 0.796875 Test accuracy:  0.7405 \n",
      "iter 2300: accuracy 0.734375 Test accuracy:  0.753 \n",
      "iter 2400: accuracy 0.75 Test accuracy:  0.7585 \n",
      "iter 2500: accuracy 0.765625 Test accuracy:  0.764 \n",
      "iter 2600: accuracy 0.84375 Test accuracy:  0.7665 \n",
      "iter 2700: accuracy 0.703125 Test accuracy:  0.77 \n",
      "iter 2800: accuracy 0.875 Test accuracy:  0.773 \n",
      "iter 2900: accuracy 0.828125 Test accuracy:  0.7775 \n",
      "iter 3000: accuracy 0.734375 Test accuracy:  0.78 \n",
      "iter 3100: accuracy 0.828125 Test accuracy:  0.782 \n",
      "iter 3200: accuracy 0.765625 Test accuracy:  0.7815 \n",
      "iter 3300: accuracy 0.84375 Test accuracy:  0.783 \n",
      "iter 3400: accuracy 0.6875 Test accuracy:  0.7845 \n",
      "iter 3500: accuracy 0.78125 Test accuracy:  0.7865 \n",
      "iter 3600: accuracy 0.765625 Test accuracy:  0.787 \n",
      "iter 3700: accuracy 0.765625 Test accuracy:  0.7885 \n",
      "iter 3800: accuracy 0.84375 Test accuracy:  0.7885 \n",
      "iter 3900: accuracy 0.8125 Test accuracy:  0.7875 \n",
      "iter 4000: accuracy 0.78125 Test accuracy:  0.789 \n",
      "iter 4100: accuracy 0.828125 Test accuracy:  0.789 \n",
      "iter 4200: accuracy 0.8125 Test accuracy:  0.7895 \n",
      "iter 4300: accuracy 0.8125 Test accuracy:  0.791 \n",
      "iter 4400: accuracy 0.84375 Test accuracy:  0.7915 \n",
      "iter 4500: accuracy 0.828125 Test accuracy:  0.7925 \n",
      "iter 4600: accuracy 0.75 Test accuracy:  0.793 \n",
      "iter 4700: accuracy 0.875 Test accuracy:  0.7935 \n",
      "iter 4800: accuracy 0.875 Test accuracy:  0.7945 \n",
      "iter 4900: accuracy 0.875 Test accuracy:  0.7965 \n",
      "iter 4999: accuracy 0.71875 Test accuracy:  0.7965 \n",
      "Time usage: 0:08:47\n"
     ]
    },
    {
     "data": {
      "image/png": "[encoded data removed]",
      "text/plain": [
       "<Figure size 432x288 with 1 Axes>"
      ]
     },
     "metadata": {},
     "output_type": "display_data"
    },
    {
     "data": {
      "image/png": "[encoded data removed]",
      "text/plain": [
       "<Figure size 432x288 with 1 Axes>"
      ]
     },
     "metadata": {},
     "output_type": "display_data"
    }
   ],
   "source": [
    "for BATCH_SIZE in [4, 8, 16, 32, 64]:\n",
    "# Counter for total number of iterations performed so far.\n",
    "    init_variables()\n",
    "    print(\"BATCH_SIZE=\", BATCH_SIZE)\n",
    "    total_iterations = 0\n",
    "    train_acc = []\n",
    "    with session.as_default():\n",
    "        # Ensure we update the global variables rather than local copies.\n",
    "\n",
    "        # Start-time used for printing time-usage below.\n",
    "        start_time = time.time()\n",
    "        train_acc_record = []\n",
    "        test_acc_record = []\n",
    "        best_test_acc = 0.0\n",
    "        last_improvement = 0\n",
    "        improved_str = \"\"\n",
    "        test_count = 0\n",
    "        mul = int(len(trainX)/BATCH_SIZE)\n",
    "        for i in range(EPOCHS):\n",
    "            for j in range(mul):\n",
    "                x_batch, d_batch = next_batch(BATCH_SIZE, trainX, trainY)\n",
    "                feed_dict_train = {x: x_batch, d: d_batch}\n",
    "                session.run(train_op, feed_dict=feed_dict_train)\n",
    "\n",
    "            train_acc_record.append(accuracy.eval(feed_dict=feed_dict_train))\n",
    "\n",
    "\n",
    "            if i % 100 == 0 or i == (EPOCHS - 1):\n",
    "                test_count += 1\n",
    "                test_accuracy = session.run(accuracy, feed_dict={x: testX, d: testY})\n",
    "                test_acc_record.append(test_accuracy)\n",
    "                if DROP:\n",
    "                    if test_accuracy > best_test_acc:\n",
    "                        best_test_acc = test_accuracy\n",
    "                        last_improvement = i\n",
    "                        saver.save(sess=session, save_path=save_path)\n",
    "                        improved_str = \"*\"\n",
    "                    else:\n",
    "                        improved_str = ''\n",
    "                else:\n",
    "                    saver.save(sess=session, save_path=save_path)\n",
    "\n",
    "                print('iter %d: Train accuracy %g'%(i, train_acc_record[i]), 'Test accuracy: ',test_accuracy, improved_str)\n",
    "\n",
    "\n",
    "\n",
    "        # Ending time.\n",
    "        end_time = time.time()\n",
    "\n",
    "        # Difference between start and end-times.\n",
    "        time_dif = end_time - start_time\n",
    "\n",
    "        # Print the time-usage.\n",
    "        print(\"Time usage: \" + str(timedelta(seconds=int(round(time_dif)))))\n",
    "\n",
    "        plot_train(EPOCHS, BATCH_SIZE, train_acc_record)\n",
    "        plot_test(test_count, BATCH_SIZE, test_acc_record)"
   ]
  },
  {
   "cell_type": "code",
   "execution_count": null,
   "metadata": {},
   "outputs": [],
   "source": []
  },
  {
   "cell_type": "markdown",
   "metadata": {},
   "source": [
    "### Helper-function to plot train accuracy"
   ]
  },
  {
   "cell_type": "code",
   "execution_count": 23,
   "metadata": {},
   "outputs": [],
   "source": [
    "def plot_train(EPOCHS, BATCH_SIZE, train_acc_record):\n",
    "    plt.figure(1)\n",
    "    plt.plot(range(EPOCHS), train_acc_record)\n",
    "    plt.xlabel(str(EPOCHS) + ' iterations')\n",
    "    plt.ylabel('Train accuracy')\n",
    "    plt.savefig(\"PartA-Train\"+str(EPOCHS)+'-'+str(BATCH_SIZE)+\".png\")\n",
    "    plt.show()"
   ]
  },
  {
   "cell_type": "code",
   "execution_count": 24,
   "metadata": {},
   "outputs": [],
   "source": [
    "def plot_test(EPOCHS, BATCH_SIZE, test_acc_record):\n",
    "    plt.figure(1)\n",
    "    plt.plot(range(EPOCHS), test_acc_record)\n",
    "    plt.xlabel(str(EPOCHS) + ' iterations')\n",
    "    plt.ylabel('Test accuracy')\n",
    "    plt.savefig(\"PartA-Test\"+str(EPOCHS)+'-'+str(BATCH_SIZE)+\".png\")\n",
    "    plt.show()"
   ]
  },
  {
   "cell_type": "code",
   "execution_count": 25,
   "metadata": {},
   "outputs": [
    {
     "data": {
      "image/png": "[encoded data removed]",
      "text/plain": [
       "<Figure size 432x288 with 1 Axes>"
      ]
     },
     "metadata": {},
     "output_type": "display_data"
    },
    {
     "data": {
      "image/png": "[encoded data removed]",
      "text/plain": [
       "<Figure size 432x288 with 1 Axes>"
      ]
     },
     "metadata": {},
     "output_type": "display_data"
    }
   ],
   "source": [
    "plot_train(EPOCHS, BATCH_SIZE, train_acc_record)\n",
    "plot_test(test_count, BATCH_SIZE, test_acc_record)"
   ]
  },
  {
   "cell_type": "code",
   "execution_count": null,
   "metadata": {},
   "outputs": [],
   "source": []
  },
  {
   "cell_type": "markdown",
   "metadata": {},
   "source": [
    "### Helper-function of validation"
   ]
  },
  {
   "cell_type": "code",
   "execution_count": 25,
   "metadata": {},
   "outputs": [],
   "source": [
    "def validation_accuracy(testX, testY):\n",
    "    output_2_, accuracy_ = session.run([y, accuracy], feed_dict={x: testX, d: testY})\n",
    "    print(output_2_, '\\n',accuracy_)"
   ]
  },
  {
   "cell_type": "code",
   "execution_count": 70,
   "metadata": {},
   "outputs": [
    {
     "data": {
      "text/plain": [
       "array([[2.9397753e-01, 4.3548190e-04, 9.7745150e-01, 8.5959199e-04,\n",
       "        4.6248853e-04, 7.7723754e-03],\n",
       "       [4.3027911e-01, 5.2449387e-04, 9.7516578e-01, 8.1718847e-04,\n",
       "        4.9770542e-04, 5.6805746e-03],\n",
       "       [6.8876721e-02, 3.3670937e-04, 9.6314240e-01, 9.5290109e-04,\n",
       "        9.4554748e-04, 6.1859578e-02],\n",
       "       ...,\n",
       "       [8.9659494e-01, 3.5728902e-02, 1.1459270e-03, 1.6782280e-03,\n",
       "        2.1114142e-01, 1.4932638e-03],\n",
       "       [8.4805685e-01, 9.2608012e-02, 6.9726224e-04, 2.4266716e-03,\n",
       "        3.0625769e-01, 1.5714751e-03],\n",
       "       [8.7434644e-01, 2.4730316e-01, 1.5030775e-03, 2.5115125e-03,\n",
       "        2.4306813e-01, 2.2728051e-04]], dtype=float32)"
      ]
     },
     "execution_count": 70,
     "metadata": {},
     "output_type": "execute_result"
    }
   ],
   "source": [
    "output_2_"
   ]
  },
  {
   "cell_type": "code",
   "execution_count": null,
   "metadata": {},
   "outputs": [],
   "source": []
  },
  {
   "cell_type": "code",
   "execution_count": null,
   "metadata": {},
   "outputs": [],
   "source": []
  },
  {
   "cell_type": "code",
   "execution_count": 27,
   "metadata": {},
   "outputs": [],
   "source": [
    "x_batch, d_batch = next_batch(BATCH_SIZE, trainX, trainY)"
   ]
  },
  {
   "cell_type": "code",
   "execution_count": 29,
   "metadata": {},
   "outputs": [
    {
     "data": {
      "text/plain": [
       "array([[0., 0., 1., 0., 0., 0.],\n",
       "       [0., 0., 0., 0., 0., 1.],\n",
       "       [0., 1., 0., 0., 0., 0.],\n",
       "       [0., 0., 0., 0., 0., 1.],\n",
       "       [0., 0., 1., 0., 0., 0.],\n",
       "       [0., 0., 0., 0., 0., 1.],\n",
       "       [1., 0., 0., 0., 0., 0.],\n",
       "       [0., 0., 1., 0., 0., 0.],\n",
       "       [1., 0., 0., 0., 0., 0.],\n",
       "       [1., 0., 0., 0., 0., 0.],\n",
       "       [0., 0., 1., 0., 0., 0.],\n",
       "       [0., 0., 0., 1., 0., 0.],\n",
       "       [0., 0., 0., 0., 1., 0.],\n",
       "       [1., 0., 0., 0., 0., 0.],\n",
       "       [0., 1., 0., 0., 0., 0.],\n",
       "       [0., 0., 1., 0., 0., 0.],\n",
       "       [0., 0., 0., 0., 0., 1.],\n",
       "       [1., 0., 0., 0., 0., 0.],\n",
       "       [1., 0., 0., 0., 0., 0.],\n",
       "       [0., 0., 0., 1., 0., 0.],\n",
       "       [1., 0., 0., 0., 0., 0.],\n",
       "       [0., 0., 1., 0., 0., 0.],\n",
       "       [0., 0., 0., 0., 0., 1.],\n",
       "       [0., 1., 0., 0., 0., 0.],\n",
       "       [0., 1., 0., 0., 0., 0.],\n",
       "       [0., 0., 1., 0., 0., 0.],\n",
       "       [0., 0., 0., 0., 0., 1.],\n",
       "       [0., 0., 0., 1., 0., 0.],\n",
       "       [1., 0., 0., 0., 0., 0.],\n",
       "       [0., 0., 0., 0., 0., 1.],\n",
       "       [1., 0., 0., 0., 0., 0.],\n",
       "       [1., 0., 0., 0., 0., 0.]])"
      ]
     },
     "execution_count": 29,
     "metadata": {},
     "output_type": "execute_result"
    }
   ],
   "source": [
    "d_batch"
   ]
  },
  {
   "cell_type": "code",
   "execution_count": null,
   "metadata": {},
   "outputs": [],
   "source": []
  }
 ],
 "metadata": {
  "kernelspec": {
   "display_name": "Python 3",
   "language": "python",
   "name": "python3"
  },
  "language_info": {
   "codemirror_mode": {
    "name": "ipython",
    "version": 3
   },
   "file_extension": ".py",
   "mimetype": "text/x-python",
   "name": "python",
   "nbconvert_exporter": "python",
   "pygments_lexer": "ipython3",
   "version": "3.6.5"
  }
 },
 "nbformat": 4,
 "nbformat_minor": 2
}
