{
 "cells": [
  {
   "cell_type": "code",
   "execution_count": 1,
   "metadata": {},
   "outputs": [
    {
     "name": "stderr",
     "output_type": "stream",
     "text": [
      "C:\\Users\\lzcai\\Anaconda3\\lib\\site-packages\\h5py\\__init__.py:36: FutureWarning: Conversion of the second argument of issubdtype from `float` to `np.floating` is deprecated. In future, it will be treated as `np.float64 == np.dtype(float).type`.\n",
      "  from ._conv import register_converters as _register_converters\n"
     ]
    }
   ],
   "source": [
    "import math\n",
    "import tensorflow as tf\n",
    "from tensorflow.contrib import learn\n",
    "import numpy as np\n",
    "import pylab as plt\n",
    "import pickle\n",
    "import os\n",
    "import csv\n",
    "import sys\n",
    "import time\n",
    "from datetime import timedelta"
   ]
  },
  {
   "cell_type": "code",
   "execution_count": 2,
   "metadata": {},
   "outputs": [],
   "source": [
    "LEARNING_RATE = 0.01\n",
    "EPOCHS = 2000\n",
    "BATCH_SIZE = 128\n",
    "MAX_DOC_LEN = 100\n",
    "CHAR_DEPTH = 256\n",
    "NUM_CLASSES = 15\n",
    "DROP = True\n",
    "KEEP_PROB = 0.75\n",
    "\n",
    "seed = 10\n",
    "np.random.seed(seed)\n",
    "tf.set_random_seed(seed)"
   ]
  },
  {
   "cell_type": "code",
   "execution_count": 3,
   "metadata": {},
   "outputs": [],
   "source": [
    "DATA_DIR = \"..\\data\"\n",
    "SAVE_DIR = \"..\\data\\PartB_Result\"\n",
    "RESULT_DIR = \"../data/PartB_Result/Q5/1-0.75\"\n",
    "TRAIN_CHAR_FILENAME = \"Train_char.out\"\n",
    "TEST_CHAR_FILENAME = \"Test_char.out\"\n",
    "TRAIN_WORD_FILENAME = \"Train_word.out\"\n",
    "TEST_WORD_FILENAME = \"Test_word.out\""
   ]
  },
  {
   "cell_type": "code",
   "execution_count": null,
   "metadata": {},
   "outputs": [],
   "source": []
  },
  {
   "cell_type": "code",
   "execution_count": 4,
   "metadata": {},
   "outputs": [],
   "source": [
    "with open(os.path.join(SAVE_DIR, TRAIN_CHAR_FILENAME),\"rb\") as f:\n",
    "    trainX, tmp_trainY = pickle.load(f)"
   ]
  },
  {
   "cell_type": "code",
   "execution_count": 5,
   "metadata": {},
   "outputs": [],
   "source": [
    "with open(os.path.join(SAVE_DIR, TEST_CHAR_FILENAME),\"rb\") as f:\n",
    "    testX, tmp_testY = pickle.load(f)"
   ]
  },
  {
   "cell_type": "code",
   "execution_count": 6,
   "metadata": {},
   "outputs": [],
   "source": [
    "def cnn(X):\n",
    "    RECORD_NO = X.shape[0]\n",
    "    \n",
    "    X = tf.one_hot(X, CHAR_DEPTH)\n",
    "    X = tf.reshape(X, [-1, MAX_DOC_LEN, CHAR_DEPTH, 1])\n",
    "    print(X)\n",
    "    #Conv 1\n",
    "    conv1 = tf.layers.conv2d(\n",
    "      inputs = X,\n",
    "      filters = 10,\n",
    "      kernel_size = [20, 256],\n",
    "      padding = \"valid\",\n",
    "      activation = tf.nn.relu)\n",
    "\n",
    "    pool1 = tf.layers.max_pooling2d(\n",
    "        inputs = conv1, \n",
    "        pool_size = [4, 4], \n",
    "        padding = \"same\",\n",
    "        strides = 2)\n",
    "\n",
    "    #Conv 2\n",
    "    conv2 = tf.layers.conv2d(\n",
    "      inputs = pool1,\n",
    "      filters = 10,\n",
    "      kernel_size=[20, 1],\n",
    "      padding=\"valid\",\n",
    "      activation=tf.nn.relu)\n",
    "\n",
    "    pool2 = tf.layers.max_pooling2d(\n",
    "        inputs = conv2, \n",
    "        pool_size = [4, 4], \n",
    "        padding = \"same\",\n",
    "        strides = 2)    \n",
    "\n",
    "    #Softmax    \n",
    "\n",
    "    dim = pool2.get_shape()[1].value * pool2.get_shape()[2].value * pool2.get_shape()[3].value \n",
    "    pool2_flat = tf.reshape(pool2, [-1, dim])\n",
    "\n",
    "    W2 = tf.Variable(tf.truncated_normal([dim, NUM_CLASSES], stddev=1.0/np.sqrt(dim)), name='weights_3')\n",
    "    b2 = tf.Variable(tf.zeros([NUM_CLASSES]), name='biases_3')\n",
    "    logits = tf.matmul(pool2_flat, W2) + b2\n",
    "    \n",
    "    drop_out = tf.nn.dropout(logits, KEEP_PROB)\n",
    "\n",
    "    return drop_out"
   ]
  },
  {
   "cell_type": "code",
   "execution_count": 7,
   "metadata": {},
   "outputs": [],
   "source": [
    "def setup_cross_entropy(labels, logits):\n",
    "    return tf.nn.softmax_cross_entropy_with_logits_v2(labels=labels, logits=logits)\n",
    "\n",
    "def setup_correct_prediction(labels, logits):\n",
    "    return tf.cast(tf.equal(tf.argmax(logits, 1), tf.argmax(labels, 1)), tf.float32)"
   ]
  },
  {
   "cell_type": "code",
   "execution_count": 8,
   "metadata": {},
   "outputs": [
    {
     "name": "stdout",
     "output_type": "stream",
     "text": [
      "Tensor(\"Reshape:0\", shape=(?, 100, 256, 1), dtype=float32)\n"
     ]
    }
   ],
   "source": [
    "x = tf.placeholder(tf.int32, [None, MAX_DOC_LEN])\n",
    "d = tf.placeholder(tf.float32, [None, NUM_CLASSES])\n",
    "y = cnn(x)\n",
    "\n",
    "cross_entropy = setup_cross_entropy(labels=d, logits=y)\n",
    "loss = tf.reduce_mean(cross_entropy)\n",
    "\n",
    "optimizer = tf.train.AdamOptimizer(LEARNING_RATE)\n",
    "train_op = optimizer.minimize(loss)"
   ]
  },
  {
   "cell_type": "code",
   "execution_count": 9,
   "metadata": {},
   "outputs": [],
   "source": [
    "correct_prediction = setup_correct_prediction(labels=d, logits=y)\n",
    "accuracy = tf.reduce_mean(correct_prediction)"
   ]
  },
  {
   "cell_type": "code",
   "execution_count": 10,
   "metadata": {},
   "outputs": [],
   "source": [
    "saver = tf.train.Saver()\n",
    "if not os.path.exists(RESULT_DIR):\n",
    "    print(\"Not Exist\")\n",
    "    os.makedirs(RESULT_DIR)"
   ]
  },
  {
   "cell_type": "code",
   "execution_count": 11,
   "metadata": {},
   "outputs": [],
   "source": [
    "def generate_batch(X_in, y_in, batch_size):\n",
    "    X = list(X_in)\n",
    "    y = list(y_in)\n",
    "    \n",
    "    if len(X)!=len(y):\n",
    "        print(\"Error: len(X)!=len(Y)\")\n",
    "        return None\n",
    "    batched_X = []\n",
    "    batched_y = []\n",
    "    count = 0\n",
    "    while (len(X) >= batch_size):\n",
    "        batched_X.append(X[0:batch_size])\n",
    "        del X[0:batch_size]\n",
    "        batched_y.append(y[0:batch_size])\n",
    "        del y[0:batch_size]\n",
    "        if count % 10 == 0:\n",
    "            print (count)\n",
    "        count += 1\n",
    "    \n",
    "    if len(X) != 0:\n",
    "        remain = batch_size-len(X)\n",
    "        X.extend(batched_X[0][0:remain])\n",
    "        y.extend(batched_y[0][0:remain])\n",
    "        batched_X.append(X)\n",
    "        batched_y.append(y)\n",
    "        print(count, \"Remain rescaled to\", len(X))\n",
    "    \n",
    "    return (batched_X, batched_y)"
   ]
  },
  {
   "cell_type": "code",
   "execution_count": 12,
   "metadata": {},
   "outputs": [],
   "source": [
    "def plot_graph(EPOCHS, BATCH_SIZE, acc_record, fileName, isTrain, error = False):\n",
    "    if error:  \n",
    "        acc_record = [1-tmp for tmp in acc_record]\n",
    "        if isTrain:\n",
    "            yLabel = 'Train error'\n",
    "        else:\n",
    "            yLabel = 'Test error'\n",
    "    else:\n",
    "        if isTrain:\n",
    "            yLabel = 'Train accuracy'\n",
    "        else:\n",
    "            yLabel = 'Test accuracy'\n",
    "    plt.figure(1)\n",
    "    plt.plot(range(EPOCHS), acc_record)\n",
    "    plt.xlabel(str(EPOCHS) + ' iterations')\n",
    "    plt.ylabel(yLabel)\n",
    "    plt.savefig(os.path.join(RESULT_DIR, fileName))\n",
    "    plt.show()"
   ]
  },
  {
   "cell_type": "code",
   "execution_count": 13,
   "metadata": {},
   "outputs": [],
   "source": [
    "def validation_accuracy(testX, testY):\n",
    "    output_2_, accuracy_ = session.run([y, accuracy], feed_dict={x: testX, d: testY})\n",
    "    print(output_2_, '\\n',accuracy_)"
   ]
  },
  {
   "cell_type": "code",
   "execution_count": 14,
   "metadata": {},
   "outputs": [],
   "source": [
    "trainY_targets = np.array(tmp_trainY).reshape(-1)\n",
    "trainY = np.eye(NUM_CLASSES)[trainY_targets]\n",
    "\n",
    "testY_targets = np.array(tmp_testY).reshape(-1)\n",
    "testY = np.eye(NUM_CLASSES)[testY_targets]\n",
    "# trainY = y_train\n",
    "# testY = y_test"
   ]
  },
  {
   "cell_type": "code",
   "execution_count": 15,
   "metadata": {},
   "outputs": [
    {
     "name": "stdout",
     "output_type": "stream",
     "text": [
      "0\n",
      "10\n",
      "20\n",
      "30\n",
      "40\n",
      "43 Remain rescaled to 128\n"
     ]
    }
   ],
   "source": [
    "x_allBatch, y_allBatch = generate_batch(trainX, trainY, BATCH_SIZE)"
   ]
  },
  {
   "cell_type": "code",
   "execution_count": 16,
   "metadata": {},
   "outputs": [
    {
     "name": "stdout",
     "output_type": "stream",
     "text": [
      "(44, 128, 100)\n",
      "(44, 128, 15)\n"
     ]
    }
   ],
   "source": [
    "x_allBatch = np.array(x_allBatch)\n",
    "y_allBatch = np.array(y_allBatch)\n",
    "\n",
    "print(x_allBatch.shape)\n",
    "print(y_allBatch.shape)"
   ]
  },
  {
   "cell_type": "code",
   "execution_count": 17,
   "metadata": {},
   "outputs": [
    {
     "data": {
      "text/plain": [
       "array([[ 32,  80,  97, ..., 115,  32,  98],\n",
       "       [ 32,  66, 101, ..., 112,  97, 108],\n",
       "       [ 32,  67, 104, ...,  97, 110, 100],\n",
       "       ...,\n",
       "       [ 32,  71,  46, ..., 121,  32,  67],\n",
       "       [ 32,  78, 117, ...,  32, 102,  97],\n",
       "       [ 32,  72, 111, ..., 115,  99, 104]])"
      ]
     },
     "execution_count": 17,
     "metadata": {},
     "output_type": "execute_result"
    }
   ],
   "source": [
    "x_allBatch[0]"
   ]
  },
  {
   "cell_type": "code",
   "execution_count": 18,
   "metadata": {},
   "outputs": [],
   "source": [
    "train_acc_backup = []\n",
    "test_acc_backup = []\n",
    "time_usage_backup = []\n",
    "total_time_backup = []"
   ]
  },
  {
   "cell_type": "code",
   "execution_count": 19,
   "metadata": {},
   "outputs": [
    {
     "name": "stdout",
     "output_type": "stream",
     "text": [
      "BATCH_SIZE= 128\n",
      "iter 0: Train accuracy 0.328125 Test accuracy:  0.31285715 *\n",
      "iter 20: Train accuracy 0.773438 Test accuracy:  0.48285714 *\n",
      "iter 40: Train accuracy 0.757812 Test accuracy:  0.50285715 *\n",
      "iter 60: Train accuracy 0.75 Test accuracy:  0.49285713 \n",
      "iter 80: Train accuracy 0.773438 Test accuracy:  0.5042857 *\n",
      "iter 100: Train accuracy 0.757812 Test accuracy:  0.48714286 \n",
      "iter 120: Train accuracy 0.78125 Test accuracy:  0.51 *\n",
      "iter 140: Train accuracy 0.773438 Test accuracy:  0.51 \n",
      "iter 160: Train accuracy 0.75 Test accuracy:  0.50714284 \n",
      "iter 180: Train accuracy 0.765625 Test accuracy:  0.5157143 *\n",
      "iter 200: Train accuracy 0.851562 Test accuracy:  0.4857143 \n",
      "iter 220: Train accuracy 0.765625 Test accuracy:  0.5 \n",
      "iter 240: Train accuracy 0.789062 Test accuracy:  0.5114286 \n",
      "iter 260: Train accuracy 0.859375 Test accuracy:  0.50142854 \n",
      "iter 280: Train accuracy 0.78125 Test accuracy:  0.5 \n",
      "iter 300: Train accuracy 0.75 Test accuracy:  0.49285713 \n",
      "iter 320: Train accuracy 0.78125 Test accuracy:  0.49714285 \n",
      "iter 340: Train accuracy 0.796875 Test accuracy:  0.47142857 \n",
      "iter 360: Train accuracy 0.789062 Test accuracy:  0.49285713 \n",
      "iter 380: Train accuracy 0.820312 Test accuracy:  0.4842857 \n",
      "iter 400: Train accuracy 0.851562 Test accuracy:  0.49571428 \n",
      "iter 420: Train accuracy 0.742188 Test accuracy:  0.47714287 \n",
      "iter 440: Train accuracy 0.859375 Test accuracy:  0.48285714 \n",
      "iter 460: Train accuracy 0.757812 Test accuracy:  0.48285714 \n",
      "iter 480: Train accuracy 0.828125 Test accuracy:  0.49 \n",
      "iter 500: Train accuracy 0.773438 Test accuracy:  0.4857143 \n",
      "iter 520: Train accuracy 0.757812 Test accuracy:  0.49285713 \n",
      "iter 540: Train accuracy 0.796875 Test accuracy:  0.51285714 \n",
      "iter 560: Train accuracy 0.875 Test accuracy:  0.50142854 \n",
      "iter 580: Train accuracy 0.835938 Test accuracy:  0.48714286 \n",
      "iter 600: Train accuracy 0.789062 Test accuracy:  0.51 \n",
      "iter 620: Train accuracy 0.835938 Test accuracy:  0.49857143 \n",
      "iter 640: Train accuracy 0.804688 Test accuracy:  0.48285714 \n",
      "iter 660: Train accuracy 0.8125 Test accuracy:  0.49571428 \n",
      "iter 680: Train accuracy 0.828125 Test accuracy:  0.4757143 \n",
      "iter 700: Train accuracy 0.78125 Test accuracy:  0.47142857 \n",
      "iter 720: Train accuracy 0.78125 Test accuracy:  0.47857141 \n",
      "iter 740: Train accuracy 0.765625 Test accuracy:  0.46571428 \n",
      "iter 760: Train accuracy 0.78125 Test accuracy:  0.4642857 \n",
      "iter 780: Train accuracy 0.8125 Test accuracy:  0.47714287 \n",
      "iter 800: Train accuracy 0.8125 Test accuracy:  0.49 \n",
      "iter 820: Train accuracy 0.804688 Test accuracy:  0.48857144 \n",
      "iter 840: Train accuracy 0.773438 Test accuracy:  0.5 \n",
      "iter 860: Train accuracy 0.765625 Test accuracy:  0.47714287 \n",
      "iter 880: Train accuracy 0.765625 Test accuracy:  0.47 \n",
      "iter 900: Train accuracy 0.78125 Test accuracy:  0.48857144 \n",
      "iter 920: Train accuracy 0.773438 Test accuracy:  0.47142857 \n",
      "iter 940: Train accuracy 0.789062 Test accuracy:  0.49857143 \n",
      "iter 960: Train accuracy 0.796875 Test accuracy:  0.4942857 \n",
      "iter 980: Train accuracy 0.78125 Test accuracy:  0.49857143 \n",
      "iter 1000: Train accuracy 0.875 Test accuracy:  0.49571428 \n",
      "iter 1020: Train accuracy 0.828125 Test accuracy:  0.49857143 \n",
      "iter 1040: Train accuracy 0.742188 Test accuracy:  0.46 \n",
      "iter 1060: Train accuracy 0.789062 Test accuracy:  0.46714285 \n",
      "iter 1080: Train accuracy 0.820312 Test accuracy:  0.50285715 \n",
      "iter 1100: Train accuracy 0.882812 Test accuracy:  0.48714286 \n",
      "iter 1120: Train accuracy 0.773438 Test accuracy:  0.4842857 \n",
      "iter 1140: Train accuracy 0.890625 Test accuracy:  0.5 \n",
      "iter 1160: Train accuracy 0.789062 Test accuracy:  0.5 \n",
      "iter 1180: Train accuracy 0.796875 Test accuracy:  0.48285714 \n",
      "iter 1200: Train accuracy 0.851562 Test accuracy:  0.4942857 \n",
      "iter 1220: Train accuracy 0.8125 Test accuracy:  0.49571428 \n",
      "iter 1240: Train accuracy 0.773438 Test accuracy:  0.46714285 \n",
      "iter 1260: Train accuracy 0.773438 Test accuracy:  0.49142858 \n",
      "iter 1280: Train accuracy 0.796875 Test accuracy:  0.48857144 \n",
      "iter 1300: Train accuracy 0.765625 Test accuracy:  0.48714286 \n",
      "iter 1320: Train accuracy 0.820312 Test accuracy:  0.47285715 \n",
      "iter 1340: Train accuracy 0.773438 Test accuracy:  0.49142858 \n",
      "iter 1360: Train accuracy 0.789062 Test accuracy:  0.49857143 \n",
      "iter 1380: Train accuracy 0.75 Test accuracy:  0.4842857 \n",
      "iter 1400: Train accuracy 0.757812 Test accuracy:  0.48 \n",
      "iter 1420: Train accuracy 0.789062 Test accuracy:  0.47714287 \n",
      "iter 1440: Train accuracy 0.773438 Test accuracy:  0.48857144 \n",
      "iter 1460: Train accuracy 0.851562 Test accuracy:  0.5057143 \n",
      "iter 1480: Train accuracy 0.789062 Test accuracy:  0.5057143 \n",
      "iter 1500: Train accuracy 0.78125 Test accuracy:  0.48714286 \n",
      "iter 1520: Train accuracy 0.789062 Test accuracy:  0.51714283 *\n",
      "iter 1540: Train accuracy 0.820312 Test accuracy:  0.5057143 \n",
      "iter 1560: Train accuracy 0.789062 Test accuracy:  0.5 \n",
      "iter 1580: Train accuracy 0.8125 Test accuracy:  0.47714287 \n",
      "iter 1600: Train accuracy 0.796875 Test accuracy:  0.48 \n",
      "iter 1620: Train accuracy 0.851562 Test accuracy:  0.46857142 \n",
      "iter 1640: Train accuracy 0.828125 Test accuracy:  0.47714287 \n",
      "iter 1660: Train accuracy 0.757812 Test accuracy:  0.4857143 \n",
      "iter 1680: Train accuracy 0.851562 Test accuracy:  0.4942857 \n",
      "iter 1700: Train accuracy 0.773438 Test accuracy:  0.47142857 \n",
      "iter 1720: Train accuracy 0.757812 Test accuracy:  0.48714286 \n",
      "iter 1740: Train accuracy 0.796875 Test accuracy:  0.49 \n",
      "iter 1760: Train accuracy 0.742188 Test accuracy:  0.48285714 \n",
      "iter 1780: Train accuracy 0.75 Test accuracy:  0.49 \n",
      "iter 1800: Train accuracy 0.8125 Test accuracy:  0.50285715 \n",
      "iter 1820: Train accuracy 0.765625 Test accuracy:  0.48 \n",
      "iter 1840: Train accuracy 0.765625 Test accuracy:  0.49857143 \n",
      "iter 1860: Train accuracy 0.867188 Test accuracy:  0.46142858 \n",
      "iter 1880: Train accuracy 0.734375 Test accuracy:  0.4857143 \n",
      "iter 1900: Train accuracy 0.789062 Test accuracy:  0.4642857 \n",
      "iter 1920: Train accuracy 0.765625 Test accuracy:  0.4842857 \n",
      "iter 1940: Train accuracy 0.78125 Test accuracy:  0.49142858 \n",
      "iter 1960: Train accuracy 0.789062 Test accuracy:  0.51714283 \n",
      "iter 1980: Train accuracy 0.8125 Test accuracy:  0.49857143 \n",
      "iter 1999: Train accuracy 0.773438 Test accuracy:  0.4857143 \n",
      "Time usage: 0:20:38\n"
     ]
    },
    {
     "data": {
      "image/png": "[encoded data removed]",
      "text/plain": [
       "<Figure size 432x288 with 1 Axes>"
      ]
     },
     "metadata": {},
     "output_type": "display_data"
    },
    {
     "data": {
      "image/png": "[encoded data removed]",
      "text/plain": [
       "<Figure size 432x288 with 1 Axes>"
      ]
     },
     "metadata": {},
     "output_type": "display_data"
    }
   ],
   "source": [
    "print(\"BATCH_SIZE=\", BATCH_SIZE)\n",
    "total_iterations = 0\n",
    "train_acc = []\n",
    "start_time = time.time()\n",
    "train_acc_record = []\n",
    "test_acc_record = []\n",
    "epoch_time_record = []\n",
    "\n",
    "best_test_acc = 0.0\n",
    "last_improvement = 0\n",
    "improved_str = \"\"\n",
    "test_count = 0\n",
    "mul = int(len(trainX)/BATCH_SIZE)\n",
    "\n",
    "with tf.Session() as sess:\n",
    "    sess.run(tf.global_variables_initializer())\n",
    "\n",
    "    for i in range(EPOCHS):\n",
    "        epoch_start_time = time.time()\n",
    "        \n",
    "        for j in range(len(x_allBatch)):\n",
    "            feed_dict_train = {x: x_allBatch[j], d: y_allBatch[j]}\n",
    "            sess.run(train_op, feed_dict={x: x_allBatch[j], d: y_allBatch[j]})\n",
    "\n",
    "        train_acc_record.append(accuracy.eval(feed_dict={x: x_allBatch[j], d: y_allBatch[j]}))\n",
    "        epoch_end_time = time.time()\n",
    "        epoch_time_diff = epoch_end_time-epoch_start_time\n",
    "        epoch_time_record.append(epoch_time_diff)\n",
    "\n",
    "        if (i % 20 == 0 or i == (EPOCHS - 1)):\n",
    "            test_count += 1\n",
    "            test_accuracy = sess.run(accuracy, feed_dict={x: testX, d: testY})\n",
    "            test_acc_record.append(test_accuracy)\n",
    "            if DROP:\n",
    "                if test_accuracy > best_test_acc:\n",
    "                    best_test_acc = test_accuracy\n",
    "                    last_improvement = i\n",
    "                    saver.save(sess=sess, save_path=RESULT_DIR)\n",
    "                    improved_str = \"*\"\n",
    "                else:\n",
    "                    improved_str = ''\n",
    "            else:\n",
    "                saver.save(sess=sess, save_path=RESULT_DIR)\n",
    "\n",
    "            print('iter %d: Train accuracy %g'%(i, train_acc_record[i]), 'Test accuracy: ',test_accuracy, improved_str)\n",
    "\n",
    "\n",
    "\n",
    "# Ending time.\n",
    "end_time = time.time()\n",
    "\n",
    "# Difference between start and end-times.\n",
    "time_dif = end_time - start_time\n",
    "\n",
    "# Print the time-usage.\n",
    "print(\"Time usage: \" + str(timedelta(seconds=int(round(time_dif)))))\n",
    "\n",
    "train_graphName = \"PartB-Q1-Train\"+str(EPOCHS)+'-'+str(BATCH_SIZE)+\".png\"\n",
    "test_graphName = \"PartB-Q1-Test\"+str(EPOCHS)+'-'+str(BATCH_SIZE)+\".png\"\n",
    "plot_graph(EPOCHS, BATCH_SIZE, train_acc_record,train_graphName, isTrain = True, error=True)\n",
    "plot_graph(test_count, BATCH_SIZE, test_acc_record, test_graphName, isTrain = False)\n",
    "\n",
    "\n",
    "train_acc_backup.append(train_acc_record)\n",
    "test_acc_backup.append(test_acc_record)\n",
    "time_usage_backup.append(epoch_time_record)\n",
    "total_time_backup.append(time_dif)\n",
    "\n",
    "#=========== Save all the data for EACH TRAINING Has Done ============#\n",
    "fileNameTail = str(EPOCHS)+'-'+str(BATCH_SIZE)+\".out\"\n",
    "\n",
    "train_acc_filename = \"PartB-Q1-Train_Acc-\"+fileNameTail\n",
    "with open(os.path.join(RESULT_DIR, train_acc_filename), 'wb') as fp:\n",
    "    pickle.dump(train_acc_backup, fp)\n",
    "\n",
    "test_acc_filename = \"PartB-Q1-Test_Acc-\"+fileNameTail\n",
    "with open(os.path.join(RESULT_DIR, train_acc_filename), 'wb') as fp:\n",
    "    pickle.dump(test_acc_backup, fp)\n",
    "\n",
    "time_usage_filename = \"PartB-Q1-Time_Usage-\"+fileNameTail\n",
    "with open(os.path.join(RESULT_DIR, time_usage_filename), 'wb') as fp:\n",
    "    pickle.dump(time_usage_backup, fp)\n",
    "\n",
    "time_usage_filename = \"PartB-Q1-Time_Usage-\"+fileNameTail\n",
    "with open(os.path.join(RESULT_DIR, time_usage_filename), 'wb') as fp:\n",
    "    pickle.dump(time_usage_backup, fp)        \n"
   ]
  },
  {
   "cell_type": "code",
   "execution_count": null,
   "metadata": {},
   "outputs": [],
   "source": []
  },
  {
   "cell_type": "code",
   "execution_count": null,
   "metadata": {},
   "outputs": [],
   "source": []
  }
 ],
 "metadata": {
  "kernelspec": {
   "display_name": "Python 3",
   "language": "python",
   "name": "python3"
  },
  "language_info": {
   "codemirror_mode": {
    "name": "ipython",
    "version": 3
   },
   "file_extension": ".py",
   "mimetype": "text/x-python",
   "name": "python",
   "nbconvert_exporter": "python",
   "pygments_lexer": "ipython3",
   "version": "3.6.5"
  }
 },
 "nbformat": 4,
 "nbformat_minor": 2
}
